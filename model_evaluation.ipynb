{
 "cells": [
  {
   "cell_type": "code",
   "execution_count": 1,
   "id": "0a1b3640-ae23-478f-8c56-3889abd1954b",
   "metadata": {},
   "outputs": [],
   "source": [
    "import pandas as pd\n",
    "import openpyxl\n",
    "\n",
    "from scipy import stats\n",
    "from sklearn.model_selection import train_test_split\n",
    "from sklearn.impute import SimpleImputer\n",
    "from pydataset import data\n",
    "from sklearn.metrics import recall_score, accuracy_score, precision_score"
   ]
  },
  {
   "cell_type": "code",
   "execution_count": 2,
   "id": "39b75288-3b2f-4023-bbdb-87015f277401",
   "metadata": {},
   "outputs": [
    {
     "data": {
      "text/html": [
       "<div>\n",
       "<style scoped>\n",
       "    .dataframe tbody tr th:only-of-type {\n",
       "        vertical-align: middle;\n",
       "    }\n",
       "\n",
       "    .dataframe tbody tr th {\n",
       "        vertical-align: top;\n",
       "    }\n",
       "\n",
       "    .dataframe thead th {\n",
       "        text-align: right;\n",
       "    }\n",
       "</style>\n",
       "<table border=\"1\" class=\"dataframe\">\n",
       "  <thead>\n",
       "    <tr style=\"text-align: right;\">\n",
       "      <th></th>\n",
       "      <th>Predicted Positive</th>\n",
       "      <th>Predicted Negative</th>\n",
       "    </tr>\n",
       "    <tr>\n",
       "      <th></th>\n",
       "      <th></th>\n",
       "      <th></th>\n",
       "    </tr>\n",
       "  </thead>\n",
       "  <tbody>\n",
       "    <tr>\n",
       "      <th>Actual Positive</th>\n",
       "      <td>True Positive (TP)</td>\n",
       "      <td>False Negative (FN)</td>\n",
       "    </tr>\n",
       "    <tr>\n",
       "      <th>Actual Negative</th>\n",
       "      <td>False Positive (FP)</td>\n",
       "      <td>True Negative (TN)</td>\n",
       "    </tr>\n",
       "    <tr>\n",
       "      <th></th>\n",
       "      <td></td>\n",
       "      <td></td>\n",
       "    </tr>\n",
       "    <tr>\n",
       "      <th>Accuracy</th>\n",
       "      <td>(TP + TN) /</td>\n",
       "      <td>(TP + TN + FP + FN)</td>\n",
       "    </tr>\n",
       "    <tr>\n",
       "      <th>Precision</th>\n",
       "      <td>TP /</td>\n",
       "      <td>(TP + FP)</td>\n",
       "    </tr>\n",
       "    <tr>\n",
       "      <th>Recall</th>\n",
       "      <td>TP /</td>\n",
       "      <td>(TP + FN)</td>\n",
       "    </tr>\n",
       "  </tbody>\n",
       "</table>\n",
       "</div>"
      ],
      "text/plain": [
       "                  Predicted Positive   Predicted Negative\n",
       "                                                         \n",
       "Actual Positive   True Positive (TP)  False Negative (FN)\n",
       "Actual Negative  False Positive (FP)   True Negative (TN)\n",
       "                                                         \n",
       "Accuracy                 (TP + TN) /  (TP + TN + FP + FN)\n",
       "Precision                       TP /            (TP + FP)\n",
       "Recall                         TP /            (TP + FN) "
      ]
     },
     "execution_count": 2,
     "metadata": {},
     "output_type": "execute_result"
    }
   ],
   "source": [
    "#creating a rubric for the metrics\n",
    "\n",
    "data = {\n",
    "    '': ['Actual Positive', 'Actual Negative', ' ', 'Accuracy', 'Precision', 'Recall'] ,\n",
    "    'Predicted Positive': ['True Positive (TP)', 'False Positive (FP)', ' ', '(TP + TN) /', 'TP /', 'TP / '],\n",
    "    'Predicted Negative': ['False Negative (FN)', 'True Negative (TN)', ' ', '(TP + TN + FP + FN)', '(TP + FP)', '(TP + FN) '], \n",
    "}\n",
    "\n",
    "rubric = pd.DataFrame(data)\n",
    "rubric.set_index('', inplace=True)\n",
    "rubric"
   ]
  },
  {
   "cell_type": "markdown",
   "id": "8e596260-bee5-496a-9085-c51d9b7902d5",
   "metadata": {},
   "source": [
    "# 2) \n",
    "Given the following confusion matrix, evaluate (by hand) the model's performance."
   ]
  },
  {
   "cell_type": "code",
   "execution_count": 3,
   "id": "d3008671-4fb5-4053-bba2-60eec02474e5",
   "metadata": {},
   "outputs": [
    {
     "data": {
      "text/html": [
       "<div>\n",
       "<style scoped>\n",
       "    .dataframe tbody tr th:only-of-type {\n",
       "        vertical-align: middle;\n",
       "    }\n",
       "\n",
       "    .dataframe tbody tr th {\n",
       "        vertical-align: top;\n",
       "    }\n",
       "\n",
       "    .dataframe thead th {\n",
       "        text-align: right;\n",
       "    }\n",
       "</style>\n",
       "<table border=\"1\" class=\"dataframe\">\n",
       "  <thead>\n",
       "    <tr style=\"text-align: right;\">\n",
       "      <th></th>\n",
       "      <th>pred dog</th>\n",
       "      <th>pred cat</th>\n",
       "    </tr>\n",
       "  </thead>\n",
       "  <tbody>\n",
       "    <tr>\n",
       "      <th>actual dog</th>\n",
       "      <td>46</td>\n",
       "      <td>7</td>\n",
       "    </tr>\n",
       "    <tr>\n",
       "      <th>actual cat</th>\n",
       "      <td>13</td>\n",
       "      <td>34</td>\n",
       "    </tr>\n",
       "  </tbody>\n",
       "</table>\n",
       "</div>"
      ],
      "text/plain": [
       "           pred dog pred cat\n",
       "actual dog       46        7\n",
       "actual cat       13       34"
      ]
     },
     "execution_count": 3,
     "metadata": {},
     "output_type": "execute_result"
    }
   ],
   "source": [
    "#creating table\n",
    "\n",
    "data = ({'pred dog': ['46', '13'], 'pred cat': ['7', '34']})\n",
    "index_labels = ['actual dog', 'actual cat']\n",
    "dc_df = pd.DataFrame(data, index_labels)\n",
    "dc_df"
   ]
  },
  {
   "cell_type": "markdown",
   "id": "9f995390-a103-4dd9-a5dd-7c5821c63afb",
   "metadata": {},
   "source": [
    "a) In the context of this problem, what is a false positive?"
   ]
  },
  {
   "cell_type": "markdown",
   "id": "caddce48-7526-4fc7-9bf3-c8f53790db1a",
   "metadata": {},
   "source": [
    "False positive is predicting that there are 13 dogs when in actuality they were cats."
   ]
  },
  {
   "cell_type": "markdown",
   "id": "00577479-9df8-4981-bb4b-12d30087e04d",
   "metadata": {},
   "source": [
    "b) In the context of this problem, what is a false negative?"
   ]
  },
  {
   "cell_type": "markdown",
   "id": "c63fb804-1c89-4d06-a6b3-3c3a3adcde97",
   "metadata": {},
   "source": [
    "False negative is predicting that there are 7 cats but in actuality they were dogs."
   ]
  },
  {
   "cell_type": "markdown",
   "id": "94309436-8326-4b44-a287-ab8016397ed8",
   "metadata": {},
   "source": [
    "c) How would you describe this model?"
   ]
  },
  {
   "cell_type": "markdown",
   "id": "1e75b903-d2e6-40ea-8e0a-68bc42ca0f75",
   "metadata": {},
   "source": [
    "Evaluating our baseline!\n",
    "\n",
    "Accuracy = (46 + 34) / (46 + 34 + 13 + 7)  \n",
    "ans=> 4 / 5\n",
    "\n",
    "Presision = 46 / (46 + 13)  \n",
    "ans=> 46 / 59\n",
    "\n",
    "Recall = 46 / (46 + 7)   \n",
    "ans=> 46/53"
   ]
  },
  {
   "cell_type": "markdown",
   "id": "382bd397-1092-412e-b3fc-35b428d62951",
   "metadata": {},
   "source": [
    "# 3)\n",
    "You are working as a datascientist working for Codeup Cody Creator (C3 for short), a rubber-duck manufacturing plant.\n",
    "\n",
    "Unfortunately, some of the rubber ducks that are produced will have defects. Your team has built several models that try to predict those defects, and the data from their predictions can be found here.\n",
    "\n",
    "Use the predictions dataset and pandas to help answer the following questions:"
   ]
  },
  {
   "cell_type": "code",
   "execution_count": 4,
   "id": "3db1af61-6728-46e6-9ce9-f086b1f68480",
   "metadata": {},
   "outputs": [],
   "source": [
    "df_google = pd.read_excel('google_train.xlsx')"
   ]
  },
  {
   "cell_type": "code",
   "execution_count": 5,
   "id": "87cd6b29-42d3-421e-be39-a44b65369b21",
   "metadata": {},
   "outputs": [
    {
     "data": {
      "text/html": [
       "<div>\n",
       "<style scoped>\n",
       "    .dataframe tbody tr th:only-of-type {\n",
       "        vertical-align: middle;\n",
       "    }\n",
       "\n",
       "    .dataframe tbody tr th {\n",
       "        vertical-align: top;\n",
       "    }\n",
       "\n",
       "    .dataframe thead th {\n",
       "        text-align: right;\n",
       "    }\n",
       "</style>\n",
       "<table border=\"1\" class=\"dataframe\">\n",
       "  <thead>\n",
       "    <tr style=\"text-align: right;\">\n",
       "      <th></th>\n",
       "      <th>actual</th>\n",
       "      <th>model1</th>\n",
       "      <th>model2</th>\n",
       "      <th>model3</th>\n",
       "    </tr>\n",
       "  </thead>\n",
       "  <tbody>\n",
       "    <tr>\n",
       "      <th>0</th>\n",
       "      <td>No Defect</td>\n",
       "      <td>No Defect</td>\n",
       "      <td>Defect</td>\n",
       "      <td>No Defect</td>\n",
       "    </tr>\n",
       "    <tr>\n",
       "      <th>1</th>\n",
       "      <td>No Defect</td>\n",
       "      <td>No Defect</td>\n",
       "      <td>Defect</td>\n",
       "      <td>Defect</td>\n",
       "    </tr>\n",
       "    <tr>\n",
       "      <th>2</th>\n",
       "      <td>No Defect</td>\n",
       "      <td>No Defect</td>\n",
       "      <td>Defect</td>\n",
       "      <td>No Defect</td>\n",
       "    </tr>\n",
       "    <tr>\n",
       "      <th>3</th>\n",
       "      <td>No Defect</td>\n",
       "      <td>Defect</td>\n",
       "      <td>Defect</td>\n",
       "      <td>Defect</td>\n",
       "    </tr>\n",
       "    <tr>\n",
       "      <th>4</th>\n",
       "      <td>No Defect</td>\n",
       "      <td>No Defect</td>\n",
       "      <td>Defect</td>\n",
       "      <td>No Defect</td>\n",
       "    </tr>\n",
       "  </tbody>\n",
       "</table>\n",
       "</div>"
      ],
      "text/plain": [
       "      actual     model1  model2     model3\n",
       "0  No Defect  No Defect  Defect  No Defect\n",
       "1  No Defect  No Defect  Defect     Defect\n",
       "2  No Defect  No Defect  Defect  No Defect\n",
       "3  No Defect     Defect  Defect     Defect\n",
       "4  No Defect  No Defect  Defect  No Defect"
      ]
     },
     "execution_count": 5,
     "metadata": {},
     "output_type": "execute_result"
    }
   ],
   "source": [
    "df = pd.read_csv('c3.csv')\n",
    "df.head()"
   ]
  },
  {
   "cell_type": "markdown",
   "id": "a26519a2-636d-474d-be15-614a54fd3030",
   "metadata": {},
   "source": [
    "a) An internal team wants to investigate the cause of the manufacturing defects. They tell you that they want to identify as many of the ducks that have a defect as possible. "
   ]
  },
  {
   "cell_type": "code",
   "execution_count": 6,
   "id": "31e07f12-e1ae-4f03-a11a-4e835c76dfaf",
   "metadata": {},
   "outputs": [],
   "source": [
    "#grouping all No Defect and Defects from all columns\n",
    "\n",
    "act_nd = (df.actual == 'No Defect').sum()\n",
    "act_d = (df.actual == 'Defect').sum()\n",
    "\n",
    "mod1_nd = (df.model1 == 'No Defect').sum()\n",
    "mod1_d = (df.model1 == 'Defect').sum()\n",
    "\n",
    "mod2_nd = (df.model2 == 'No Defect').sum()\n",
    "mod2_d = (df.model2 == 'Defect').sum()\n",
    "\n",
    "mod3_nd = (df.model3 == 'No Defect').sum()\n",
    "mod3_d = (df.model3 == 'Defect').sum()"
   ]
  },
  {
   "cell_type": "markdown",
   "id": "4c7dfc08-c104-42e3-b356-e2ed3990f14f",
   "metadata": {},
   "source": [
    "# model 1"
   ]
  },
  {
   "cell_type": "code",
   "execution_count": 7,
   "id": "0a891e3f-af45-4411-b7f1-8105a3502225",
   "metadata": {},
   "outputs": [
    {
     "data": {
      "text/html": [
       "<div>\n",
       "<style scoped>\n",
       "    .dataframe tbody tr th:only-of-type {\n",
       "        vertical-align: middle;\n",
       "    }\n",
       "\n",
       "    .dataframe tbody tr th {\n",
       "        vertical-align: top;\n",
       "    }\n",
       "\n",
       "    .dataframe thead th {\n",
       "        text-align: right;\n",
       "    }\n",
       "</style>\n",
       "<table border=\"1\" class=\"dataframe\">\n",
       "  <thead>\n",
       "    <tr style=\"text-align: right;\">\n",
       "      <th>model1</th>\n",
       "      <th>Defect</th>\n",
       "      <th>No Defect</th>\n",
       "    </tr>\n",
       "    <tr>\n",
       "      <th>actual</th>\n",
       "      <th></th>\n",
       "      <th></th>\n",
       "    </tr>\n",
       "  </thead>\n",
       "  <tbody>\n",
       "    <tr>\n",
       "      <th>Defect</th>\n",
       "      <td>8</td>\n",
       "      <td>8</td>\n",
       "    </tr>\n",
       "    <tr>\n",
       "      <th>No Defect</th>\n",
       "      <td>2</td>\n",
       "      <td>182</td>\n",
       "    </tr>\n",
       "  </tbody>\n",
       "</table>\n",
       "</div>"
      ],
      "text/plain": [
       "model1     Defect  No Defect\n",
       "actual                      \n",
       "Defect          8          8\n",
       "No Defect       2        182"
      ]
     },
     "execution_count": 7,
     "metadata": {},
     "output_type": "execute_result"
    }
   ],
   "source": [
    "#creating a crosstab of the actual and model1 columns\n",
    "\n",
    "pd.crosstab(df.actual, df.model1)"
   ]
  },
  {
   "cell_type": "markdown",
   "id": "618ee6b1-7a39-4da2-bf8e-df4ba582fac2",
   "metadata": {},
   "source": [
    "Evaluating model 1!\n",
    "\n",
    "Accuracy = (8 + 182) / (8 + 182 + 2 + 8)   \n",
    "ans=> 0.95\n",
    "\n",
    "Presision =  8 / (8 + 2)   \n",
    "ans=> 0.8\n",
    "\n",
    "Recall = 8 / (8 + 8)     \n",
    "ans=> 0.5"
   ]
  },
  {
   "cell_type": "markdown",
   "id": "b4252fa0-0455-4d15-9c75-8b524c218c34",
   "metadata": {},
   "source": [
    "# model 2"
   ]
  },
  {
   "cell_type": "code",
   "execution_count": 8,
   "id": "2c896f60-f1bc-4f40-9841-a370fd623009",
   "metadata": {},
   "outputs": [
    {
     "data": {
      "text/html": [
       "<div>\n",
       "<style scoped>\n",
       "    .dataframe tbody tr th:only-of-type {\n",
       "        vertical-align: middle;\n",
       "    }\n",
       "\n",
       "    .dataframe tbody tr th {\n",
       "        vertical-align: top;\n",
       "    }\n",
       "\n",
       "    .dataframe thead th {\n",
       "        text-align: right;\n",
       "    }\n",
       "</style>\n",
       "<table border=\"1\" class=\"dataframe\">\n",
       "  <thead>\n",
       "    <tr style=\"text-align: right;\">\n",
       "      <th>model2</th>\n",
       "      <th>Defect</th>\n",
       "      <th>No Defect</th>\n",
       "    </tr>\n",
       "    <tr>\n",
       "      <th>actual</th>\n",
       "      <th></th>\n",
       "      <th></th>\n",
       "    </tr>\n",
       "  </thead>\n",
       "  <tbody>\n",
       "    <tr>\n",
       "      <th>Defect</th>\n",
       "      <td>9</td>\n",
       "      <td>7</td>\n",
       "    </tr>\n",
       "    <tr>\n",
       "      <th>No Defect</th>\n",
       "      <td>81</td>\n",
       "      <td>103</td>\n",
       "    </tr>\n",
       "  </tbody>\n",
       "</table>\n",
       "</div>"
      ],
      "text/plain": [
       "model2     Defect  No Defect\n",
       "actual                      \n",
       "Defect          9          7\n",
       "No Defect      81        103"
      ]
     },
     "execution_count": 8,
     "metadata": {},
     "output_type": "execute_result"
    }
   ],
   "source": [
    "#creating a crosstab of the actual and model2 columns\n",
    "\n",
    "pd.crosstab(df.actual, df.model2)"
   ]
  },
  {
   "cell_type": "markdown",
   "id": "5d73c5b9-3a70-4513-8661-848d7703ff55",
   "metadata": {},
   "source": [
    "Evaluating model 2!\n",
    "\n",
    "Accuracy = (9 + 103) / (9 + 103 + 81 + 7)  \n",
    "ans=> 0.56\n",
    "\n",
    "Precision = 9 / (9 + 81)  \n",
    "ans=> 0.1\n",
    "\n",
    "Recall = 9 / (9 + 7)  \n",
    "ans=> 0.56"
   ]
  },
  {
   "cell_type": "markdown",
   "id": "eb05db27-9811-4f50-bcb6-42a6b4bdee01",
   "metadata": {},
   "source": [
    "# model 3"
   ]
  },
  {
   "cell_type": "code",
   "execution_count": 9,
   "id": "5fd4da78-d868-41db-ad89-6562b3ae561e",
   "metadata": {},
   "outputs": [
    {
     "data": {
      "text/html": [
       "<div>\n",
       "<style scoped>\n",
       "    .dataframe tbody tr th:only-of-type {\n",
       "        vertical-align: middle;\n",
       "    }\n",
       "\n",
       "    .dataframe tbody tr th {\n",
       "        vertical-align: top;\n",
       "    }\n",
       "\n",
       "    .dataframe thead th {\n",
       "        text-align: right;\n",
       "    }\n",
       "</style>\n",
       "<table border=\"1\" class=\"dataframe\">\n",
       "  <thead>\n",
       "    <tr style=\"text-align: right;\">\n",
       "      <th>model3</th>\n",
       "      <th>Defect</th>\n",
       "      <th>No Defect</th>\n",
       "    </tr>\n",
       "    <tr>\n",
       "      <th>actual</th>\n",
       "      <th></th>\n",
       "      <th></th>\n",
       "    </tr>\n",
       "  </thead>\n",
       "  <tbody>\n",
       "    <tr>\n",
       "      <th>Defect</th>\n",
       "      <td>13</td>\n",
       "      <td>3</td>\n",
       "    </tr>\n",
       "    <tr>\n",
       "      <th>No Defect</th>\n",
       "      <td>86</td>\n",
       "      <td>98</td>\n",
       "    </tr>\n",
       "  </tbody>\n",
       "</table>\n",
       "</div>"
      ],
      "text/plain": [
       "model3     Defect  No Defect\n",
       "actual                      \n",
       "Defect         13          3\n",
       "No Defect      86         98"
      ]
     },
     "execution_count": 9,
     "metadata": {},
     "output_type": "execute_result"
    }
   ],
   "source": [
    "#creating a crosstab of the actual and model3 columns\n",
    "\n",
    "pd.crosstab(df.actual, df.model3)"
   ]
  },
  {
   "cell_type": "markdown",
   "id": "f3c6a9e0-291a-4f80-8454-dca929bdc43f",
   "metadata": {},
   "source": [
    "Evaluating model 3!\n",
    "\n",
    "Accuracy = (13 + 98) / (13 + 98 + 86 + 3)  \n",
    "ans=> 0.56\n",
    "\n",
    "Precision = 13 / (13 + 86)  \n",
    "ans=> 0.13\n",
    "\n",
    "Recall = 13 / (13 + 3)  \n",
    "ans=> 0.81"
   ]
  },
  {
   "cell_type": "markdown",
   "id": "c628446b-7943-4acf-bc08-d04d84c5f125",
   "metadata": {},
   "source": [
    "Which evaluation metric would be appropriate here? Which model would be the best fit for this use case?"
   ]
  },
  {
   "cell_type": "markdown",
   "id": "902188c4-70bf-49ac-bd48-97cb5413f5c1",
   "metadata": {},
   "source": [
    "i) Recall will be the best metric to use in this case because to correctly identify defective ducks we will need to focus on minimizing as much false negatives(defective ducks predicted as non-defective) as possible.\n",
    "\n",
    "ii) The best model to use in the case will be model 3 because it has the highest recall prediction percentage amongst all three models."
   ]
  },
  {
   "cell_type": "markdown",
   "id": "5e8b7c9e-52a6-4a3c-ba50-05219f121f26",
   "metadata": {},
   "source": [
    "b) Recently several stories in the local news have come out highlighting customers who received a rubber duck with a defect, \n",
    "\n",
    "and portraying C3 in a bad light. The PR team has decided to launch a program that gives customers with a defective duck a vacation to Hawaii. \n",
    "\n",
    "They need you to predict which ducks will have defects, but tell you the really don't want to accidentally give out a vacation package when the duck really doesn't have a defect.\n",
    "\n",
    "Which evaluation metric would be appropriate here? Which model would be the best fit for this use case?"
   ]
  },
  {
   "cell_type": "markdown",
   "id": "3aef2bba-1a6e-447a-823c-e25a504999ed",
   "metadata": {},
   "source": [
    "i) Precision will be the best metric to use in this case because it minimizes all the false positive outcomes and   \n",
    "we don't want C3 to give out free vacations to customers that got non-defective ducks\n",
    "\n",
    "ii) The best model to use in this case will be model 1 becasue it has the highest precision prediction percentage amongst all three models."
   ]
  },
  {
   "cell_type": "markdown",
   "id": "212d3677-197e-4ae2-8def-1ab8b9c82864",
   "metadata": {},
   "source": [
    "# 4)\n",
    "You are working as a data scientist for Gives You Paws ™, a subscription based service that shows you cute pictures of dogs or cats (or both for an additional fee).\n",
    "\n",
    "At Gives You Paws, anyone can upload pictures of their cats or dogs. The photos are then put through a two step process.  \n",
    "First an automated algorithm tags pictures as either a cat or a dog (Phase I). Next, the photos that have been initially identified are put through   another round of review, possibly with some human oversight, before being presented to the users (Phase II).\n",
    "\n",
    "Given this dataset, use pandas to create a baseline model (i.e. a model that just predicts the most common class) and answer the following questions:\n"
   ]
  },
  {
   "cell_type": "code",
   "execution_count": 10,
   "id": "3758eb0b-edc9-4937-abe2-cd49f662ce68",
   "metadata": {},
   "outputs": [
    {
     "data": {
      "text/html": [
       "<div>\n",
       "<style scoped>\n",
       "    .dataframe tbody tr th:only-of-type {\n",
       "        vertical-align: middle;\n",
       "    }\n",
       "\n",
       "    .dataframe tbody tr th {\n",
       "        vertical-align: top;\n",
       "    }\n",
       "\n",
       "    .dataframe thead th {\n",
       "        text-align: right;\n",
       "    }\n",
       "</style>\n",
       "<table border=\"1\" class=\"dataframe\">\n",
       "  <thead>\n",
       "    <tr style=\"text-align: right;\">\n",
       "      <th></th>\n",
       "      <th>actual</th>\n",
       "      <th>model1</th>\n",
       "      <th>model2</th>\n",
       "      <th>model3</th>\n",
       "      <th>model4</th>\n",
       "    </tr>\n",
       "  </thead>\n",
       "  <tbody>\n",
       "    <tr>\n",
       "      <th>0</th>\n",
       "      <td>cat</td>\n",
       "      <td>cat</td>\n",
       "      <td>dog</td>\n",
       "      <td>cat</td>\n",
       "      <td>dog</td>\n",
       "    </tr>\n",
       "    <tr>\n",
       "      <th>1</th>\n",
       "      <td>dog</td>\n",
       "      <td>dog</td>\n",
       "      <td>cat</td>\n",
       "      <td>cat</td>\n",
       "      <td>dog</td>\n",
       "    </tr>\n",
       "    <tr>\n",
       "      <th>2</th>\n",
       "      <td>dog</td>\n",
       "      <td>cat</td>\n",
       "      <td>cat</td>\n",
       "      <td>cat</td>\n",
       "      <td>dog</td>\n",
       "    </tr>\n",
       "    <tr>\n",
       "      <th>3</th>\n",
       "      <td>dog</td>\n",
       "      <td>dog</td>\n",
       "      <td>dog</td>\n",
       "      <td>cat</td>\n",
       "      <td>dog</td>\n",
       "    </tr>\n",
       "    <tr>\n",
       "      <th>4</th>\n",
       "      <td>cat</td>\n",
       "      <td>cat</td>\n",
       "      <td>cat</td>\n",
       "      <td>dog</td>\n",
       "      <td>dog</td>\n",
       "    </tr>\n",
       "  </tbody>\n",
       "</table>\n",
       "</div>"
      ],
      "text/plain": [
       "  actual model1 model2 model3 model4\n",
       "0    cat    cat    dog    cat    dog\n",
       "1    dog    dog    cat    cat    dog\n",
       "2    dog    cat    cat    cat    dog\n",
       "3    dog    dog    dog    cat    dog\n",
       "4    cat    cat    cat    dog    dog"
      ]
     },
     "execution_count": 10,
     "metadata": {},
     "output_type": "execute_result"
    }
   ],
   "source": [
    "gyp_df = pd.read_csv('gives_you_paws.csv')\n",
    "gyp_df.head()"
   ]
  },
  {
   "cell_type": "markdown",
   "id": "0c541709-0011-4d7f-99ce-d8a559fb5a62",
   "metadata": {},
   "source": [
    "a) In terms of accuracy, how do the various models compare to the baseline model? Are any of the models better than the baseline?"
   ]
  },
  {
   "cell_type": "markdown",
   "id": "8ba79b8f-94b7-4488-ad1a-26c801b7eea0",
   "metadata": {},
   "source": [
    "# model 1"
   ]
  },
  {
   "cell_type": "code",
   "execution_count": 11,
   "id": "ce788b31-aa5e-4390-9c39-db8656591a61",
   "metadata": {},
   "outputs": [
    {
     "data": {
      "text/html": [
       "<div>\n",
       "<style scoped>\n",
       "    .dataframe tbody tr th:only-of-type {\n",
       "        vertical-align: middle;\n",
       "    }\n",
       "\n",
       "    .dataframe tbody tr th {\n",
       "        vertical-align: top;\n",
       "    }\n",
       "\n",
       "    .dataframe thead th {\n",
       "        text-align: right;\n",
       "    }\n",
       "</style>\n",
       "<table border=\"1\" class=\"dataframe\">\n",
       "  <thead>\n",
       "    <tr style=\"text-align: right;\">\n",
       "      <th>model1</th>\n",
       "      <th>cat</th>\n",
       "      <th>dog</th>\n",
       "    </tr>\n",
       "    <tr>\n",
       "      <th>actual</th>\n",
       "      <th></th>\n",
       "      <th></th>\n",
       "    </tr>\n",
       "  </thead>\n",
       "  <tbody>\n",
       "    <tr>\n",
       "      <th>cat</th>\n",
       "      <td>1423</td>\n",
       "      <td>323</td>\n",
       "    </tr>\n",
       "    <tr>\n",
       "      <th>dog</th>\n",
       "      <td>640</td>\n",
       "      <td>2614</td>\n",
       "    </tr>\n",
       "  </tbody>\n",
       "</table>\n",
       "</div>"
      ],
      "text/plain": [
       "model1   cat   dog\n",
       "actual            \n",
       "cat     1423   323\n",
       "dog      640  2614"
      ]
     },
     "execution_count": 11,
     "metadata": {},
     "output_type": "execute_result"
    }
   ],
   "source": [
    "#creating a crosstab of the actual and model1 columns\n",
    "\n",
    "pd.crosstab(gyp_df.actual, gyp_df.model1)"
   ]
  },
  {
   "cell_type": "markdown",
   "id": "400963ec-34a5-4783-85f7-81ffa3d45935",
   "metadata": {},
   "source": [
    "Evaluating model 1!\n",
    "\n",
    "Accuracy =  (1423 + 2614) / (1423 + 2614 + 323 + 640)  \n",
    "ans=> 0.80\n",
    "\n",
    "Presision(cats) =  1423 / (1423 + 640)  \n",
    "ans=> 0.69     \n",
    "Precision(dogs) = 2614 / (2614 + 323)  \n",
    "ans=>0.89\n",
    "\n",
    "Recall(cats) =  1423 / (1423 + 323)  \n",
    "ans=> 0.82  \n",
    "Recall(dogs) = 2614 / (2614 + 640)  \n",
    "ans=> 0.80"
   ]
  },
  {
   "cell_type": "markdown",
   "id": "cac27d42-8858-4798-bc0f-25b8819e27fe",
   "metadata": {},
   "source": [
    "# model 2"
   ]
  },
  {
   "cell_type": "code",
   "execution_count": 12,
   "id": "0bdb1c5d-2247-4a2b-a6c8-764ae2ebaad7",
   "metadata": {},
   "outputs": [
    {
     "data": {
      "text/html": [
       "<div>\n",
       "<style scoped>\n",
       "    .dataframe tbody tr th:only-of-type {\n",
       "        vertical-align: middle;\n",
       "    }\n",
       "\n",
       "    .dataframe tbody tr th {\n",
       "        vertical-align: top;\n",
       "    }\n",
       "\n",
       "    .dataframe thead th {\n",
       "        text-align: right;\n",
       "    }\n",
       "</style>\n",
       "<table border=\"1\" class=\"dataframe\">\n",
       "  <thead>\n",
       "    <tr style=\"text-align: right;\">\n",
       "      <th>model2</th>\n",
       "      <th>cat</th>\n",
       "      <th>dog</th>\n",
       "    </tr>\n",
       "    <tr>\n",
       "      <th>actual</th>\n",
       "      <th></th>\n",
       "      <th></th>\n",
       "    </tr>\n",
       "  </thead>\n",
       "  <tbody>\n",
       "    <tr>\n",
       "      <th>cat</th>\n",
       "      <td>1555</td>\n",
       "      <td>191</td>\n",
       "    </tr>\n",
       "    <tr>\n",
       "      <th>dog</th>\n",
       "      <td>1657</td>\n",
       "      <td>1597</td>\n",
       "    </tr>\n",
       "  </tbody>\n",
       "</table>\n",
       "</div>"
      ],
      "text/plain": [
       "model2   cat   dog\n",
       "actual            \n",
       "cat     1555   191\n",
       "dog     1657  1597"
      ]
     },
     "execution_count": 12,
     "metadata": {},
     "output_type": "execute_result"
    }
   ],
   "source": [
    "#creating a crosstab of the actual and model2 columns\n",
    "\n",
    "pd.crosstab(gyp_df.actual, gyp_df.model2)"
   ]
  },
  {
   "cell_type": "markdown",
   "id": "054f287e-d779-4f0a-ab6d-f395959e403c",
   "metadata": {},
   "source": [
    "Evaluating model 2!\n",
    "\n",
    "Accuracy =  (1555 + 1597) / (1555 + 191 + 1657 + 1597)  \n",
    "ans=> 0.52 \n",
    "\n",
    "Precision(cats) = 1555 / (1555 + 1657)  \n",
    "ans=>0.48    \n",
    "Precision(dogs) = 1597 / (1597 + 191)  \n",
    "ans=> 0.89\n",
    "\n",
    "Recall(cats) = 1555 / (1555 + 191)   \n",
    "ans=> 0.89  \n",
    "Recall(dogs) = 1597 / (1597 + 1657)  \n",
    "ans=> 0.49"
   ]
  },
  {
   "cell_type": "markdown",
   "id": "9f0ef6c0-73f6-425c-8b52-c525c3066f72",
   "metadata": {},
   "source": [
    "# model 3"
   ]
  },
  {
   "cell_type": "code",
   "execution_count": 13,
   "id": "1e5feba7-3ab6-427d-9175-e3292b934dcf",
   "metadata": {},
   "outputs": [
    {
     "data": {
      "text/html": [
       "<div>\n",
       "<style scoped>\n",
       "    .dataframe tbody tr th:only-of-type {\n",
       "        vertical-align: middle;\n",
       "    }\n",
       "\n",
       "    .dataframe tbody tr th {\n",
       "        vertical-align: top;\n",
       "    }\n",
       "\n",
       "    .dataframe thead th {\n",
       "        text-align: right;\n",
       "    }\n",
       "</style>\n",
       "<table border=\"1\" class=\"dataframe\">\n",
       "  <thead>\n",
       "    <tr style=\"text-align: right;\">\n",
       "      <th>model3</th>\n",
       "      <th>cat</th>\n",
       "      <th>dog</th>\n",
       "    </tr>\n",
       "    <tr>\n",
       "      <th>actual</th>\n",
       "      <th></th>\n",
       "      <th></th>\n",
       "    </tr>\n",
       "  </thead>\n",
       "  <tbody>\n",
       "    <tr>\n",
       "      <th>cat</th>\n",
       "      <td>893</td>\n",
       "      <td>853</td>\n",
       "    </tr>\n",
       "    <tr>\n",
       "      <th>dog</th>\n",
       "      <td>1599</td>\n",
       "      <td>1655</td>\n",
       "    </tr>\n",
       "  </tbody>\n",
       "</table>\n",
       "</div>"
      ],
      "text/plain": [
       "model3   cat   dog\n",
       "actual            \n",
       "cat      893   853\n",
       "dog     1599  1655"
      ]
     },
     "execution_count": 13,
     "metadata": {},
     "output_type": "execute_result"
    }
   ],
   "source": [
    "#creating a crosstab of the actual and model3 columns\n",
    "\n",
    "pd.crosstab(gyp_df.actual, gyp_df.model3)"
   ]
  },
  {
   "cell_type": "markdown",
   "id": "215ad2e5-d9f8-44c7-8621-687141a59b87",
   "metadata": {},
   "source": [
    "Evaluating model 3!\n",
    "\n",
    "Accuracy = (893 + 1655) / (893 + 853 + 1599 + 1655)  \n",
    "ans=> 0.52\n",
    "\n",
    "Precision(cats) = 893 / (893 + 1599)   \n",
    "ans=> 0.36  \n",
    "Precision(dogs) = 1655 / (1655 + 853)  \n",
    "ans=> 0.66\n",
    "\n",
    "Recall = 893 / (893 + 853)    \n",
    "ans=> 0.51  \n",
    "Recall = 1655 / (1655 + 1599)  \n",
    "ans=> 0.51"
   ]
  },
  {
   "cell_type": "markdown",
   "id": "310bfa32-87fa-4059-88eb-fb4014b2699a",
   "metadata": {},
   "source": [
    "# model 4"
   ]
  },
  {
   "cell_type": "code",
   "execution_count": 14,
   "id": "14648ed6-d7da-4682-84b0-8c55f316faf8",
   "metadata": {},
   "outputs": [
    {
     "data": {
      "text/html": [
       "<div>\n",
       "<style scoped>\n",
       "    .dataframe tbody tr th:only-of-type {\n",
       "        vertical-align: middle;\n",
       "    }\n",
       "\n",
       "    .dataframe tbody tr th {\n",
       "        vertical-align: top;\n",
       "    }\n",
       "\n",
       "    .dataframe thead th {\n",
       "        text-align: right;\n",
       "    }\n",
       "</style>\n",
       "<table border=\"1\" class=\"dataframe\">\n",
       "  <thead>\n",
       "    <tr style=\"text-align: right;\">\n",
       "      <th>model4</th>\n",
       "      <th>cat</th>\n",
       "      <th>dog</th>\n",
       "    </tr>\n",
       "    <tr>\n",
       "      <th>actual</th>\n",
       "      <th></th>\n",
       "      <th></th>\n",
       "    </tr>\n",
       "  </thead>\n",
       "  <tbody>\n",
       "    <tr>\n",
       "      <th>cat</th>\n",
       "      <td>603</td>\n",
       "      <td>1143</td>\n",
       "    </tr>\n",
       "    <tr>\n",
       "      <th>dog</th>\n",
       "      <td>144</td>\n",
       "      <td>3110</td>\n",
       "    </tr>\n",
       "  </tbody>\n",
       "</table>\n",
       "</div>"
      ],
      "text/plain": [
       "model4  cat   dog\n",
       "actual           \n",
       "cat     603  1143\n",
       "dog     144  3110"
      ]
     },
     "execution_count": 14,
     "metadata": {},
     "output_type": "execute_result"
    }
   ],
   "source": [
    "#creating a crosstab of the actual and model4 columns\n",
    "\n",
    "pd.crosstab(gyp_df.actual, gyp_df.model4)"
   ]
  },
  {
   "cell_type": "code",
   "execution_count": 15,
   "id": "4873df0d-1b5d-45d1-b224-c5405a34d1e3",
   "metadata": {},
   "outputs": [
    {
     "data": {
      "text/plain": [
       "0.9557467732022127"
      ]
     },
     "execution_count": 15,
     "metadata": {},
     "output_type": "execute_result"
    }
   ],
   "source": [
    "3110 / (3110 + 144)"
   ]
  },
  {
   "cell_type": "markdown",
   "id": "009328e2-d092-491d-9a20-826bd1c0e06d",
   "metadata": {},
   "source": [
    "Evaluating model 3!\n",
    "\n",
    "Accuracy = (603 + 3110) / (603 + 1143 + 144 + 3110)  \n",
    "ans=> 0.75 \n",
    "\n",
    "Precision(cats) = 603 / (603 + 144)   \n",
    "ans=> 0.81  \n",
    "Precision(dogs) = 3110 / (3110 + 1143)  \n",
    "ans=> 0.73  \n",
    "\n",
    "Recall(cats) = 603 / (603 + 1143)   \n",
    "ans=> 0.35  \n",
    "Recall(dogs) = 3110 / (3110 + 144)  \n",
    "ans=> 0.96"
   ]
  },
  {
   "cell_type": "markdown",
   "id": "a198a9c9-39fe-4c12-8941-f80d1751af94",
   "metadata": {},
   "source": [
    "# baseline model"
   ]
  },
  {
   "cell_type": "code",
   "execution_count": 16,
   "id": "439dda78-20f3-402a-9f86-dd60dbf6611d",
   "metadata": {},
   "outputs": [
    {
     "data": {
      "text/html": [
       "<div>\n",
       "<style scoped>\n",
       "    .dataframe tbody tr th:only-of-type {\n",
       "        vertical-align: middle;\n",
       "    }\n",
       "\n",
       "    .dataframe tbody tr th {\n",
       "        vertical-align: top;\n",
       "    }\n",
       "\n",
       "    .dataframe thead th {\n",
       "        text-align: right;\n",
       "    }\n",
       "</style>\n",
       "<table border=\"1\" class=\"dataframe\">\n",
       "  <thead>\n",
       "    <tr style=\"text-align: right;\">\n",
       "      <th></th>\n",
       "      <th>actual</th>\n",
       "      <th>model1</th>\n",
       "      <th>model2</th>\n",
       "      <th>model3</th>\n",
       "      <th>model4</th>\n",
       "      <th>baseline_model</th>\n",
       "    </tr>\n",
       "  </thead>\n",
       "  <tbody>\n",
       "    <tr>\n",
       "      <th>0</th>\n",
       "      <td>cat</td>\n",
       "      <td>cat</td>\n",
       "      <td>dog</td>\n",
       "      <td>cat</td>\n",
       "      <td>dog</td>\n",
       "      <td>dog</td>\n",
       "    </tr>\n",
       "    <tr>\n",
       "      <th>1</th>\n",
       "      <td>dog</td>\n",
       "      <td>dog</td>\n",
       "      <td>cat</td>\n",
       "      <td>cat</td>\n",
       "      <td>dog</td>\n",
       "      <td>dog</td>\n",
       "    </tr>\n",
       "    <tr>\n",
       "      <th>2</th>\n",
       "      <td>dog</td>\n",
       "      <td>cat</td>\n",
       "      <td>cat</td>\n",
       "      <td>cat</td>\n",
       "      <td>dog</td>\n",
       "      <td>dog</td>\n",
       "    </tr>\n",
       "    <tr>\n",
       "      <th>3</th>\n",
       "      <td>dog</td>\n",
       "      <td>dog</td>\n",
       "      <td>dog</td>\n",
       "      <td>cat</td>\n",
       "      <td>dog</td>\n",
       "      <td>dog</td>\n",
       "    </tr>\n",
       "    <tr>\n",
       "      <th>4</th>\n",
       "      <td>cat</td>\n",
       "      <td>cat</td>\n",
       "      <td>cat</td>\n",
       "      <td>dog</td>\n",
       "      <td>dog</td>\n",
       "      <td>dog</td>\n",
       "    </tr>\n",
       "  </tbody>\n",
       "</table>\n",
       "</div>"
      ],
      "text/plain": [
       "  actual model1 model2 model3 model4 baseline_model\n",
       "0    cat    cat    dog    cat    dog            dog\n",
       "1    dog    dog    cat    cat    dog            dog\n",
       "2    dog    cat    cat    cat    dog            dog\n",
       "3    dog    dog    dog    cat    dog            dog\n",
       "4    cat    cat    cat    dog    dog            dog"
      ]
     },
     "execution_count": 16,
     "metadata": {},
     "output_type": "execute_result"
    }
   ],
   "source": [
    "#creating a basline column\n",
    "\n",
    "mode = gyp_df.actual.mode()\n",
    "\n",
    "gyp_df['baseline_model'] = 'dog'\n",
    "gyp_df.head()"
   ]
  },
  {
   "cell_type": "code",
   "execution_count": 17,
   "id": "c0adc7e2-d6c6-4c3f-a472-b70b3a830747",
   "metadata": {},
   "outputs": [
    {
     "data": {
      "text/html": [
       "<div>\n",
       "<style scoped>\n",
       "    .dataframe tbody tr th:only-of-type {\n",
       "        vertical-align: middle;\n",
       "    }\n",
       "\n",
       "    .dataframe tbody tr th {\n",
       "        vertical-align: top;\n",
       "    }\n",
       "\n",
       "    .dataframe thead th {\n",
       "        text-align: right;\n",
       "    }\n",
       "</style>\n",
       "<table border=\"1\" class=\"dataframe\">\n",
       "  <thead>\n",
       "    <tr style=\"text-align: right;\">\n",
       "      <th>baseline_model</th>\n",
       "      <th>dog</th>\n",
       "    </tr>\n",
       "    <tr>\n",
       "      <th>actual</th>\n",
       "      <th></th>\n",
       "    </tr>\n",
       "  </thead>\n",
       "  <tbody>\n",
       "    <tr>\n",
       "      <th>cat</th>\n",
       "      <td>1746</td>\n",
       "    </tr>\n",
       "    <tr>\n",
       "      <th>dog</th>\n",
       "      <td>3254</td>\n",
       "    </tr>\n",
       "  </tbody>\n",
       "</table>\n",
       "</div>"
      ],
      "text/plain": [
       "baseline_model   dog\n",
       "actual              \n",
       "cat             1746\n",
       "dog             3254"
      ]
     },
     "execution_count": 17,
     "metadata": {},
     "output_type": "execute_result"
    }
   ],
   "source": [
    "#creating a crosstab of the actual and baseline columns\n",
    "\n",
    "pd.crosstab(gyp_df.actual, gyp_df.baseline_model)"
   ]
  },
  {
   "cell_type": "markdown",
   "id": "e0273226-bcad-4222-976c-414f1192d7c0",
   "metadata": {},
   "source": [
    "#evaluating the baseline model\n",
    "\n",
    "Accuracy = 3254 / (1746 + 3254)  \n",
    "ans=> 0.65 \n",
    "\n",
    "Precision = 3254 / 3254   \n",
    "ans=> 1.0\n",
    "\n",
    "Recall = 3254 / (3254 + 0)   \n",
    "ans=> 1.0"
   ]
  },
  {
   "cell_type": "markdown",
   "id": "1590d561-6232-46ab-9973-491a01282b08",
   "metadata": {},
   "source": [
    "In terms of accuracy model 1 has the highest percentage amongst all the models.   \n",
    "Also model1 and model4 both have higher accuracy prediction percentages than the baseline model."
   ]
  },
  {
   "cell_type": "markdown",
   "id": "4129ebc4-2ea8-47b1-9069-5ef2aa2610c0",
   "metadata": {},
   "source": [
    "b) Suppose you are working on a team that solely deals with dog pictures. Which of these models would you recommend?"
   ]
  },
  {
   "cell_type": "markdown",
   "id": "77cfca88-5d43-4467-a8f9-13c632135b1c",
   "metadata": {},
   "source": [
    "For the recall metric Model 4 will be the best model because of it's 96% prediction percentage.\n",
    "\n",
    "For the precision metric Model 1 and 2 will be the best models because they both have an 89% prediction percentage."
   ]
  },
  {
   "cell_type": "markdown",
   "id": "c466edbc-7b78-4c53-bb09-f512a2c2e5ad",
   "metadata": {},
   "source": [
    "c) Suppose you are working on a team that solely deals with cat pictures. Which of these models would you recommend?"
   ]
  },
  {
   "cell_type": "markdown",
   "id": "9f4725cf-ab4b-4fbd-b9f5-55d2804fc0e9",
   "metadata": {},
   "source": [
    "For the recall metric Model 2 will be the best model because of it's 89% prediction percentage.\n",
    "\n",
    "For the precision metric model 4 will be the best model becasue of it's 81% prediction percentage."
   ]
  }
 ],
 "metadata": {
  "kernelspec": {
   "display_name": "Python 3 (ipykernel)",
   "language": "python",
   "name": "python3"
  },
  "language_info": {
   "codemirror_mode": {
    "name": "ipython",
    "version": 3
   },
   "file_extension": ".py",
   "mimetype": "text/x-python",
   "name": "python",
   "nbconvert_exporter": "python",
   "pygments_lexer": "ipython3",
   "version": "3.10.12"
  }
 },
 "nbformat": 4,
 "nbformat_minor": 5
}
