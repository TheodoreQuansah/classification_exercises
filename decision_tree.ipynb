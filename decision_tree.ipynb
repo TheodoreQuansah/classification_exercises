{
 "cells": [
  {
   "cell_type": "code",
   "execution_count": 1,
   "id": "94db5995-b386-4677-a647-ab5f6b5c24b3",
   "metadata": {},
   "outputs": [],
   "source": [
    "import pandas as pd\n",
    "import matplotlib.pyplot as plt\n",
    "import numpy as np\n",
    "\n",
    "from sklearn.tree import DecisionTreeClassifier, plot_tree\n",
    "from sklearn.metrics import classification_report\n",
    "from prepare import prep_titanic, prep_telco, train_val_test"
   ]
  },
  {
   "cell_type": "code",
   "execution_count": 2,
   "id": "e80cc0df-953b-4cb6-9fdb-bb7055bd5b63",
   "metadata": {},
   "outputs": [],
   "source": [
    "accuracy = '(TP + TN) /\t(TP + TN + FP + FN)'\n",
    "recall = 'TP / (TP + FN)'\n",
    "true_positive_rate = 'TP / (TP + FN)'\n",
    "false_positive_rate = 'FP / (FP + TN)'\n",
    "true_negative_rate = 'TN / (TN + FP)'\n",
    "false_negative_rate = 'FN / (FN + TP)'\n",
    "precision = 'TP / (TP + FP)'\n",
    "f1_score = '2 * (precision * recall) / (precision + recall)'\n",
    "support = 'TP + FN'\n",
    "\n",
    "# Create a pandas DataFrame for the metrics\n",
    "data = {\n",
    "    'Metric': ['Accuracy', 'Recall', 'True positive Rate' ,'False Positive Rate', 'True Negative Rate', 'False Negative Rate', 'Precision', 'F1-Score', 'Support'],\n",
    "    'Value': [accuracy, recall, true_positive_rate ,false_positive_rate, true_negative_rate, false_negative_rate, precision, f1_score, support]\n",
    "}\n",
    "\n",
    "metrics = pd.DataFrame(data)"
   ]
  },
  {
   "cell_type": "code",
   "execution_count": 3,
   "id": "e1407023-6344-4afa-988a-4d31b11547ce",
   "metadata": {},
   "outputs": [],
   "source": [
    "data = {\n",
    "    '': ['Actual Positive', 'Actual Negative'] ,\n",
    "    'Predicted Positive': ['True Positive (TP)', 'False Positive (FP)'],\n",
    "    'Predicted Negative': ['False Negative (FN)', 'True Negative (TN)'], \n",
    "}\n",
    "\n",
    "rubric = pd.DataFrame(data)\n",
    "rubric.set_index('', inplace=True)"
   ]
  },
  {
   "cell_type": "markdown",
   "id": "483aaec8-6063-41fb-8b4c-196fec6faca1",
   "metadata": {},
   "source": [
    "# Decision Tree"
   ]
  },
  {
   "cell_type": "markdown",
   "id": "9b17746c-929e-49fb-af4f-ff521b939863",
   "metadata": {},
   "source": [
    "1) What is your baseline prediction? What is your baseline accuracy? remember: your baseline prediction for a classification problem is predicting the most prevelant class in the training dataset (the mode). When you make those predictions, what is your accuracy? This is your baseline accuracy."
   ]
  },
  {
   "cell_type": "markdown",
   "id": "26396fe2-5cec-422f-95d0-f06f4f4ac75a",
   "metadata": {},
   "source": [
    "### Titanic"
   ]
  },
  {
   "cell_type": "code",
   "execution_count": 4,
   "id": "4b2577e3-b4c7-404f-b080-7b86ad7d799f",
   "metadata": {
    "scrolled": true
   },
   "outputs": [
    {
     "data": {
      "text/html": [
       "<div>\n",
       "<style scoped>\n",
       "    .dataframe tbody tr th:only-of-type {\n",
       "        vertical-align: middle;\n",
       "    }\n",
       "\n",
       "    .dataframe tbody tr th {\n",
       "        vertical-align: top;\n",
       "    }\n",
       "\n",
       "    .dataframe thead th {\n",
       "        text-align: right;\n",
       "    }\n",
       "</style>\n",
       "<table border=\"1\" class=\"dataframe\">\n",
       "  <thead>\n",
       "    <tr style=\"text-align: right;\">\n",
       "      <th></th>\n",
       "      <th>survived</th>\n",
       "      <th>sex</th>\n",
       "      <th>age</th>\n",
       "      <th>sibsp</th>\n",
       "      <th>parch</th>\n",
       "      <th>fare</th>\n",
       "      <th>class</th>\n",
       "      <th>embark_town</th>\n",
       "      <th>alone</th>\n",
       "    </tr>\n",
       "  </thead>\n",
       "  <tbody>\n",
       "    <tr>\n",
       "      <th>0</th>\n",
       "      <td>0</td>\n",
       "      <td>male</td>\n",
       "      <td>22.0</td>\n",
       "      <td>1</td>\n",
       "      <td>0</td>\n",
       "      <td>7.2500</td>\n",
       "      <td>Third</td>\n",
       "      <td>Southampton</td>\n",
       "      <td>0</td>\n",
       "    </tr>\n",
       "    <tr>\n",
       "      <th>1</th>\n",
       "      <td>1</td>\n",
       "      <td>female</td>\n",
       "      <td>38.0</td>\n",
       "      <td>1</td>\n",
       "      <td>0</td>\n",
       "      <td>71.2833</td>\n",
       "      <td>First</td>\n",
       "      <td>Cherbourg</td>\n",
       "      <td>0</td>\n",
       "    </tr>\n",
       "    <tr>\n",
       "      <th>2</th>\n",
       "      <td>1</td>\n",
       "      <td>female</td>\n",
       "      <td>26.0</td>\n",
       "      <td>0</td>\n",
       "      <td>0</td>\n",
       "      <td>7.9250</td>\n",
       "      <td>Third</td>\n",
       "      <td>Southampton</td>\n",
       "      <td>1</td>\n",
       "    </tr>\n",
       "    <tr>\n",
       "      <th>3</th>\n",
       "      <td>1</td>\n",
       "      <td>female</td>\n",
       "      <td>35.0</td>\n",
       "      <td>1</td>\n",
       "      <td>0</td>\n",
       "      <td>53.1000</td>\n",
       "      <td>First</td>\n",
       "      <td>Southampton</td>\n",
       "      <td>0</td>\n",
       "    </tr>\n",
       "    <tr>\n",
       "      <th>4</th>\n",
       "      <td>0</td>\n",
       "      <td>male</td>\n",
       "      <td>35.0</td>\n",
       "      <td>0</td>\n",
       "      <td>0</td>\n",
       "      <td>8.0500</td>\n",
       "      <td>Third</td>\n",
       "      <td>Southampton</td>\n",
       "      <td>1</td>\n",
       "    </tr>\n",
       "  </tbody>\n",
       "</table>\n",
       "</div>"
      ],
      "text/plain": [
       "   survived     sex   age  sibsp  parch     fare  class  embark_town  alone\n",
       "0         0    male  22.0      1      0   7.2500  Third  Southampton      0\n",
       "1         1  female  38.0      1      0  71.2833  First    Cherbourg      0\n",
       "2         1  female  26.0      0      0   7.9250  Third  Southampton      1\n",
       "3         1  female  35.0      1      0  53.1000  First  Southampton      0\n",
       "4         0    male  35.0      0      0   8.0500  Third  Southampton      1"
      ]
     },
     "execution_count": 4,
     "metadata": {},
     "output_type": "execute_result"
    }
   ],
   "source": [
    "#loading the titanic dataframe\n",
    "\n",
    "df = prep_titanic()\n",
    "df.head()"
   ]
  },
  {
   "cell_type": "code",
   "execution_count": 5,
   "id": "cf5f7a3b-33c4-408d-89c3-e05129638263",
   "metadata": {},
   "outputs": [],
   "source": [
    "# splitting the titanic dataframe into training, validation, and test sets.\n",
    "\n",
    "train, val, test = train_val_test(df, strat = 'survived')"
   ]
  },
  {
   "cell_type": "code",
   "execution_count": 6,
   "id": "fc9800fb-7f1f-4c88-bbf5-48eb1687ebb9",
   "metadata": {
    "scrolled": true
   },
   "outputs": [
    {
     "data": {
      "text/html": [
       "<div>\n",
       "<style scoped>\n",
       "    .dataframe tbody tr th:only-of-type {\n",
       "        vertical-align: middle;\n",
       "    }\n",
       "\n",
       "    .dataframe tbody tr th {\n",
       "        vertical-align: top;\n",
       "    }\n",
       "\n",
       "    .dataframe thead th {\n",
       "        text-align: right;\n",
       "    }\n",
       "</style>\n",
       "<table border=\"1\" class=\"dataframe\">\n",
       "  <thead>\n",
       "    <tr style=\"text-align: right;\">\n",
       "      <th></th>\n",
       "      <th>survived</th>\n",
       "      <th>sex</th>\n",
       "      <th>age</th>\n",
       "      <th>sibsp</th>\n",
       "      <th>parch</th>\n",
       "      <th>fare</th>\n",
       "      <th>class</th>\n",
       "      <th>embark_town</th>\n",
       "      <th>alone</th>\n",
       "    </tr>\n",
       "  </thead>\n",
       "  <tbody>\n",
       "    <tr>\n",
       "      <th>748</th>\n",
       "      <td>0</td>\n",
       "      <td>male</td>\n",
       "      <td>19.0</td>\n",
       "      <td>1</td>\n",
       "      <td>0</td>\n",
       "      <td>53.1000</td>\n",
       "      <td>First</td>\n",
       "      <td>Southampton</td>\n",
       "      <td>0</td>\n",
       "    </tr>\n",
       "    <tr>\n",
       "      <th>45</th>\n",
       "      <td>0</td>\n",
       "      <td>male</td>\n",
       "      <td>28.0</td>\n",
       "      <td>0</td>\n",
       "      <td>0</td>\n",
       "      <td>8.0500</td>\n",
       "      <td>Third</td>\n",
       "      <td>Southampton</td>\n",
       "      <td>1</td>\n",
       "    </tr>\n",
       "    <tr>\n",
       "      <th>28</th>\n",
       "      <td>1</td>\n",
       "      <td>female</td>\n",
       "      <td>28.0</td>\n",
       "      <td>0</td>\n",
       "      <td>0</td>\n",
       "      <td>7.8792</td>\n",
       "      <td>Third</td>\n",
       "      <td>Queenstown</td>\n",
       "      <td>1</td>\n",
       "    </tr>\n",
       "    <tr>\n",
       "      <th>633</th>\n",
       "      <td>0</td>\n",
       "      <td>male</td>\n",
       "      <td>28.0</td>\n",
       "      <td>0</td>\n",
       "      <td>0</td>\n",
       "      <td>0.0000</td>\n",
       "      <td>First</td>\n",
       "      <td>Southampton</td>\n",
       "      <td>1</td>\n",
       "    </tr>\n",
       "    <tr>\n",
       "      <th>403</th>\n",
       "      <td>0</td>\n",
       "      <td>male</td>\n",
       "      <td>28.0</td>\n",
       "      <td>1</td>\n",
       "      <td>0</td>\n",
       "      <td>15.8500</td>\n",
       "      <td>Third</td>\n",
       "      <td>Southampton</td>\n",
       "      <td>0</td>\n",
       "    </tr>\n",
       "  </tbody>\n",
       "</table>\n",
       "</div>"
      ],
      "text/plain": [
       "     survived     sex   age  sibsp  parch     fare  class  embark_town  alone\n",
       "748         0    male  19.0      1      0  53.1000  First  Southampton      0\n",
       "45          0    male  28.0      0      0   8.0500  Third  Southampton      1\n",
       "28          1  female  28.0      0      0   7.8792  Third   Queenstown      1\n",
       "633         0    male  28.0      0      0   0.0000  First  Southampton      1\n",
       "403         0    male  28.0      1      0  15.8500  Third  Southampton      0"
      ]
     },
     "execution_count": 6,
     "metadata": {},
     "output_type": "execute_result"
    }
   ],
   "source": [
    "train.head()"
   ]
  },
  {
   "cell_type": "code",
   "execution_count": 7,
   "id": "80934e13-1dfc-403b-b302-5c53c490a42e",
   "metadata": {
    "scrolled": true
   },
   "outputs": [
    {
     "data": {
      "text/html": [
       "<div>\n",
       "<style scoped>\n",
       "    .dataframe tbody tr th:only-of-type {\n",
       "        vertical-align: middle;\n",
       "    }\n",
       "\n",
       "    .dataframe tbody tr th {\n",
       "        vertical-align: top;\n",
       "    }\n",
       "\n",
       "    .dataframe thead th {\n",
       "        text-align: right;\n",
       "    }\n",
       "</style>\n",
       "<table border=\"1\" class=\"dataframe\">\n",
       "  <thead>\n",
       "    <tr style=\"text-align: right;\">\n",
       "      <th></th>\n",
       "      <th>survived</th>\n",
       "      <th>age</th>\n",
       "      <th>sibsp</th>\n",
       "      <th>parch</th>\n",
       "      <th>fare</th>\n",
       "      <th>alone</th>\n",
       "      <th>sex_female</th>\n",
       "      <th>class_First</th>\n",
       "      <th>class_Second</th>\n",
       "      <th>class_Third</th>\n",
       "      <th>embark_town_Cherbourg</th>\n",
       "      <th>embark_town_Queenstown</th>\n",
       "      <th>embark_town_Southampton</th>\n",
       "    </tr>\n",
       "  </thead>\n",
       "  <tbody>\n",
       "    <tr>\n",
       "      <th>748</th>\n",
       "      <td>0</td>\n",
       "      <td>19.0</td>\n",
       "      <td>1</td>\n",
       "      <td>0</td>\n",
       "      <td>53.1000</td>\n",
       "      <td>0</td>\n",
       "      <td>False</td>\n",
       "      <td>True</td>\n",
       "      <td>False</td>\n",
       "      <td>False</td>\n",
       "      <td>False</td>\n",
       "      <td>False</td>\n",
       "      <td>True</td>\n",
       "    </tr>\n",
       "    <tr>\n",
       "      <th>45</th>\n",
       "      <td>0</td>\n",
       "      <td>28.0</td>\n",
       "      <td>0</td>\n",
       "      <td>0</td>\n",
       "      <td>8.0500</td>\n",
       "      <td>1</td>\n",
       "      <td>False</td>\n",
       "      <td>False</td>\n",
       "      <td>False</td>\n",
       "      <td>True</td>\n",
       "      <td>False</td>\n",
       "      <td>False</td>\n",
       "      <td>True</td>\n",
       "    </tr>\n",
       "    <tr>\n",
       "      <th>28</th>\n",
       "      <td>1</td>\n",
       "      <td>28.0</td>\n",
       "      <td>0</td>\n",
       "      <td>0</td>\n",
       "      <td>7.8792</td>\n",
       "      <td>1</td>\n",
       "      <td>True</td>\n",
       "      <td>False</td>\n",
       "      <td>False</td>\n",
       "      <td>True</td>\n",
       "      <td>False</td>\n",
       "      <td>True</td>\n",
       "      <td>False</td>\n",
       "    </tr>\n",
       "    <tr>\n",
       "      <th>633</th>\n",
       "      <td>0</td>\n",
       "      <td>28.0</td>\n",
       "      <td>0</td>\n",
       "      <td>0</td>\n",
       "      <td>0.0000</td>\n",
       "      <td>1</td>\n",
       "      <td>False</td>\n",
       "      <td>True</td>\n",
       "      <td>False</td>\n",
       "      <td>False</td>\n",
       "      <td>False</td>\n",
       "      <td>False</td>\n",
       "      <td>True</td>\n",
       "    </tr>\n",
       "    <tr>\n",
       "      <th>403</th>\n",
       "      <td>0</td>\n",
       "      <td>28.0</td>\n",
       "      <td>1</td>\n",
       "      <td>0</td>\n",
       "      <td>15.8500</td>\n",
       "      <td>0</td>\n",
       "      <td>False</td>\n",
       "      <td>False</td>\n",
       "      <td>False</td>\n",
       "      <td>True</td>\n",
       "      <td>False</td>\n",
       "      <td>False</td>\n",
       "      <td>True</td>\n",
       "    </tr>\n",
       "  </tbody>\n",
       "</table>\n",
       "</div>"
      ],
      "text/plain": [
       "     survived   age  sibsp  parch     fare  alone  sex_female  class_First  \\\n",
       "748         0  19.0      1      0  53.1000      0       False         True   \n",
       "45          0  28.0      0      0   8.0500      1       False        False   \n",
       "28          1  28.0      0      0   7.8792      1        True        False   \n",
       "633         0  28.0      0      0   0.0000      1       False         True   \n",
       "403         0  28.0      1      0  15.8500      0       False        False   \n",
       "\n",
       "     class_Second  class_Third  embark_town_Cherbourg  embark_town_Queenstown  \\\n",
       "748         False        False                  False                   False   \n",
       "45          False         True                  False                   False   \n",
       "28          False         True                  False                    True   \n",
       "633         False        False                  False                   False   \n",
       "403         False         True                  False                   False   \n",
       "\n",
       "     embark_town_Southampton  \n",
       "748                     True  \n",
       "45                      True  \n",
       "28                     False  \n",
       "633                     True  \n",
       "403                     True  "
      ]
     },
     "execution_count": 7,
     "metadata": {},
     "output_type": "execute_result"
    }
   ],
   "source": [
    "#encoding the sex, class and embark categorical columns in the train set.\n",
    "\n",
    "train = pd.get_dummies(train, columns = ['sex', 'class', 'embark_town'])\n",
    "train = train.drop(columns = 'sex_male')\n",
    "train.head()"
   ]
  },
  {
   "cell_type": "code",
   "execution_count": 8,
   "id": "723e6b28-385a-4fd8-bd88-c9a4cdc83d1c",
   "metadata": {
    "scrolled": true
   },
   "outputs": [
    {
     "data": {
      "text/html": [
       "<div>\n",
       "<style scoped>\n",
       "    .dataframe tbody tr th:only-of-type {\n",
       "        vertical-align: middle;\n",
       "    }\n",
       "\n",
       "    .dataframe tbody tr th {\n",
       "        vertical-align: top;\n",
       "    }\n",
       "\n",
       "    .dataframe thead th {\n",
       "        text-align: right;\n",
       "    }\n",
       "</style>\n",
       "<table border=\"1\" class=\"dataframe\">\n",
       "  <thead>\n",
       "    <tr style=\"text-align: right;\">\n",
       "      <th></th>\n",
       "      <th>survived</th>\n",
       "      <th>age</th>\n",
       "      <th>sibsp</th>\n",
       "      <th>parch</th>\n",
       "      <th>fare</th>\n",
       "      <th>alone</th>\n",
       "      <th>sex_female</th>\n",
       "      <th>class_First</th>\n",
       "      <th>class_Second</th>\n",
       "      <th>class_Third</th>\n",
       "      <th>embark_town_Cherbourg</th>\n",
       "      <th>embark_town_Queenstown</th>\n",
       "      <th>embark_town_Southampton</th>\n",
       "    </tr>\n",
       "  </thead>\n",
       "  <tbody>\n",
       "    <tr>\n",
       "      <th>377</th>\n",
       "      <td>0</td>\n",
       "      <td>27.0</td>\n",
       "      <td>0</td>\n",
       "      <td>2</td>\n",
       "      <td>211.500</td>\n",
       "      <td>0</td>\n",
       "      <td>False</td>\n",
       "      <td>True</td>\n",
       "      <td>False</td>\n",
       "      <td>False</td>\n",
       "      <td>True</td>\n",
       "      <td>False</td>\n",
       "      <td>False</td>\n",
       "    </tr>\n",
       "    <tr>\n",
       "      <th>244</th>\n",
       "      <td>0</td>\n",
       "      <td>30.0</td>\n",
       "      <td>0</td>\n",
       "      <td>0</td>\n",
       "      <td>7.225</td>\n",
       "      <td>1</td>\n",
       "      <td>False</td>\n",
       "      <td>False</td>\n",
       "      <td>False</td>\n",
       "      <td>True</td>\n",
       "      <td>True</td>\n",
       "      <td>False</td>\n",
       "      <td>False</td>\n",
       "    </tr>\n",
       "    <tr>\n",
       "      <th>72</th>\n",
       "      <td>0</td>\n",
       "      <td>21.0</td>\n",
       "      <td>0</td>\n",
       "      <td>0</td>\n",
       "      <td>73.500</td>\n",
       "      <td>1</td>\n",
       "      <td>False</td>\n",
       "      <td>False</td>\n",
       "      <td>True</td>\n",
       "      <td>False</td>\n",
       "      <td>False</td>\n",
       "      <td>False</td>\n",
       "      <td>True</td>\n",
       "    </tr>\n",
       "    <tr>\n",
       "      <th>815</th>\n",
       "      <td>0</td>\n",
       "      <td>28.0</td>\n",
       "      <td>0</td>\n",
       "      <td>0</td>\n",
       "      <td>0.000</td>\n",
       "      <td>1</td>\n",
       "      <td>False</td>\n",
       "      <td>True</td>\n",
       "      <td>False</td>\n",
       "      <td>False</td>\n",
       "      <td>False</td>\n",
       "      <td>False</td>\n",
       "      <td>True</td>\n",
       "    </tr>\n",
       "    <tr>\n",
       "      <th>841</th>\n",
       "      <td>0</td>\n",
       "      <td>16.0</td>\n",
       "      <td>0</td>\n",
       "      <td>0</td>\n",
       "      <td>10.500</td>\n",
       "      <td>1</td>\n",
       "      <td>False</td>\n",
       "      <td>False</td>\n",
       "      <td>True</td>\n",
       "      <td>False</td>\n",
       "      <td>False</td>\n",
       "      <td>False</td>\n",
       "      <td>True</td>\n",
       "    </tr>\n",
       "  </tbody>\n",
       "</table>\n",
       "</div>"
      ],
      "text/plain": [
       "     survived   age  sibsp  parch     fare  alone  sex_female  class_First  \\\n",
       "377         0  27.0      0      2  211.500      0       False         True   \n",
       "244         0  30.0      0      0    7.225      1       False        False   \n",
       "72          0  21.0      0      0   73.500      1       False        False   \n",
       "815         0  28.0      0      0    0.000      1       False         True   \n",
       "841         0  16.0      0      0   10.500      1       False        False   \n",
       "\n",
       "     class_Second  class_Third  embark_town_Cherbourg  embark_town_Queenstown  \\\n",
       "377         False        False                   True                   False   \n",
       "244         False         True                   True                   False   \n",
       "72           True        False                  False                   False   \n",
       "815         False        False                  False                   False   \n",
       "841          True        False                  False                   False   \n",
       "\n",
       "     embark_town_Southampton  \n",
       "377                    False  \n",
       "244                    False  \n",
       "72                      True  \n",
       "815                     True  \n",
       "841                     True  "
      ]
     },
     "execution_count": 8,
     "metadata": {},
     "output_type": "execute_result"
    }
   ],
   "source": [
    "#encoding the sex, class and embark categorical columns in the val set\n",
    "\n",
    "val = pd.get_dummies(val, columns = ['sex', 'class', 'embark_town'])\n",
    "val = val.drop(columns = 'sex_male')\n",
    "val.head()"
   ]
  },
  {
   "cell_type": "code",
   "execution_count": 9,
   "id": "b24b4b0d-20ac-4212-8145-3e4a41ddc5e5",
   "metadata": {},
   "outputs": [
    {
     "data": {
      "text/plain": [
       "((623, 13), (134, 13))"
      ]
     },
     "execution_count": 9,
     "metadata": {},
     "output_type": "execute_result"
    }
   ],
   "source": [
    "#making sure train and val all have the same number of columns\n",
    "\n",
    "train.shape, val.shape "
   ]
  },
  {
   "cell_type": "code",
   "execution_count": 10,
   "id": "87cf6b09-4f5b-447e-9853-0b427288590f",
   "metadata": {},
   "outputs": [],
   "source": [
    "# creating an X & y version of train and val, where y is a series with just the target variable and X are all the features.#\n",
    "\n",
    "X_train = train.drop(columns = ['survived'])\n",
    "y_train = train.survived\n",
    "\n",
    "X_val = val.drop(columns = ['survived'])\n",
    "y_val = val.survived"
   ]
  },
  {
   "cell_type": "code",
   "execution_count": 11,
   "id": "e3c56a6b-4551-44e3-8a69-327d4388f841",
   "metadata": {},
   "outputs": [
    {
     "data": {
      "text/plain": [
       "0    0\n",
       "Name: survived, dtype: int64"
      ]
     },
     "execution_count": 11,
     "metadata": {},
     "output_type": "execute_result"
    }
   ],
   "source": [
    "# creating a baseline of the most occuring number in the survived column\n",
    "\n",
    "y_train.mode()"
   ]
  },
  {
   "cell_type": "code",
   "execution_count": 12,
   "id": "0e8e20c4-a65c-4603-9adc-fd4a4e2f1146",
   "metadata": {},
   "outputs": [
    {
     "data": {
      "text/plain": [
       "0.6163723916532905"
      ]
     },
     "execution_count": 12,
     "metadata": {},
     "output_type": "execute_result"
    }
   ],
   "source": [
    "base_acc = (y_train == 0).mean()\n",
    "base_acc"
   ]
  },
  {
   "cell_type": "markdown",
   "id": "a050f479-8361-4f65-8fe0-b75bf0f73ccb",
   "metadata": {},
   "source": [
    "baseline accuracy is 61%."
   ]
  },
  {
   "cell_type": "markdown",
   "id": "1c4f29b8-f299-4744-bc64-aa8911f16c37",
   "metadata": {},
   "source": [
    "2) Fit the decision tree classifier to your training sample and transform (i.e. make predictions on the training sample)"
   ]
  },
  {
   "cell_type": "code",
   "execution_count": 13,
   "id": "343431f0-9de3-4ee6-9a9e-321a089f226d",
   "metadata": {},
   "outputs": [
    {
     "data": {
      "text/plain": [
       "((623, 12), (623,))"
      ]
     },
     "execution_count": 13,
     "metadata": {},
     "output_type": "execute_result"
    }
   ],
   "source": [
    "#verifying that x and y train have the same amount of rows\n",
    "\n",
    "X_train.shape, y_train.shape"
   ]
  },
  {
   "cell_type": "code",
   "execution_count": 14,
   "id": "bb779036-eb67-4ffa-b005-c5fff05e1065",
   "metadata": {},
   "outputs": [
    {
     "data": {
      "text/html": [
       "<style>#sk-container-id-1 {color: black;}#sk-container-id-1 pre{padding: 0;}#sk-container-id-1 div.sk-toggleable {background-color: white;}#sk-container-id-1 label.sk-toggleable__label {cursor: pointer;display: block;width: 100%;margin-bottom: 0;padding: 0.3em;box-sizing: border-box;text-align: center;}#sk-container-id-1 label.sk-toggleable__label-arrow:before {content: \"▸\";float: left;margin-right: 0.25em;color: #696969;}#sk-container-id-1 label.sk-toggleable__label-arrow:hover:before {color: black;}#sk-container-id-1 div.sk-estimator:hover label.sk-toggleable__label-arrow:before {color: black;}#sk-container-id-1 div.sk-toggleable__content {max-height: 0;max-width: 0;overflow: hidden;text-align: left;background-color: #f0f8ff;}#sk-container-id-1 div.sk-toggleable__content pre {margin: 0.2em;color: black;border-radius: 0.25em;background-color: #f0f8ff;}#sk-container-id-1 input.sk-toggleable__control:checked~div.sk-toggleable__content {max-height: 200px;max-width: 100%;overflow: auto;}#sk-container-id-1 input.sk-toggleable__control:checked~label.sk-toggleable__label-arrow:before {content: \"▾\";}#sk-container-id-1 div.sk-estimator input.sk-toggleable__control:checked~label.sk-toggleable__label {background-color: #d4ebff;}#sk-container-id-1 div.sk-label input.sk-toggleable__control:checked~label.sk-toggleable__label {background-color: #d4ebff;}#sk-container-id-1 input.sk-hidden--visually {border: 0;clip: rect(1px 1px 1px 1px);clip: rect(1px, 1px, 1px, 1px);height: 1px;margin: -1px;overflow: hidden;padding: 0;position: absolute;width: 1px;}#sk-container-id-1 div.sk-estimator {font-family: monospace;background-color: #f0f8ff;border: 1px dotted black;border-radius: 0.25em;box-sizing: border-box;margin-bottom: 0.5em;}#sk-container-id-1 div.sk-estimator:hover {background-color: #d4ebff;}#sk-container-id-1 div.sk-parallel-item::after {content: \"\";width: 100%;border-bottom: 1px solid gray;flex-grow: 1;}#sk-container-id-1 div.sk-label:hover label.sk-toggleable__label {background-color: #d4ebff;}#sk-container-id-1 div.sk-serial::before {content: \"\";position: absolute;border-left: 1px solid gray;box-sizing: border-box;top: 0;bottom: 0;left: 50%;z-index: 0;}#sk-container-id-1 div.sk-serial {display: flex;flex-direction: column;align-items: center;background-color: white;padding-right: 0.2em;padding-left: 0.2em;position: relative;}#sk-container-id-1 div.sk-item {position: relative;z-index: 1;}#sk-container-id-1 div.sk-parallel {display: flex;align-items: stretch;justify-content: center;background-color: white;position: relative;}#sk-container-id-1 div.sk-item::before, #sk-container-id-1 div.sk-parallel-item::before {content: \"\";position: absolute;border-left: 1px solid gray;box-sizing: border-box;top: 0;bottom: 0;left: 50%;z-index: -1;}#sk-container-id-1 div.sk-parallel-item {display: flex;flex-direction: column;z-index: 1;position: relative;background-color: white;}#sk-container-id-1 div.sk-parallel-item:first-child::after {align-self: flex-end;width: 50%;}#sk-container-id-1 div.sk-parallel-item:last-child::after {align-self: flex-start;width: 50%;}#sk-container-id-1 div.sk-parallel-item:only-child::after {width: 0;}#sk-container-id-1 div.sk-dashed-wrapped {border: 1px dashed gray;margin: 0 0.4em 0.5em 0.4em;box-sizing: border-box;padding-bottom: 0.4em;background-color: white;}#sk-container-id-1 div.sk-label label {font-family: monospace;font-weight: bold;display: inline-block;line-height: 1.2em;}#sk-container-id-1 div.sk-label-container {text-align: center;}#sk-container-id-1 div.sk-container {/* jupyter's `normalize.less` sets `[hidden] { display: none; }` but bootstrap.min.css set `[hidden] { display: none !important; }` so we also need the `!important` here to be able to override the default hidden behavior on the sphinx rendered scikit-learn.org. See: https://github.com/scikit-learn/scikit-learn/issues/21755 */display: inline-block !important;position: relative;}#sk-container-id-1 div.sk-text-repr-fallback {display: none;}</style><div id=\"sk-container-id-1\" class=\"sk-top-container\"><div class=\"sk-text-repr-fallback\"><pre>DecisionTreeClassifier(max_depth=4, random_state=42)</pre><b>In a Jupyter environment, please rerun this cell to show the HTML representation or trust the notebook. <br />On GitHub, the HTML representation is unable to render, please try loading this page with nbviewer.org.</b></div><div class=\"sk-container\" hidden><div class=\"sk-item\"><div class=\"sk-estimator sk-toggleable\"><input class=\"sk-toggleable__control sk-hidden--visually\" id=\"sk-estimator-id-1\" type=\"checkbox\" checked><label for=\"sk-estimator-id-1\" class=\"sk-toggleable__label sk-toggleable__label-arrow\">DecisionTreeClassifier</label><div class=\"sk-toggleable__content\"><pre>DecisionTreeClassifier(max_depth=4, random_state=42)</pre></div></div></div></div></div>"
      ],
      "text/plain": [
       "DecisionTreeClassifier(max_depth=4, random_state=42)"
      ]
     },
     "execution_count": 14,
     "metadata": {},
     "output_type": "execute_result"
    }
   ],
   "source": [
    "#creating a model and fitting it to our train set\n",
    "\n",
    "clf = DecisionTreeClassifier(max_depth = 4, random_state = 42)\n",
    "clf.fit(X_train, y_train)"
   ]
  },
  {
   "cell_type": "code",
   "execution_count": 15,
   "id": "df396893-1e8a-45ae-910a-507bc46f33a8",
   "metadata": {
    "scrolled": true
   },
   "outputs": [
    {
     "data": {
      "text/plain": [
       "array([0.13486812, 0.01215573, 0.00091563, 0.08339922, 0.        ,\n",
       "       0.596436  , 0.05193642, 0.        , 0.12028888, 0.        ,\n",
       "       0.        , 0.        ])"
      ]
     },
     "execution_count": 15,
     "metadata": {},
     "output_type": "execute_result"
    }
   ],
   "source": [
    "clf.feature_importances_"
   ]
  },
  {
   "cell_type": "code",
   "execution_count": 16,
   "id": "332280e3-7582-404c-9362-141095eb861e",
   "metadata": {},
   "outputs": [
    {
     "data": {
      "text/plain": [
       "array([0, 0, 1, 0, 0, 1, 0, 0, 0, 0])"
      ]
     },
     "execution_count": 16,
     "metadata": {},
     "output_type": "execute_result"
    }
   ],
   "source": [
    "#making predictions on X_train with the .predict() method.\n",
    "\n",
    "t_pred = clf.predict(X_train)\n",
    "t_pred[:10]"
   ]
  },
  {
   "cell_type": "code",
   "execution_count": 17,
   "id": "65cb3148-8dc8-4de7-bcec-2bb0ef052f28",
   "metadata": {},
   "outputs": [
    {
     "data": {
      "text/plain": [
       "array([[0.59722222, 0.40277778],\n",
       "       [0.89438944, 0.10561056],\n",
       "       [0.16129032, 0.83870968],\n",
       "       [1.        , 0.        ],\n",
       "       [0.89438944, 0.10561056],\n",
       "       [0.        , 1.        ],\n",
       "       [0.59722222, 0.40277778],\n",
       "       [0.89438944, 0.10561056],\n",
       "       [0.59722222, 0.40277778],\n",
       "       [0.89438944, 0.10561056]])"
      ]
     },
     "execution_count": 17,
     "metadata": {},
     "output_type": "execute_result"
    }
   ],
   "source": [
    "#making a probability estimation on X_train with the .predict_proba() method\n",
    "\n",
    "t_prob = clf.predict_proba(X_train)\n",
    "t_prob[:10]"
   ]
  },
  {
   "cell_type": "code",
   "execution_count": 18,
   "id": "cdb84c9e-8e0a-45bb-abc7-e58b3fa40ab0",
   "metadata": {},
   "outputs": [
    {
     "data": {
      "text/plain": [
       "0.8459069020866774"
      ]
     },
     "execution_count": 18,
     "metadata": {},
     "output_type": "execute_result"
    }
   ],
   "source": [
    "#evaluating the accuracy of the train model\n",
    "\n",
    "clf.score(X_train, y_train)"
   ]
  },
  {
   "cell_type": "markdown",
   "id": "f6a12bfc-8210-4531-a695-9c57136c0eda",
   "metadata": {},
   "source": [
    "The accuracy on the train model is 98%"
   ]
  },
  {
   "cell_type": "markdown",
   "id": "d12ae9ca-5b2e-4bc4-b32f-3cc4fc238334",
   "metadata": {},
   "source": [
    "3) Evaluate your in-sample results using the model score, confusion matrix, and classification report."
   ]
  },
  {
   "cell_type": "code",
   "execution_count": 19,
   "id": "4437999c-6cee-4a6d-afc1-158ce7ad335c",
   "metadata": {},
   "outputs": [
    {
     "data": {
      "text/plain": [
       "0.8459069020866774"
      ]
     },
     "execution_count": 19,
     "metadata": {},
     "output_type": "execute_result"
    }
   ],
   "source": [
    "#using the .score() method to predict the y_train\n",
    "\n",
    "clf.score(X_train, y_train)"
   ]
  },
  {
   "cell_type": "code",
   "execution_count": 20,
   "id": "00241e8b-6cb6-4138-a239-0f9e2ef9718f",
   "metadata": {},
   "outputs": [
    {
     "data": {
      "text/html": [
       "<div>\n",
       "<style scoped>\n",
       "    .dataframe tbody tr th:only-of-type {\n",
       "        vertical-align: middle;\n",
       "    }\n",
       "\n",
       "    .dataframe tbody tr th {\n",
       "        vertical-align: top;\n",
       "    }\n",
       "\n",
       "    .dataframe thead th {\n",
       "        text-align: right;\n",
       "    }\n",
       "</style>\n",
       "<table border=\"1\" class=\"dataframe\">\n",
       "  <thead>\n",
       "    <tr style=\"text-align: right;\">\n",
       "      <th>col_0</th>\n",
       "      <th>0</th>\n",
       "      <th>1</th>\n",
       "    </tr>\n",
       "    <tr>\n",
       "      <th>survived</th>\n",
       "      <th></th>\n",
       "      <th></th>\n",
       "    </tr>\n",
       "  </thead>\n",
       "  <tbody>\n",
       "    <tr>\n",
       "      <th>0</th>\n",
       "      <td>79</td>\n",
       "      <td>3</td>\n",
       "    </tr>\n",
       "    <tr>\n",
       "      <th>1</th>\n",
       "      <td>19</td>\n",
       "      <td>33</td>\n",
       "    </tr>\n",
       "  </tbody>\n",
       "</table>\n",
       "</div>"
      ],
      "text/plain": [
       "col_0      0   1\n",
       "survived        \n",
       "0         79   3\n",
       "1         19  33"
      ]
     },
     "execution_count": 20,
     "metadata": {},
     "output_type": "execute_result"
    }
   ],
   "source": [
    "#creating a crosstab for the val confusion matrix\n",
    "\n",
    "v_pred = clf.predict(X_val)\n",
    "val_ct = pd.crosstab(y_val, v_pred)\n",
    "val_ct"
   ]
  },
  {
   "cell_type": "code",
   "execution_count": 21,
   "id": "28a5ba31-fdbb-4b6f-a53c-341239b1abcb",
   "metadata": {},
   "outputs": [
    {
     "data": {
      "text/html": [
       "<div>\n",
       "<style scoped>\n",
       "    .dataframe tbody tr th:only-of-type {\n",
       "        vertical-align: middle;\n",
       "    }\n",
       "\n",
       "    .dataframe tbody tr th {\n",
       "        vertical-align: top;\n",
       "    }\n",
       "\n",
       "    .dataframe thead th {\n",
       "        text-align: right;\n",
       "    }\n",
       "</style>\n",
       "<table border=\"1\" class=\"dataframe\">\n",
       "  <thead>\n",
       "    <tr style=\"text-align: right;\">\n",
       "      <th>col_0</th>\n",
       "      <th>0</th>\n",
       "      <th>1</th>\n",
       "    </tr>\n",
       "    <tr>\n",
       "      <th>survived</th>\n",
       "      <th></th>\n",
       "      <th></th>\n",
       "    </tr>\n",
       "  </thead>\n",
       "  <tbody>\n",
       "    <tr>\n",
       "      <th>0</th>\n",
       "      <td>371</td>\n",
       "      <td>13</td>\n",
       "    </tr>\n",
       "    <tr>\n",
       "      <th>1</th>\n",
       "      <td>83</td>\n",
       "      <td>156</td>\n",
       "    </tr>\n",
       "  </tbody>\n",
       "</table>\n",
       "</div>"
      ],
      "text/plain": [
       "col_0       0    1\n",
       "survived          \n",
       "0         371   13\n",
       "1          83  156"
      ]
     },
     "execution_count": 21,
     "metadata": {},
     "output_type": "execute_result"
    }
   ],
   "source": [
    "#creating a crosstab for the train confusion matrix\n",
    "\n",
    "train_ct = pd.crosstab(y_train, t_pred)\n",
    "train_ct"
   ]
  },
  {
   "cell_type": "code",
   "execution_count": 22,
   "id": "8e28e1ab-1b93-47ba-b89f-dd2e56cdc604",
   "metadata": {},
   "outputs": [
    {
     "data": {
      "text/plain": [
       "0.9661458333333334"
      ]
     },
     "execution_count": 22,
     "metadata": {},
     "output_type": "execute_result"
    }
   ],
   "source": [
    "371 / (371 + 13)"
   ]
  },
  {
   "cell_type": "markdown",
   "id": "3d77b61d-1ee4-4be7-916c-8a7457b45c11",
   "metadata": {},
   "source": [
    "#confusion matrix\n",
    "\n",
    "accuracy = (371 + 156) / (371 + 156 + 83 + 13)  \n",
    "ans=> 85\n",
    "\n",
    "precision = 371 / (371 + 83)  \n",
    "ans=> 82\n",
    "\n",
    "recall = 371 / (371 + 13)  \n",
    "ans=> 97"
   ]
  },
  {
   "cell_type": "code",
   "execution_count": 23,
   "id": "0c446371-c5b3-427a-90d0-90a30787192d",
   "metadata": {},
   "outputs": [
    {
     "name": "stdout",
     "output_type": "stream",
     "text": [
      "              precision    recall  f1-score   support\n",
      "\n",
      "           0       0.82      0.97      0.89       384\n",
      "           1       0.92      0.65      0.76       239\n",
      "\n",
      "    accuracy                           0.85       623\n",
      "   macro avg       0.87      0.81      0.83       623\n",
      "weighted avg       0.86      0.85      0.84       623\n",
      "\n"
     ]
    }
   ],
   "source": [
    "#classification report\n",
    "\n",
    "print(classification_report(y_train, t_pred))"
   ]
  },
  {
   "cell_type": "markdown",
   "id": "0a616f18-e7d1-46ec-869c-e1e4f9c82a11",
   "metadata": {},
   "source": [
    "4) Compute: Accuracy, true positive rate, false positive rate, true negative rate, false negative rate, precision, recall, f1-score, and support."
   ]
  },
  {
   "cell_type": "code",
   "execution_count": 24,
   "id": "fb6b8088-fad8-4251-9c8f-e955d2564fee",
   "metadata": {},
   "outputs": [
    {
     "data": {
      "text/html": [
       "<div>\n",
       "<style scoped>\n",
       "    .dataframe tbody tr th:only-of-type {\n",
       "        vertical-align: middle;\n",
       "    }\n",
       "\n",
       "    .dataframe tbody tr th {\n",
       "        vertical-align: top;\n",
       "    }\n",
       "\n",
       "    .dataframe thead th {\n",
       "        text-align: right;\n",
       "    }\n",
       "</style>\n",
       "<table border=\"1\" class=\"dataframe\">\n",
       "  <thead>\n",
       "    <tr style=\"text-align: right;\">\n",
       "      <th>col_0</th>\n",
       "      <th>0</th>\n",
       "      <th>1</th>\n",
       "    </tr>\n",
       "    <tr>\n",
       "      <th>survived</th>\n",
       "      <th></th>\n",
       "      <th></th>\n",
       "    </tr>\n",
       "  </thead>\n",
       "  <tbody>\n",
       "    <tr>\n",
       "      <th>0</th>\n",
       "      <td>371</td>\n",
       "      <td>13</td>\n",
       "    </tr>\n",
       "    <tr>\n",
       "      <th>1</th>\n",
       "      <td>83</td>\n",
       "      <td>156</td>\n",
       "    </tr>\n",
       "  </tbody>\n",
       "</table>\n",
       "</div>"
      ],
      "text/plain": [
       "col_0       0    1\n",
       "survived          \n",
       "0         371   13\n",
       "1          83  156"
      ]
     },
     "execution_count": 24,
     "metadata": {},
     "output_type": "execute_result"
    }
   ],
   "source": [
    "#creating a crosstab for the metrics below\n",
    "\n",
    "train_ct"
   ]
  },
  {
   "cell_type": "markdown",
   "id": "37a1ab58-0bfe-48ff-91d9-e5be2728386a",
   "metadata": {},
   "source": [
    "#### train"
   ]
  },
  {
   "cell_type": "code",
   "execution_count": 25,
   "id": "2b7adad6-5373-45ce-a7f8-eebf0c94dd81",
   "metadata": {},
   "outputs": [
    {
     "data": {
      "text/html": [
       "<div>\n",
       "<style scoped>\n",
       "    .dataframe tbody tr th:only-of-type {\n",
       "        vertical-align: middle;\n",
       "    }\n",
       "\n",
       "    .dataframe tbody tr th {\n",
       "        vertical-align: top;\n",
       "    }\n",
       "\n",
       "    .dataframe thead th {\n",
       "        text-align: right;\n",
       "    }\n",
       "</style>\n",
       "<table border=\"1\" class=\"dataframe\">\n",
       "  <thead>\n",
       "    <tr style=\"text-align: right;\">\n",
       "      <th></th>\n",
       "      <th>Metric</th>\n",
       "      <th>Value</th>\n",
       "    </tr>\n",
       "  </thead>\n",
       "  <tbody>\n",
       "    <tr>\n",
       "      <th>0</th>\n",
       "      <td>Accuracy</td>\n",
       "      <td>(TP + TN) /\\t(TP + TN + FP + FN)</td>\n",
       "    </tr>\n",
       "    <tr>\n",
       "      <th>1</th>\n",
       "      <td>Recall</td>\n",
       "      <td>TP / (TP + FN)</td>\n",
       "    </tr>\n",
       "    <tr>\n",
       "      <th>2</th>\n",
       "      <td>True positive Rate</td>\n",
       "      <td>TP / (TP + FN)</td>\n",
       "    </tr>\n",
       "    <tr>\n",
       "      <th>3</th>\n",
       "      <td>False Positive Rate</td>\n",
       "      <td>FP / (FP + TN)</td>\n",
       "    </tr>\n",
       "    <tr>\n",
       "      <th>4</th>\n",
       "      <td>True Negative Rate</td>\n",
       "      <td>TN / (TN + FP)</td>\n",
       "    </tr>\n",
       "    <tr>\n",
       "      <th>5</th>\n",
       "      <td>False Negative Rate</td>\n",
       "      <td>FN / (FN + TP)</td>\n",
       "    </tr>\n",
       "    <tr>\n",
       "      <th>6</th>\n",
       "      <td>Precision</td>\n",
       "      <td>TP / (TP + FP)</td>\n",
       "    </tr>\n",
       "    <tr>\n",
       "      <th>7</th>\n",
       "      <td>F1-Score</td>\n",
       "      <td>2 * (precision * recall) / (precision + recall)</td>\n",
       "    </tr>\n",
       "    <tr>\n",
       "      <th>8</th>\n",
       "      <td>Support</td>\n",
       "      <td>TP + FN</td>\n",
       "    </tr>\n",
       "  </tbody>\n",
       "</table>\n",
       "</div>"
      ],
      "text/plain": [
       "                Metric                                            Value\n",
       "0             Accuracy                 (TP + TN) /\\t(TP + TN + FP + FN)\n",
       "1               Recall                                   TP / (TP + FN)\n",
       "2   True positive Rate                                   TP / (TP + FN)\n",
       "3  False Positive Rate                                   FP / (FP + TN)\n",
       "4   True Negative Rate                                   TN / (TN + FP)\n",
       "5  False Negative Rate                                   FN / (FN + TP)\n",
       "6            Precision                                   TP / (TP + FP)\n",
       "7             F1-Score  2 * (precision * recall) / (precision + recall)\n",
       "8              Support                                          TP + FN"
      ]
     },
     "execution_count": 25,
     "metadata": {},
     "output_type": "execute_result"
    }
   ],
   "source": [
    "metrics"
   ]
  },
  {
   "cell_type": "code",
   "execution_count": 26,
   "id": "932adfc0-a3ec-4952-a3a3-16a1b680bdbf",
   "metadata": {},
   "outputs": [
    {
     "data": {
      "text/html": [
       "<div>\n",
       "<style scoped>\n",
       "    .dataframe tbody tr th:only-of-type {\n",
       "        vertical-align: middle;\n",
       "    }\n",
       "\n",
       "    .dataframe tbody tr th {\n",
       "        vertical-align: top;\n",
       "    }\n",
       "\n",
       "    .dataframe thead th {\n",
       "        text-align: right;\n",
       "    }\n",
       "</style>\n",
       "<table border=\"1\" class=\"dataframe\">\n",
       "  <thead>\n",
       "    <tr style=\"text-align: right;\">\n",
       "      <th></th>\n",
       "      <th>Predicted Positive</th>\n",
       "      <th>Predicted Negative</th>\n",
       "    </tr>\n",
       "    <tr>\n",
       "      <th></th>\n",
       "      <th></th>\n",
       "      <th></th>\n",
       "    </tr>\n",
       "  </thead>\n",
       "  <tbody>\n",
       "    <tr>\n",
       "      <th>Actual Positive</th>\n",
       "      <td>True Positive (TP)</td>\n",
       "      <td>False Negative (FN)</td>\n",
       "    </tr>\n",
       "    <tr>\n",
       "      <th>Actual Negative</th>\n",
       "      <td>False Positive (FP)</td>\n",
       "      <td>True Negative (TN)</td>\n",
       "    </tr>\n",
       "  </tbody>\n",
       "</table>\n",
       "</div>"
      ],
      "text/plain": [
       "                  Predicted Positive   Predicted Negative\n",
       "                                                         \n",
       "Actual Positive   True Positive (TP)  False Negative (FN)\n",
       "Actual Negative  False Positive (FP)   True Negative (TN)"
      ]
     },
     "execution_count": 26,
     "metadata": {},
     "output_type": "execute_result"
    }
   ],
   "source": [
    "rubric"
   ]
  },
  {
   "cell_type": "code",
   "execution_count": 27,
   "id": "b2e292d6-ba57-4249-88cd-7dfe83d2e5b7",
   "metadata": {},
   "outputs": [
    {
     "data": {
      "text/plain": [
       "0.8459069020866774"
      ]
     },
     "execution_count": 27,
     "metadata": {},
     "output_type": "execute_result"
    }
   ],
   "source": [
    "# accuracy\n",
    "\n",
    "t_acc = (371 + 156) / (371 + 156 + 83 + 13)\n",
    "t_acc"
   ]
  },
  {
   "cell_type": "code",
   "execution_count": 28,
   "id": "f0f270cc-976a-4bb8-88f4-fe8df48764b6",
   "metadata": {},
   "outputs": [
    {
     "data": {
      "text/plain": [
       "0.9661458333333334"
      ]
     },
     "execution_count": 28,
     "metadata": {},
     "output_type": "execute_result"
    }
   ],
   "source": [
    "#true positive rate\n",
    "\n",
    "t_tpr = 371 / (371 + 13)\n",
    "t_tpr"
   ]
  },
  {
   "cell_type": "code",
   "execution_count": 29,
   "id": "43dd7a14-d78f-4f2f-ab88-1e352e110f7d",
   "metadata": {},
   "outputs": [
    {
     "data": {
      "text/plain": [
       "0.3472803347280335"
      ]
     },
     "execution_count": 29,
     "metadata": {},
     "output_type": "execute_result"
    }
   ],
   "source": [
    "#false positive rate\n",
    "\n",
    "fpr = 83 / (83 + 156)\n",
    "fpr"
   ]
  },
  {
   "cell_type": "code",
   "execution_count": 30,
   "id": "92086f33-f23e-4e53-9462-0f2fb53ac427",
   "metadata": {},
   "outputs": [
    {
     "data": {
      "text/plain": [
       "0.6527196652719666"
      ]
     },
     "execution_count": 30,
     "metadata": {},
     "output_type": "execute_result"
    }
   ],
   "source": [
    "#true negative rate\n",
    "\n",
    "tnr = 156 / (156 + 83)\n",
    "tnr"
   ]
  },
  {
   "cell_type": "code",
   "execution_count": 31,
   "id": "861eb4d6-52a2-431e-9216-51a81f342a36",
   "metadata": {},
   "outputs": [
    {
     "data": {
      "text/plain": [
       "0.033854166666666664"
      ]
     },
     "execution_count": 31,
     "metadata": {},
     "output_type": "execute_result"
    }
   ],
   "source": [
    "#false negative rate\n",
    "\n",
    "fnr = 13 / (13 + 371)\n",
    "fnr"
   ]
  },
  {
   "cell_type": "code",
   "execution_count": 32,
   "id": "41a9a075-467e-465d-aef8-a51badbb88d1",
   "metadata": {},
   "outputs": [
    {
     "data": {
      "text/plain": [
       "0.8171806167400881"
      ]
     },
     "execution_count": 32,
     "metadata": {},
     "output_type": "execute_result"
    }
   ],
   "source": [
    "#precision\n",
    "\n",
    "pre = 371 / (371 + 83)\n",
    "pre"
   ]
  },
  {
   "cell_type": "code",
   "execution_count": 33,
   "id": "4aac8610-3558-4422-a511-dd2d9070508c",
   "metadata": {},
   "outputs": [
    {
     "data": {
      "text/plain": [
       "0.8171806167400881"
      ]
     },
     "execution_count": 33,
     "metadata": {},
     "output_type": "execute_result"
    }
   ],
   "source": [
    "#recall\n",
    "\n",
    "rec = 371 / (371 + 83)\n",
    "rec"
   ]
  },
  {
   "cell_type": "code",
   "execution_count": 34,
   "id": "9f96f970-128e-4a77-861d-b0ef5d347a7e",
   "metadata": {},
   "outputs": [
    {
     "data": {
      "text/plain": [
       "0.817180616740088"
      ]
     },
     "execution_count": 34,
     "metadata": {},
     "output_type": "execute_result"
    }
   ],
   "source": [
    "#F1 score\n",
    "\n",
    "F1 = 2 * (pre * rec) / (pre + rec)\n",
    "F1"
   ]
  },
  {
   "cell_type": "code",
   "execution_count": 35,
   "id": "6421a34d-64ff-4f52-bade-82755c879bbc",
   "metadata": {},
   "outputs": [
    {
     "data": {
      "text/plain": [
       "384"
      ]
     },
     "execution_count": 35,
     "metadata": {},
     "output_type": "execute_result"
    }
   ],
   "source": [
    "#support\n",
    "\n",
    "371 + 13"
   ]
  },
  {
   "cell_type": "markdown",
   "id": "62740f8b-b9e9-4fa7-a470-f2253dc37d04",
   "metadata": {},
   "source": [
    "5) Run through steps 2-4 using a different max_depth value."
   ]
  },
  {
   "cell_type": "code",
   "execution_count": 36,
   "id": "d4a49255-c7f3-41f0-a76b-3cbe24dde3a4",
   "metadata": {},
   "outputs": [],
   "source": [
    "seed = 42\n",
    "train_acc = []\n",
    "val_acc = []\n",
    "depth = []\n",
    "\n",
    "for i in range(2, 20):\n",
    "\n",
    "    clf = DecisionTreeClassifier(max_depth = i, random_state = seed)\n",
    "\n",
    "    clf.fit(X_train, y_train)\n",
    "\n",
    "    train_acc.append(clf.score(X_train, y_train))\n",
    "\n",
    "    val_acc.append(clf.score(X_val, y_val))\n",
    "\n",
    "    depth.append(i)"
   ]
  },
  {
   "cell_type": "code",
   "execution_count": 37,
   "id": "177ac019-b791-4406-b222-fd80a8de8d9c",
   "metadata": {},
   "outputs": [
    {
     "data": {
      "text/html": [
       "<div>\n",
       "<style scoped>\n",
       "    .dataframe tbody tr th:only-of-type {\n",
       "        vertical-align: middle;\n",
       "    }\n",
       "\n",
       "    .dataframe tbody tr th {\n",
       "        vertical-align: top;\n",
       "    }\n",
       "\n",
       "    .dataframe thead th {\n",
       "        text-align: right;\n",
       "    }\n",
       "</style>\n",
       "<table border=\"1\" class=\"dataframe\">\n",
       "  <thead>\n",
       "    <tr style=\"text-align: right;\">\n",
       "      <th></th>\n",
       "      <th>max_depth</th>\n",
       "      <th>train_acc</th>\n",
       "      <th>val_acc</th>\n",
       "    </tr>\n",
       "  </thead>\n",
       "  <tbody>\n",
       "    <tr>\n",
       "      <th>0</th>\n",
       "      <td>2</td>\n",
       "      <td>0.807384</td>\n",
       "      <td>0.798507</td>\n",
       "    </tr>\n",
       "    <tr>\n",
       "      <th>1</th>\n",
       "      <td>3</td>\n",
       "      <td>0.829856</td>\n",
       "      <td>0.835821</td>\n",
       "    </tr>\n",
       "    <tr>\n",
       "      <th>2</th>\n",
       "      <td>4</td>\n",
       "      <td>0.845907</td>\n",
       "      <td>0.835821</td>\n",
       "    </tr>\n",
       "    <tr>\n",
       "      <th>3</th>\n",
       "      <td>5</td>\n",
       "      <td>0.863563</td>\n",
       "      <td>0.820896</td>\n",
       "    </tr>\n",
       "    <tr>\n",
       "      <th>4</th>\n",
       "      <td>6</td>\n",
       "      <td>0.879615</td>\n",
       "      <td>0.820896</td>\n",
       "    </tr>\n",
       "    <tr>\n",
       "      <th>5</th>\n",
       "      <td>7</td>\n",
       "      <td>0.894061</td>\n",
       "      <td>0.798507</td>\n",
       "    </tr>\n",
       "    <tr>\n",
       "      <th>6</th>\n",
       "      <td>8</td>\n",
       "      <td>0.913323</td>\n",
       "      <td>0.798507</td>\n",
       "    </tr>\n",
       "    <tr>\n",
       "      <th>7</th>\n",
       "      <td>9</td>\n",
       "      <td>0.922953</td>\n",
       "      <td>0.813433</td>\n",
       "    </tr>\n",
       "    <tr>\n",
       "      <th>8</th>\n",
       "      <td>10</td>\n",
       "      <td>0.934189</td>\n",
       "      <td>0.798507</td>\n",
       "    </tr>\n",
       "    <tr>\n",
       "      <th>9</th>\n",
       "      <td>11</td>\n",
       "      <td>0.948636</td>\n",
       "      <td>0.805970</td>\n",
       "    </tr>\n",
       "    <tr>\n",
       "      <th>10</th>\n",
       "      <td>12</td>\n",
       "      <td>0.959872</td>\n",
       "      <td>0.798507</td>\n",
       "    </tr>\n",
       "    <tr>\n",
       "      <th>11</th>\n",
       "      <td>13</td>\n",
       "      <td>0.964687</td>\n",
       "      <td>0.783582</td>\n",
       "    </tr>\n",
       "    <tr>\n",
       "      <th>12</th>\n",
       "      <td>14</td>\n",
       "      <td>0.971108</td>\n",
       "      <td>0.783582</td>\n",
       "    </tr>\n",
       "    <tr>\n",
       "      <th>13</th>\n",
       "      <td>15</td>\n",
       "      <td>0.974318</td>\n",
       "      <td>0.783582</td>\n",
       "    </tr>\n",
       "    <tr>\n",
       "      <th>14</th>\n",
       "      <td>16</td>\n",
       "      <td>0.975923</td>\n",
       "      <td>0.776119</td>\n",
       "    </tr>\n",
       "    <tr>\n",
       "      <th>15</th>\n",
       "      <td>17</td>\n",
       "      <td>0.977528</td>\n",
       "      <td>0.776119</td>\n",
       "    </tr>\n",
       "    <tr>\n",
       "      <th>16</th>\n",
       "      <td>18</td>\n",
       "      <td>0.979133</td>\n",
       "      <td>0.783582</td>\n",
       "    </tr>\n",
       "    <tr>\n",
       "      <th>17</th>\n",
       "      <td>19</td>\n",
       "      <td>0.979133</td>\n",
       "      <td>0.783582</td>\n",
       "    </tr>\n",
       "  </tbody>\n",
       "</table>\n",
       "</div>"
      ],
      "text/plain": [
       "    max_depth  train_acc   val_acc\n",
       "0           2   0.807384  0.798507\n",
       "1           3   0.829856  0.835821\n",
       "2           4   0.845907  0.835821\n",
       "3           5   0.863563  0.820896\n",
       "4           6   0.879615  0.820896\n",
       "5           7   0.894061  0.798507\n",
       "6           8   0.913323  0.798507\n",
       "7           9   0.922953  0.813433\n",
       "8          10   0.934189  0.798507\n",
       "9          11   0.948636  0.805970\n",
       "10         12   0.959872  0.798507\n",
       "11         13   0.964687  0.783582\n",
       "12         14   0.971108  0.783582\n",
       "13         15   0.974318  0.783582\n",
       "14         16   0.975923  0.776119\n",
       "15         17   0.977528  0.776119\n",
       "16         18   0.979133  0.783582\n",
       "17         19   0.979133  0.783582"
      ]
     },
     "execution_count": 37,
     "metadata": {},
     "output_type": "execute_result"
    }
   ],
   "source": [
    "pd.DataFrame({'max_depth' : depth, 'train_acc' : train_acc, 'val_acc' : val_acc})"
   ]
  },
  {
   "cell_type": "code",
   "execution_count": 38,
   "id": "87b2c098-c940-4ec7-a8b9-c8932fe4beab",
   "metadata": {},
   "outputs": [],
   "source": [
    "seed = 42\n",
    "train_acc = []\n",
    "val_acc = []\n",
    "depth = []\n",
    "\n",
    "for i in range(2, 10):\n",
    "\n",
    "    clf = DecisionTreeClassifier(max_depth = i, random_state = seed)\n",
    "\n",
    "    clf.fit(X_train, y_train)\n",
    "\n",
    "    train_acc.append(clf.score(X_train, y_train))\n",
    "\n",
    "    val_acc.append(clf.score(X_val, y_val))\n",
    "\n",
    "    depth.append(i)"
   ]
  },
  {
   "cell_type": "code",
   "execution_count": 39,
   "id": "30fc59f3-df0a-4274-8eee-686c6934bae6",
   "metadata": {},
   "outputs": [
    {
     "data": {
      "text/html": [
       "<div>\n",
       "<style scoped>\n",
       "    .dataframe tbody tr th:only-of-type {\n",
       "        vertical-align: middle;\n",
       "    }\n",
       "\n",
       "    .dataframe tbody tr th {\n",
       "        vertical-align: top;\n",
       "    }\n",
       "\n",
       "    .dataframe thead th {\n",
       "        text-align: right;\n",
       "    }\n",
       "</style>\n",
       "<table border=\"1\" class=\"dataframe\">\n",
       "  <thead>\n",
       "    <tr style=\"text-align: right;\">\n",
       "      <th></th>\n",
       "      <th>max_depth</th>\n",
       "      <th>train_acc</th>\n",
       "      <th>val_acc</th>\n",
       "    </tr>\n",
       "  </thead>\n",
       "  <tbody>\n",
       "    <tr>\n",
       "      <th>0</th>\n",
       "      <td>2</td>\n",
       "      <td>0.807384</td>\n",
       "      <td>0.798507</td>\n",
       "    </tr>\n",
       "    <tr>\n",
       "      <th>1</th>\n",
       "      <td>3</td>\n",
       "      <td>0.829856</td>\n",
       "      <td>0.835821</td>\n",
       "    </tr>\n",
       "    <tr>\n",
       "      <th>2</th>\n",
       "      <td>4</td>\n",
       "      <td>0.845907</td>\n",
       "      <td>0.835821</td>\n",
       "    </tr>\n",
       "    <tr>\n",
       "      <th>3</th>\n",
       "      <td>5</td>\n",
       "      <td>0.863563</td>\n",
       "      <td>0.820896</td>\n",
       "    </tr>\n",
       "    <tr>\n",
       "      <th>4</th>\n",
       "      <td>6</td>\n",
       "      <td>0.879615</td>\n",
       "      <td>0.820896</td>\n",
       "    </tr>\n",
       "    <tr>\n",
       "      <th>5</th>\n",
       "      <td>7</td>\n",
       "      <td>0.894061</td>\n",
       "      <td>0.798507</td>\n",
       "    </tr>\n",
       "    <tr>\n",
       "      <th>6</th>\n",
       "      <td>8</td>\n",
       "      <td>0.913323</td>\n",
       "      <td>0.798507</td>\n",
       "    </tr>\n",
       "    <tr>\n",
       "      <th>7</th>\n",
       "      <td>9</td>\n",
       "      <td>0.922953</td>\n",
       "      <td>0.813433</td>\n",
       "    </tr>\n",
       "  </tbody>\n",
       "</table>\n",
       "</div>"
      ],
      "text/plain": [
       "   max_depth  train_acc   val_acc\n",
       "0          2   0.807384  0.798507\n",
       "1          3   0.829856  0.835821\n",
       "2          4   0.845907  0.835821\n",
       "3          5   0.863563  0.820896\n",
       "4          6   0.879615  0.820896\n",
       "5          7   0.894061  0.798507\n",
       "6          8   0.913323  0.798507\n",
       "7          9   0.922953  0.813433"
      ]
     },
     "execution_count": 39,
     "metadata": {},
     "output_type": "execute_result"
    }
   ],
   "source": [
    "pd.DataFrame({'max_depth' : depth, 'train_acc' : train_acc, 'val_acc' : val_acc})"
   ]
  },
  {
   "cell_type": "markdown",
   "id": "9defdde0-0824-43df-8ef9-40d8928de254",
   "metadata": {},
   "source": [
    "6) Which model performs better on your in-sample data?"
   ]
  },
  {
   "cell_type": "markdown",
   "id": "66f8dc78-f130-463e-b401-c7e171e1c467",
   "metadata": {},
   "source": [
    "Recall model works best for the in-sample data!"
   ]
  },
  {
   "cell_type": "markdown",
   "id": "1120a265-5dd7-48a3-a8ab-d6f246c44195",
   "metadata": {},
   "source": [
    "7) Which model performs best on your out-of-sample data, the validate set?"
   ]
  },
  {
   "cell_type": "code",
   "execution_count": 40,
   "id": "dc2430d4-0d7a-4b9b-ba9c-215f2bc020b8",
   "metadata": {},
   "outputs": [
    {
     "data": {
      "text/html": [
       "<div>\n",
       "<style scoped>\n",
       "    .dataframe tbody tr th:only-of-type {\n",
       "        vertical-align: middle;\n",
       "    }\n",
       "\n",
       "    .dataframe tbody tr th {\n",
       "        vertical-align: top;\n",
       "    }\n",
       "\n",
       "    .dataframe thead th {\n",
       "        text-align: right;\n",
       "    }\n",
       "</style>\n",
       "<table border=\"1\" class=\"dataframe\">\n",
       "  <thead>\n",
       "    <tr style=\"text-align: right;\">\n",
       "      <th>col_0</th>\n",
       "      <th>0</th>\n",
       "      <th>1</th>\n",
       "    </tr>\n",
       "    <tr>\n",
       "      <th>survived</th>\n",
       "      <th></th>\n",
       "      <th></th>\n",
       "    </tr>\n",
       "  </thead>\n",
       "  <tbody>\n",
       "    <tr>\n",
       "      <th>0</th>\n",
       "      <td>79</td>\n",
       "      <td>3</td>\n",
       "    </tr>\n",
       "    <tr>\n",
       "      <th>1</th>\n",
       "      <td>19</td>\n",
       "      <td>33</td>\n",
       "    </tr>\n",
       "  </tbody>\n",
       "</table>\n",
       "</div>"
      ],
      "text/plain": [
       "col_0      0   1\n",
       "survived        \n",
       "0         79   3\n",
       "1         19  33"
      ]
     },
     "execution_count": 40,
     "metadata": {},
     "output_type": "execute_result"
    }
   ],
   "source": [
    "val_ct"
   ]
  },
  {
   "cell_type": "markdown",
   "id": "82ed13b2-4e69-42e9-a271-e56be3201e9f",
   "metadata": {},
   "source": [
    "#### validate"
   ]
  },
  {
   "cell_type": "code",
   "execution_count": 41,
   "id": "a396a33b-169f-4ca7-be50-a339fbe47d1a",
   "metadata": {},
   "outputs": [
    {
     "data": {
      "text/html": [
       "<div>\n",
       "<style scoped>\n",
       "    .dataframe tbody tr th:only-of-type {\n",
       "        vertical-align: middle;\n",
       "    }\n",
       "\n",
       "    .dataframe tbody tr th {\n",
       "        vertical-align: top;\n",
       "    }\n",
       "\n",
       "    .dataframe thead th {\n",
       "        text-align: right;\n",
       "    }\n",
       "</style>\n",
       "<table border=\"1\" class=\"dataframe\">\n",
       "  <thead>\n",
       "    <tr style=\"text-align: right;\">\n",
       "      <th></th>\n",
       "      <th>Predicted Positive</th>\n",
       "      <th>Predicted Negative</th>\n",
       "    </tr>\n",
       "    <tr>\n",
       "      <th></th>\n",
       "      <th></th>\n",
       "      <th></th>\n",
       "    </tr>\n",
       "  </thead>\n",
       "  <tbody>\n",
       "    <tr>\n",
       "      <th>Actual Positive</th>\n",
       "      <td>True Positive (TP)</td>\n",
       "      <td>False Negative (FN)</td>\n",
       "    </tr>\n",
       "    <tr>\n",
       "      <th>Actual Negative</th>\n",
       "      <td>False Positive (FP)</td>\n",
       "      <td>True Negative (TN)</td>\n",
       "    </tr>\n",
       "  </tbody>\n",
       "</table>\n",
       "</div>"
      ],
      "text/plain": [
       "                  Predicted Positive   Predicted Negative\n",
       "                                                         \n",
       "Actual Positive   True Positive (TP)  False Negative (FN)\n",
       "Actual Negative  False Positive (FP)   True Negative (TN)"
      ]
     },
     "execution_count": 41,
     "metadata": {},
     "output_type": "execute_result"
    }
   ],
   "source": [
    "rubric"
   ]
  },
  {
   "cell_type": "code",
   "execution_count": 42,
   "id": "768f3ffa-affb-432a-99d5-23c2921b8a16",
   "metadata": {},
   "outputs": [
    {
     "data": {
      "text/html": [
       "<div>\n",
       "<style scoped>\n",
       "    .dataframe tbody tr th:only-of-type {\n",
       "        vertical-align: middle;\n",
       "    }\n",
       "\n",
       "    .dataframe tbody tr th {\n",
       "        vertical-align: top;\n",
       "    }\n",
       "\n",
       "    .dataframe thead th {\n",
       "        text-align: right;\n",
       "    }\n",
       "</style>\n",
       "<table border=\"1\" class=\"dataframe\">\n",
       "  <thead>\n",
       "    <tr style=\"text-align: right;\">\n",
       "      <th></th>\n",
       "      <th>Metric</th>\n",
       "      <th>Value</th>\n",
       "    </tr>\n",
       "  </thead>\n",
       "  <tbody>\n",
       "    <tr>\n",
       "      <th>0</th>\n",
       "      <td>Accuracy</td>\n",
       "      <td>(TP + TN) /\\t(TP + TN + FP + FN)</td>\n",
       "    </tr>\n",
       "    <tr>\n",
       "      <th>1</th>\n",
       "      <td>Recall</td>\n",
       "      <td>TP / (TP + FN)</td>\n",
       "    </tr>\n",
       "    <tr>\n",
       "      <th>2</th>\n",
       "      <td>True positive Rate</td>\n",
       "      <td>TP / (TP + FN)</td>\n",
       "    </tr>\n",
       "    <tr>\n",
       "      <th>3</th>\n",
       "      <td>False Positive Rate</td>\n",
       "      <td>FP / (FP + TN)</td>\n",
       "    </tr>\n",
       "    <tr>\n",
       "      <th>4</th>\n",
       "      <td>True Negative Rate</td>\n",
       "      <td>TN / (TN + FP)</td>\n",
       "    </tr>\n",
       "    <tr>\n",
       "      <th>5</th>\n",
       "      <td>False Negative Rate</td>\n",
       "      <td>FN / (FN + TP)</td>\n",
       "    </tr>\n",
       "    <tr>\n",
       "      <th>6</th>\n",
       "      <td>Precision</td>\n",
       "      <td>TP / (TP + FP)</td>\n",
       "    </tr>\n",
       "    <tr>\n",
       "      <th>7</th>\n",
       "      <td>F1-Score</td>\n",
       "      <td>2 * (precision * recall) / (precision + recall)</td>\n",
       "    </tr>\n",
       "    <tr>\n",
       "      <th>8</th>\n",
       "      <td>Support</td>\n",
       "      <td>TP + FN</td>\n",
       "    </tr>\n",
       "  </tbody>\n",
       "</table>\n",
       "</div>"
      ],
      "text/plain": [
       "                Metric                                            Value\n",
       "0             Accuracy                 (TP + TN) /\\t(TP + TN + FP + FN)\n",
       "1               Recall                                   TP / (TP + FN)\n",
       "2   True positive Rate                                   TP / (TP + FN)\n",
       "3  False Positive Rate                                   FP / (FP + TN)\n",
       "4   True Negative Rate                                   TN / (TN + FP)\n",
       "5  False Negative Rate                                   FN / (FN + TP)\n",
       "6            Precision                                   TP / (TP + FP)\n",
       "7             F1-Score  2 * (precision * recall) / (precision + recall)\n",
       "8              Support                                          TP + FN"
      ]
     },
     "execution_count": 42,
     "metadata": {},
     "output_type": "execute_result"
    }
   ],
   "source": [
    "metrics"
   ]
  },
  {
   "cell_type": "code",
   "execution_count": 43,
   "id": "4ae248d9-b2c7-4e43-be78-31d38853112a",
   "metadata": {},
   "outputs": [
    {
     "data": {
      "text/plain": [
       "0.8001893939393939"
      ]
     },
     "execution_count": 43,
     "metadata": {},
     "output_type": "execute_result"
    }
   ],
   "source": [
    "#accuracy\n",
    "\n",
    "v_acc = (687 + 158) / (687 + 158 + 122 + 89)\n",
    "v_acc"
   ]
  },
  {
   "cell_type": "code",
   "execution_count": 44,
   "id": "7efc15b3-778d-49d9-b073-d0c40ee7a5a3",
   "metadata": {},
   "outputs": [
    {
     "data": {
      "text/plain": [
       "0.8491965389369592"
      ]
     },
     "execution_count": 44,
     "metadata": {},
     "output_type": "execute_result"
    }
   ],
   "source": [
    "#precision\n",
    "\n",
    "v_pre = 687 / (687 + 122)\n",
    "v_pre"
   ]
  },
  {
   "cell_type": "code",
   "execution_count": 45,
   "id": "c709708e-b29a-4697-a7ea-6450b2a09bcc",
   "metadata": {},
   "outputs": [
    {
     "data": {
      "text/plain": [
       "0.8853092783505154"
      ]
     },
     "execution_count": 45,
     "metadata": {},
     "output_type": "execute_result"
    }
   ],
   "source": [
    "#recall\n",
    "\n",
    "v_rec = 687 / (687 + 89)\n",
    "v_rec"
   ]
  },
  {
   "cell_type": "markdown",
   "id": "813fe789-7e35-46c9-9ff1-38f9b80a9a22",
   "metadata": {},
   "source": [
    "Recall works best for the out of sample data!"
   ]
  },
  {
   "cell_type": "markdown",
   "id": "6653e8d4-860c-498c-b23c-b92965ff0f69",
   "metadata": {},
   "source": [
    " "
   ]
  },
  {
   "cell_type": "markdown",
   "id": "18064d0f-ed68-4ba1-8172-47811df555a0",
   "metadata": {},
   "source": [
    "# Telco"
   ]
  },
  {
   "cell_type": "markdown",
   "id": "e9a9139e-5103-41b1-a8a7-0b607d5f1872",
   "metadata": {},
   "source": [
    "1) What is your baseline prediction? What is your baseline accuracy? remember: your baseline prediction for a classification problem is predicting the most prevelant class in the training dataset (the mode). When you make those predictions, what is your accuracy? This is your baseline accuracy."
   ]
  },
  {
   "cell_type": "code",
   "execution_count": 46,
   "id": "1b18a0c8-bd79-454b-aa96-5806f5ebec63",
   "metadata": {},
   "outputs": [
    {
     "data": {
      "text/html": [
       "<div>\n",
       "<style scoped>\n",
       "    .dataframe tbody tr th:only-of-type {\n",
       "        vertical-align: middle;\n",
       "    }\n",
       "\n",
       "    .dataframe tbody tr th {\n",
       "        vertical-align: top;\n",
       "    }\n",
       "\n",
       "    .dataframe thead th {\n",
       "        text-align: right;\n",
       "    }\n",
       "</style>\n",
       "<table border=\"1\" class=\"dataframe\">\n",
       "  <thead>\n",
       "    <tr style=\"text-align: right;\">\n",
       "      <th></th>\n",
       "      <th>gender</th>\n",
       "      <th>senior_citizen</th>\n",
       "      <th>partner</th>\n",
       "      <th>dependents</th>\n",
       "      <th>tenure</th>\n",
       "      <th>phone_service</th>\n",
       "      <th>multiple_lines</th>\n",
       "      <th>online_security</th>\n",
       "      <th>online_backup</th>\n",
       "      <th>device_protection</th>\n",
       "      <th>tech_support</th>\n",
       "      <th>streaming_tv</th>\n",
       "      <th>streaming_movies</th>\n",
       "      <th>paperless_billing</th>\n",
       "      <th>monthly_charges</th>\n",
       "      <th>total_charges</th>\n",
       "      <th>churn</th>\n",
       "      <th>contract_type</th>\n",
       "      <th>internet_service_type</th>\n",
       "      <th>payment_type</th>\n",
       "    </tr>\n",
       "  </thead>\n",
       "  <tbody>\n",
       "    <tr>\n",
       "      <th>0</th>\n",
       "      <td>Female</td>\n",
       "      <td>0</td>\n",
       "      <td>Yes</td>\n",
       "      <td>Yes</td>\n",
       "      <td>9</td>\n",
       "      <td>Yes</td>\n",
       "      <td>No</td>\n",
       "      <td>No</td>\n",
       "      <td>Yes</td>\n",
       "      <td>No</td>\n",
       "      <td>Yes</td>\n",
       "      <td>Yes</td>\n",
       "      <td>No</td>\n",
       "      <td>Yes</td>\n",
       "      <td>65.6</td>\n",
       "      <td>593.3</td>\n",
       "      <td>No</td>\n",
       "      <td>One year</td>\n",
       "      <td>DSL</td>\n",
       "      <td>Mailed check</td>\n",
       "    </tr>\n",
       "    <tr>\n",
       "      <th>1</th>\n",
       "      <td>Male</td>\n",
       "      <td>0</td>\n",
       "      <td>No</td>\n",
       "      <td>No</td>\n",
       "      <td>9</td>\n",
       "      <td>Yes</td>\n",
       "      <td>Yes</td>\n",
       "      <td>No</td>\n",
       "      <td>No</td>\n",
       "      <td>No</td>\n",
       "      <td>No</td>\n",
       "      <td>No</td>\n",
       "      <td>Yes</td>\n",
       "      <td>No</td>\n",
       "      <td>59.9</td>\n",
       "      <td>542.4</td>\n",
       "      <td>No</td>\n",
       "      <td>Month-to-month</td>\n",
       "      <td>DSL</td>\n",
       "      <td>Mailed check</td>\n",
       "    </tr>\n",
       "    <tr>\n",
       "      <th>2</th>\n",
       "      <td>Male</td>\n",
       "      <td>0</td>\n",
       "      <td>No</td>\n",
       "      <td>No</td>\n",
       "      <td>4</td>\n",
       "      <td>Yes</td>\n",
       "      <td>No</td>\n",
       "      <td>No</td>\n",
       "      <td>No</td>\n",
       "      <td>Yes</td>\n",
       "      <td>No</td>\n",
       "      <td>No</td>\n",
       "      <td>No</td>\n",
       "      <td>Yes</td>\n",
       "      <td>73.9</td>\n",
       "      <td>280.85</td>\n",
       "      <td>Yes</td>\n",
       "      <td>Month-to-month</td>\n",
       "      <td>Fiber optic</td>\n",
       "      <td>Electronic check</td>\n",
       "    </tr>\n",
       "    <tr>\n",
       "      <th>3</th>\n",
       "      <td>Male</td>\n",
       "      <td>1</td>\n",
       "      <td>Yes</td>\n",
       "      <td>No</td>\n",
       "      <td>13</td>\n",
       "      <td>Yes</td>\n",
       "      <td>No</td>\n",
       "      <td>No</td>\n",
       "      <td>Yes</td>\n",
       "      <td>Yes</td>\n",
       "      <td>No</td>\n",
       "      <td>Yes</td>\n",
       "      <td>Yes</td>\n",
       "      <td>Yes</td>\n",
       "      <td>98.0</td>\n",
       "      <td>1237.85</td>\n",
       "      <td>Yes</td>\n",
       "      <td>Month-to-month</td>\n",
       "      <td>Fiber optic</td>\n",
       "      <td>Electronic check</td>\n",
       "    </tr>\n",
       "    <tr>\n",
       "      <th>4</th>\n",
       "      <td>Female</td>\n",
       "      <td>1</td>\n",
       "      <td>Yes</td>\n",
       "      <td>No</td>\n",
       "      <td>3</td>\n",
       "      <td>Yes</td>\n",
       "      <td>No</td>\n",
       "      <td>No</td>\n",
       "      <td>No</td>\n",
       "      <td>No</td>\n",
       "      <td>Yes</td>\n",
       "      <td>Yes</td>\n",
       "      <td>No</td>\n",
       "      <td>Yes</td>\n",
       "      <td>83.9</td>\n",
       "      <td>267.4</td>\n",
       "      <td>Yes</td>\n",
       "      <td>Month-to-month</td>\n",
       "      <td>Fiber optic</td>\n",
       "      <td>Mailed check</td>\n",
       "    </tr>\n",
       "  </tbody>\n",
       "</table>\n",
       "</div>"
      ],
      "text/plain": [
       "   gender  senior_citizen partner dependents  tenure phone_service  \\\n",
       "0  Female               0     Yes        Yes       9           Yes   \n",
       "1    Male               0      No         No       9           Yes   \n",
       "2    Male               0      No         No       4           Yes   \n",
       "3    Male               1     Yes         No      13           Yes   \n",
       "4  Female               1     Yes         No       3           Yes   \n",
       "\n",
       "  multiple_lines online_security online_backup device_protection tech_support  \\\n",
       "0             No              No           Yes                No          Yes   \n",
       "1            Yes              No            No                No           No   \n",
       "2             No              No            No               Yes           No   \n",
       "3             No              No           Yes               Yes           No   \n",
       "4             No              No            No                No          Yes   \n",
       "\n",
       "  streaming_tv streaming_movies paperless_billing  monthly_charges  \\\n",
       "0          Yes               No               Yes             65.6   \n",
       "1           No              Yes                No             59.9   \n",
       "2           No               No               Yes             73.9   \n",
       "3          Yes              Yes               Yes             98.0   \n",
       "4          Yes               No               Yes             83.9   \n",
       "\n",
       "  total_charges churn   contract_type internet_service_type      payment_type  \n",
       "0         593.3    No        One year                   DSL      Mailed check  \n",
       "1         542.4    No  Month-to-month                   DSL      Mailed check  \n",
       "2        280.85   Yes  Month-to-month           Fiber optic  Electronic check  \n",
       "3       1237.85   Yes  Month-to-month           Fiber optic  Electronic check  \n",
       "4         267.4   Yes  Month-to-month           Fiber optic      Mailed check  "
      ]
     },
     "execution_count": 46,
     "metadata": {},
     "output_type": "execute_result"
    }
   ],
   "source": [
    "telco_df = prep_telco()\n",
    "telco_df.head()"
   ]
  },
  {
   "cell_type": "code",
   "execution_count": 47,
   "id": "4c7f29c8-56a6-4cdd-a2ee-8fc4a0477552",
   "metadata": {
    "scrolled": true
   },
   "outputs": [],
   "source": [
    "train, val, test = train_val_test(telco_df, strat = 'churn')"
   ]
  },
  {
   "cell_type": "code",
   "execution_count": 48,
   "id": "61cab617-2552-40a1-9b3a-884ae7a186e9",
   "metadata": {},
   "outputs": [
    {
     "data": {
      "text/html": [
       "<div>\n",
       "<style scoped>\n",
       "    .dataframe tbody tr th:only-of-type {\n",
       "        vertical-align: middle;\n",
       "    }\n",
       "\n",
       "    .dataframe tbody tr th {\n",
       "        vertical-align: top;\n",
       "    }\n",
       "\n",
       "    .dataframe thead th {\n",
       "        text-align: right;\n",
       "    }\n",
       "</style>\n",
       "<table border=\"1\" class=\"dataframe\">\n",
       "  <thead>\n",
       "    <tr style=\"text-align: right;\">\n",
       "      <th></th>\n",
       "      <th>senior_citizen</th>\n",
       "      <th>tenure</th>\n",
       "      <th>monthly_charges</th>\n",
       "      <th>total_charges</th>\n",
       "      <th>gender_Male</th>\n",
       "      <th>contract_type_One_year</th>\n",
       "      <th>contract_type_Two_year</th>\n",
       "      <th>internet_service_type_Fiber_optic</th>\n",
       "      <th>payment_type_Credit_card_(automatic)</th>\n",
       "      <th>payment_type_Electronic_check</th>\n",
       "      <th>...</th>\n",
       "      <th>device_protection_No_internet_service</th>\n",
       "      <th>device_protection_Yes</th>\n",
       "      <th>churn</th>\n",
       "      <th>tech_support_No_internet_service</th>\n",
       "      <th>tech_support_Yes</th>\n",
       "      <th>streaming_tv_No_internet_service</th>\n",
       "      <th>streaming_tv_Yes</th>\n",
       "      <th>streaming_movies_No_internet_service</th>\n",
       "      <th>streaming_movies_Yes</th>\n",
       "      <th>paperless_billing_Yes</th>\n",
       "    </tr>\n",
       "  </thead>\n",
       "  <tbody>\n",
       "    <tr>\n",
       "      <th>5609</th>\n",
       "      <td>0</td>\n",
       "      <td>14</td>\n",
       "      <td>76.45</td>\n",
       "      <td>1117.55</td>\n",
       "      <td>True</td>\n",
       "      <td>False</td>\n",
       "      <td>False</td>\n",
       "      <td>True</td>\n",
       "      <td>False</td>\n",
       "      <td>True</td>\n",
       "      <td>...</td>\n",
       "      <td>False</td>\n",
       "      <td>True</td>\n",
       "      <td>False</td>\n",
       "      <td>False</td>\n",
       "      <td>False</td>\n",
       "      <td>False</td>\n",
       "      <td>False</td>\n",
       "      <td>False</td>\n",
       "      <td>False</td>\n",
       "      <td>False</td>\n",
       "    </tr>\n",
       "    <tr>\n",
       "      <th>2209</th>\n",
       "      <td>0</td>\n",
       "      <td>5</td>\n",
       "      <td>70.00</td>\n",
       "      <td>347.4</td>\n",
       "      <td>True</td>\n",
       "      <td>True</td>\n",
       "      <td>False</td>\n",
       "      <td>False</td>\n",
       "      <td>False</td>\n",
       "      <td>False</td>\n",
       "      <td>...</td>\n",
       "      <td>False</td>\n",
       "      <td>True</td>\n",
       "      <td>True</td>\n",
       "      <td>False</td>\n",
       "      <td>False</td>\n",
       "      <td>False</td>\n",
       "      <td>True</td>\n",
       "      <td>False</td>\n",
       "      <td>True</td>\n",
       "      <td>True</td>\n",
       "    </tr>\n",
       "    <tr>\n",
       "      <th>6919</th>\n",
       "      <td>0</td>\n",
       "      <td>35</td>\n",
       "      <td>75.20</td>\n",
       "      <td>2576.2</td>\n",
       "      <td>True</td>\n",
       "      <td>False</td>\n",
       "      <td>False</td>\n",
       "      <td>True</td>\n",
       "      <td>False</td>\n",
       "      <td>True</td>\n",
       "      <td>...</td>\n",
       "      <td>False</td>\n",
       "      <td>False</td>\n",
       "      <td>True</td>\n",
       "      <td>False</td>\n",
       "      <td>False</td>\n",
       "      <td>False</td>\n",
       "      <td>False</td>\n",
       "      <td>False</td>\n",
       "      <td>False</td>\n",
       "      <td>True</td>\n",
       "    </tr>\n",
       "    <tr>\n",
       "      <th>2284</th>\n",
       "      <td>0</td>\n",
       "      <td>58</td>\n",
       "      <td>86.10</td>\n",
       "      <td>4890.5</td>\n",
       "      <td>True</td>\n",
       "      <td>False</td>\n",
       "      <td>True</td>\n",
       "      <td>False</td>\n",
       "      <td>False</td>\n",
       "      <td>True</td>\n",
       "      <td>...</td>\n",
       "      <td>False</td>\n",
       "      <td>True</td>\n",
       "      <td>False</td>\n",
       "      <td>False</td>\n",
       "      <td>False</td>\n",
       "      <td>False</td>\n",
       "      <td>True</td>\n",
       "      <td>False</td>\n",
       "      <td>True</td>\n",
       "      <td>True</td>\n",
       "    </tr>\n",
       "    <tr>\n",
       "      <th>845</th>\n",
       "      <td>0</td>\n",
       "      <td>2</td>\n",
       "      <td>49.60</td>\n",
       "      <td>114.7</td>\n",
       "      <td>False</td>\n",
       "      <td>False</td>\n",
       "      <td>False</td>\n",
       "      <td>False</td>\n",
       "      <td>False</td>\n",
       "      <td>False</td>\n",
       "      <td>...</td>\n",
       "      <td>False</td>\n",
       "      <td>False</td>\n",
       "      <td>True</td>\n",
       "      <td>False</td>\n",
       "      <td>False</td>\n",
       "      <td>False</td>\n",
       "      <td>False</td>\n",
       "      <td>False</td>\n",
       "      <td>False</td>\n",
       "      <td>True</td>\n",
       "    </tr>\n",
       "  </tbody>\n",
       "</table>\n",
       "<p>5 rows × 30 columns</p>\n",
       "</div>"
      ],
      "text/plain": [
       "      senior_citizen  tenure  monthly_charges total_charges  gender_Male  \\\n",
       "5609               0      14            76.45       1117.55         True   \n",
       "2209               0       5            70.00         347.4         True   \n",
       "6919               0      35            75.20        2576.2         True   \n",
       "2284               0      58            86.10        4890.5         True   \n",
       "845                0       2            49.60         114.7        False   \n",
       "\n",
       "      contract_type_One_year  contract_type_Two_year  \\\n",
       "5609                   False                   False   \n",
       "2209                    True                   False   \n",
       "6919                   False                   False   \n",
       "2284                   False                    True   \n",
       "845                    False                   False   \n",
       "\n",
       "      internet_service_type_Fiber_optic  payment_type_Credit_card_(automatic)  \\\n",
       "5609                               True                                 False   \n",
       "2209                              False                                 False   \n",
       "6919                               True                                 False   \n",
       "2284                              False                                 False   \n",
       "845                               False                                 False   \n",
       "\n",
       "      payment_type_Electronic_check  ...  \\\n",
       "5609                           True  ...   \n",
       "2209                          False  ...   \n",
       "6919                           True  ...   \n",
       "2284                           True  ...   \n",
       "845                           False  ...   \n",
       "\n",
       "      device_protection_No_internet_service  device_protection_Yes  churn  \\\n",
       "5609                                  False                   True  False   \n",
       "2209                                  False                   True   True   \n",
       "6919                                  False                  False   True   \n",
       "2284                                  False                   True  False   \n",
       "845                                   False                  False   True   \n",
       "\n",
       "      tech_support_No_internet_service  tech_support_Yes  \\\n",
       "5609                             False             False   \n",
       "2209                             False             False   \n",
       "6919                             False             False   \n",
       "2284                             False             False   \n",
       "845                              False             False   \n",
       "\n",
       "      streaming_tv_No_internet_service  streaming_tv_Yes  \\\n",
       "5609                             False             False   \n",
       "2209                             False              True   \n",
       "6919                             False             False   \n",
       "2284                             False              True   \n",
       "845                              False             False   \n",
       "\n",
       "      streaming_movies_No_internet_service  streaming_movies_Yes  \\\n",
       "5609                                 False                 False   \n",
       "2209                                 False                  True   \n",
       "6919                                 False                 False   \n",
       "2284                                 False                  True   \n",
       "845                                  False                 False   \n",
       "\n",
       "      paperless_billing_Yes  \n",
       "5609                  False  \n",
       "2209                   True  \n",
       "6919                   True  \n",
       "2284                   True  \n",
       "845                    True  \n",
       "\n",
       "[5 rows x 30 columns]"
      ]
     },
     "execution_count": 48,
     "metadata": {},
     "output_type": "execute_result"
    }
   ],
   "source": [
    "#encoding the categorical columns in the train set.\n",
    "\n",
    "train = pd.get_dummies(train, columns = ['gender', 'contract_type', 'internet_service_type', 'payment_type',\n",
    "                                        'partner', 'dependents', 'phone_service', 'multiple_lines',\n",
    "                                         'online_security', 'online_backup', 'device_protection', 'churn',\n",
    "                                         'tech_support', 'streaming_tv', 'streaming_movies', 'paperless_billing'],\n",
    "                       drop_first = True)\n",
    "\n",
    "train.columns = train.columns.str.replace(' ', '_')\n",
    "train = train.rename(columns = {'churn_Yes' : 'churn'} )\n",
    "train.head()"
   ]
  },
  {
   "cell_type": "code",
   "execution_count": 49,
   "id": "92b7044f-f4f7-4947-952e-84fcb1f071af",
   "metadata": {},
   "outputs": [
    {
     "data": {
      "text/html": [
       "<div>\n",
       "<style scoped>\n",
       "    .dataframe tbody tr th:only-of-type {\n",
       "        vertical-align: middle;\n",
       "    }\n",
       "\n",
       "    .dataframe tbody tr th {\n",
       "        vertical-align: top;\n",
       "    }\n",
       "\n",
       "    .dataframe thead th {\n",
       "        text-align: right;\n",
       "    }\n",
       "</style>\n",
       "<table border=\"1\" class=\"dataframe\">\n",
       "  <thead>\n",
       "    <tr style=\"text-align: right;\">\n",
       "      <th></th>\n",
       "      <th>senior_citizen</th>\n",
       "      <th>tenure</th>\n",
       "      <th>monthly_charges</th>\n",
       "      <th>total_charges</th>\n",
       "      <th>gender_Male</th>\n",
       "      <th>contract_type_One_year</th>\n",
       "      <th>contract_type_Two_year</th>\n",
       "      <th>internet_service_type_Fiber_optic</th>\n",
       "      <th>payment_type_Credit_card_(automatic)</th>\n",
       "      <th>payment_type_Electronic_check</th>\n",
       "      <th>...</th>\n",
       "      <th>device_protection_No_internet_service</th>\n",
       "      <th>device_protection_Yes</th>\n",
       "      <th>churn</th>\n",
       "      <th>tech_support_No_internet_service</th>\n",
       "      <th>tech_support_Yes</th>\n",
       "      <th>streaming_tv_No_internet_service</th>\n",
       "      <th>streaming_tv_Yes</th>\n",
       "      <th>streaming_movies_No_internet_service</th>\n",
       "      <th>streaming_movies_Yes</th>\n",
       "      <th>paperless_billing_Yes</th>\n",
       "    </tr>\n",
       "  </thead>\n",
       "  <tbody>\n",
       "    <tr>\n",
       "      <th>6910</th>\n",
       "      <td>0</td>\n",
       "      <td>46</td>\n",
       "      <td>20.20</td>\n",
       "      <td>845.6</td>\n",
       "      <td>True</td>\n",
       "      <td>True</td>\n",
       "      <td>False</td>\n",
       "      <td>False</td>\n",
       "      <td>False</td>\n",
       "      <td>False</td>\n",
       "      <td>...</td>\n",
       "      <td>True</td>\n",
       "      <td>False</td>\n",
       "      <td>False</td>\n",
       "      <td>True</td>\n",
       "      <td>False</td>\n",
       "      <td>True</td>\n",
       "      <td>False</td>\n",
       "      <td>True</td>\n",
       "      <td>False</td>\n",
       "      <td>True</td>\n",
       "    </tr>\n",
       "    <tr>\n",
       "      <th>6044</th>\n",
       "      <td>0</td>\n",
       "      <td>40</td>\n",
       "      <td>106.00</td>\n",
       "      <td>4178.65</td>\n",
       "      <td>True</td>\n",
       "      <td>True</td>\n",
       "      <td>False</td>\n",
       "      <td>True</td>\n",
       "      <td>False</td>\n",
       "      <td>False</td>\n",
       "      <td>...</td>\n",
       "      <td>False</td>\n",
       "      <td>True</td>\n",
       "      <td>False</td>\n",
       "      <td>False</td>\n",
       "      <td>False</td>\n",
       "      <td>False</td>\n",
       "      <td>True</td>\n",
       "      <td>False</td>\n",
       "      <td>True</td>\n",
       "      <td>True</td>\n",
       "    </tr>\n",
       "    <tr>\n",
       "      <th>2153</th>\n",
       "      <td>0</td>\n",
       "      <td>53</td>\n",
       "      <td>25.55</td>\n",
       "      <td>1336.1</td>\n",
       "      <td>True</td>\n",
       "      <td>False</td>\n",
       "      <td>True</td>\n",
       "      <td>False</td>\n",
       "      <td>True</td>\n",
       "      <td>False</td>\n",
       "      <td>...</td>\n",
       "      <td>True</td>\n",
       "      <td>False</td>\n",
       "      <td>False</td>\n",
       "      <td>True</td>\n",
       "      <td>False</td>\n",
       "      <td>True</td>\n",
       "      <td>False</td>\n",
       "      <td>True</td>\n",
       "      <td>False</td>\n",
       "      <td>False</td>\n",
       "    </tr>\n",
       "    <tr>\n",
       "      <th>2089</th>\n",
       "      <td>0</td>\n",
       "      <td>70</td>\n",
       "      <td>40.05</td>\n",
       "      <td>2799.75</td>\n",
       "      <td>True</td>\n",
       "      <td>False</td>\n",
       "      <td>True</td>\n",
       "      <td>False</td>\n",
       "      <td>False</td>\n",
       "      <td>False</td>\n",
       "      <td>...</td>\n",
       "      <td>False</td>\n",
       "      <td>False</td>\n",
       "      <td>False</td>\n",
       "      <td>False</td>\n",
       "      <td>True</td>\n",
       "      <td>False</td>\n",
       "      <td>False</td>\n",
       "      <td>False</td>\n",
       "      <td>True</td>\n",
       "      <td>True</td>\n",
       "    </tr>\n",
       "    <tr>\n",
       "      <th>6393</th>\n",
       "      <td>0</td>\n",
       "      <td>3</td>\n",
       "      <td>96.60</td>\n",
       "      <td>291.9</td>\n",
       "      <td>False</td>\n",
       "      <td>False</td>\n",
       "      <td>False</td>\n",
       "      <td>True</td>\n",
       "      <td>False</td>\n",
       "      <td>True</td>\n",
       "      <td>...</td>\n",
       "      <td>False</td>\n",
       "      <td>False</td>\n",
       "      <td>True</td>\n",
       "      <td>False</td>\n",
       "      <td>False</td>\n",
       "      <td>False</td>\n",
       "      <td>True</td>\n",
       "      <td>False</td>\n",
       "      <td>True</td>\n",
       "      <td>True</td>\n",
       "    </tr>\n",
       "  </tbody>\n",
       "</table>\n",
       "<p>5 rows × 30 columns</p>\n",
       "</div>"
      ],
      "text/plain": [
       "      senior_citizen  tenure  monthly_charges total_charges  gender_Male  \\\n",
       "6910               0      46            20.20         845.6         True   \n",
       "6044               0      40           106.00       4178.65         True   \n",
       "2153               0      53            25.55        1336.1         True   \n",
       "2089               0      70            40.05       2799.75         True   \n",
       "6393               0       3            96.60         291.9        False   \n",
       "\n",
       "      contract_type_One_year  contract_type_Two_year  \\\n",
       "6910                    True                   False   \n",
       "6044                    True                   False   \n",
       "2153                   False                    True   \n",
       "2089                   False                    True   \n",
       "6393                   False                   False   \n",
       "\n",
       "      internet_service_type_Fiber_optic  payment_type_Credit_card_(automatic)  \\\n",
       "6910                              False                                 False   \n",
       "6044                               True                                 False   \n",
       "2153                              False                                  True   \n",
       "2089                              False                                 False   \n",
       "6393                               True                                 False   \n",
       "\n",
       "      payment_type_Electronic_check  ...  \\\n",
       "6910                          False  ...   \n",
       "6044                          False  ...   \n",
       "2153                          False  ...   \n",
       "2089                          False  ...   \n",
       "6393                           True  ...   \n",
       "\n",
       "      device_protection_No_internet_service  device_protection_Yes  churn  \\\n",
       "6910                                   True                  False  False   \n",
       "6044                                  False                   True  False   \n",
       "2153                                   True                  False  False   \n",
       "2089                                  False                  False  False   \n",
       "6393                                  False                  False   True   \n",
       "\n",
       "      tech_support_No_internet_service  tech_support_Yes  \\\n",
       "6910                              True             False   \n",
       "6044                             False             False   \n",
       "2153                              True             False   \n",
       "2089                             False              True   \n",
       "6393                             False             False   \n",
       "\n",
       "      streaming_tv_No_internet_service  streaming_tv_Yes  \\\n",
       "6910                              True             False   \n",
       "6044                             False              True   \n",
       "2153                              True             False   \n",
       "2089                             False             False   \n",
       "6393                             False              True   \n",
       "\n",
       "      streaming_movies_No_internet_service  streaming_movies_Yes  \\\n",
       "6910                                  True                 False   \n",
       "6044                                 False                  True   \n",
       "2153                                  True                 False   \n",
       "2089                                 False                  True   \n",
       "6393                                 False                  True   \n",
       "\n",
       "      paperless_billing_Yes  \n",
       "6910                   True  \n",
       "6044                   True  \n",
       "2153                  False  \n",
       "2089                   True  \n",
       "6393                   True  \n",
       "\n",
       "[5 rows x 30 columns]"
      ]
     },
     "execution_count": 49,
     "metadata": {},
     "output_type": "execute_result"
    }
   ],
   "source": [
    "#encoding the categorical columns in the val set.\n",
    "\n",
    "val = pd.get_dummies(val, columns = ['gender', 'contract_type', 'internet_service_type', 'payment_type',\n",
    "                                        'partner', 'dependents', 'phone_service', 'multiple_lines',\n",
    "                                         'online_security', 'online_backup', 'device_protection', 'churn',\n",
    "                                         'tech_support', 'streaming_tv', 'streaming_movies', 'paperless_billing'], \n",
    "                     drop_first = True)\n",
    "\n",
    "val.columns = val.columns.str.replace(' ', '_')\n",
    "val = val.rename(columns = {'churn_Yes' : 'churn'} )\n",
    "val.head()"
   ]
  },
  {
   "cell_type": "code",
   "execution_count": 50,
   "id": "cd4fc821-050a-4d2f-9367-89f118fd8eb6",
   "metadata": {},
   "outputs": [
    {
     "data": {
      "text/html": [
       "<div>\n",
       "<style scoped>\n",
       "    .dataframe tbody tr th:only-of-type {\n",
       "        vertical-align: middle;\n",
       "    }\n",
       "\n",
       "    .dataframe tbody tr th {\n",
       "        vertical-align: top;\n",
       "    }\n",
       "\n",
       "    .dataframe thead th {\n",
       "        text-align: right;\n",
       "    }\n",
       "</style>\n",
       "<table border=\"1\" class=\"dataframe\">\n",
       "  <thead>\n",
       "    <tr style=\"text-align: right;\">\n",
       "      <th></th>\n",
       "      <th>senior_citizen</th>\n",
       "      <th>tenure</th>\n",
       "      <th>monthly_charges</th>\n",
       "      <th>total_charges</th>\n",
       "      <th>gender_Male</th>\n",
       "      <th>contract_type_One_year</th>\n",
       "      <th>contract_type_Two_year</th>\n",
       "      <th>internet_service_type_Fiber_optic</th>\n",
       "      <th>payment_type_Credit_card_(automatic)</th>\n",
       "      <th>payment_type_Electronic_check</th>\n",
       "      <th>...</th>\n",
       "      <th>device_protection_No_internet_service</th>\n",
       "      <th>device_protection_Yes</th>\n",
       "      <th>churn</th>\n",
       "      <th>tech_support_No_internet_service</th>\n",
       "      <th>tech_support_Yes</th>\n",
       "      <th>streaming_tv_No_internet_service</th>\n",
       "      <th>streaming_tv_Yes</th>\n",
       "      <th>streaming_movies_No_internet_service</th>\n",
       "      <th>streaming_movies_Yes</th>\n",
       "      <th>paperless_billing_Yes</th>\n",
       "    </tr>\n",
       "  </thead>\n",
       "  <tbody>\n",
       "    <tr>\n",
       "      <th>5609</th>\n",
       "      <td>0</td>\n",
       "      <td>14</td>\n",
       "      <td>76.45</td>\n",
       "      <td>1117.55</td>\n",
       "      <td>1</td>\n",
       "      <td>0</td>\n",
       "      <td>0</td>\n",
       "      <td>1</td>\n",
       "      <td>0</td>\n",
       "      <td>1</td>\n",
       "      <td>...</td>\n",
       "      <td>0</td>\n",
       "      <td>1</td>\n",
       "      <td>False</td>\n",
       "      <td>0</td>\n",
       "      <td>0</td>\n",
       "      <td>0</td>\n",
       "      <td>0</td>\n",
       "      <td>0</td>\n",
       "      <td>0</td>\n",
       "      <td>0</td>\n",
       "    </tr>\n",
       "    <tr>\n",
       "      <th>2209</th>\n",
       "      <td>0</td>\n",
       "      <td>5</td>\n",
       "      <td>70.00</td>\n",
       "      <td>347.4</td>\n",
       "      <td>1</td>\n",
       "      <td>1</td>\n",
       "      <td>0</td>\n",
       "      <td>0</td>\n",
       "      <td>0</td>\n",
       "      <td>0</td>\n",
       "      <td>...</td>\n",
       "      <td>0</td>\n",
       "      <td>1</td>\n",
       "      <td>True</td>\n",
       "      <td>0</td>\n",
       "      <td>0</td>\n",
       "      <td>0</td>\n",
       "      <td>1</td>\n",
       "      <td>0</td>\n",
       "      <td>1</td>\n",
       "      <td>1</td>\n",
       "    </tr>\n",
       "    <tr>\n",
       "      <th>6919</th>\n",
       "      <td>0</td>\n",
       "      <td>35</td>\n",
       "      <td>75.20</td>\n",
       "      <td>2576.2</td>\n",
       "      <td>1</td>\n",
       "      <td>0</td>\n",
       "      <td>0</td>\n",
       "      <td>1</td>\n",
       "      <td>0</td>\n",
       "      <td>1</td>\n",
       "      <td>...</td>\n",
       "      <td>0</td>\n",
       "      <td>0</td>\n",
       "      <td>True</td>\n",
       "      <td>0</td>\n",
       "      <td>0</td>\n",
       "      <td>0</td>\n",
       "      <td>0</td>\n",
       "      <td>0</td>\n",
       "      <td>0</td>\n",
       "      <td>1</td>\n",
       "    </tr>\n",
       "    <tr>\n",
       "      <th>2284</th>\n",
       "      <td>0</td>\n",
       "      <td>58</td>\n",
       "      <td>86.10</td>\n",
       "      <td>4890.5</td>\n",
       "      <td>1</td>\n",
       "      <td>0</td>\n",
       "      <td>1</td>\n",
       "      <td>0</td>\n",
       "      <td>0</td>\n",
       "      <td>1</td>\n",
       "      <td>...</td>\n",
       "      <td>0</td>\n",
       "      <td>1</td>\n",
       "      <td>False</td>\n",
       "      <td>0</td>\n",
       "      <td>0</td>\n",
       "      <td>0</td>\n",
       "      <td>1</td>\n",
       "      <td>0</td>\n",
       "      <td>1</td>\n",
       "      <td>1</td>\n",
       "    </tr>\n",
       "    <tr>\n",
       "      <th>845</th>\n",
       "      <td>0</td>\n",
       "      <td>2</td>\n",
       "      <td>49.60</td>\n",
       "      <td>114.7</td>\n",
       "      <td>0</td>\n",
       "      <td>0</td>\n",
       "      <td>0</td>\n",
       "      <td>0</td>\n",
       "      <td>0</td>\n",
       "      <td>0</td>\n",
       "      <td>...</td>\n",
       "      <td>0</td>\n",
       "      <td>0</td>\n",
       "      <td>True</td>\n",
       "      <td>0</td>\n",
       "      <td>0</td>\n",
       "      <td>0</td>\n",
       "      <td>0</td>\n",
       "      <td>0</td>\n",
       "      <td>0</td>\n",
       "      <td>1</td>\n",
       "    </tr>\n",
       "  </tbody>\n",
       "</table>\n",
       "<p>5 rows × 30 columns</p>\n",
       "</div>"
      ],
      "text/plain": [
       "      senior_citizen  tenure  monthly_charges total_charges  gender_Male  \\\n",
       "5609               0      14            76.45       1117.55            1   \n",
       "2209               0       5            70.00         347.4            1   \n",
       "6919               0      35            75.20        2576.2            1   \n",
       "2284               0      58            86.10        4890.5            1   \n",
       "845                0       2            49.60         114.7            0   \n",
       "\n",
       "      contract_type_One_year  contract_type_Two_year  \\\n",
       "5609                       0                       0   \n",
       "2209                       1                       0   \n",
       "6919                       0                       0   \n",
       "2284                       0                       1   \n",
       "845                        0                       0   \n",
       "\n",
       "      internet_service_type_Fiber_optic  payment_type_Credit_card_(automatic)  \\\n",
       "5609                                  1                                     0   \n",
       "2209                                  0                                     0   \n",
       "6919                                  1                                     0   \n",
       "2284                                  0                                     0   \n",
       "845                                   0                                     0   \n",
       "\n",
       "      payment_type_Electronic_check  ...  \\\n",
       "5609                              1  ...   \n",
       "2209                              0  ...   \n",
       "6919                              1  ...   \n",
       "2284                              1  ...   \n",
       "845                               0  ...   \n",
       "\n",
       "      device_protection_No_internet_service  device_protection_Yes  churn  \\\n",
       "5609                                      0                      1  False   \n",
       "2209                                      0                      1   True   \n",
       "6919                                      0                      0   True   \n",
       "2284                                      0                      1  False   \n",
       "845                                       0                      0   True   \n",
       "\n",
       "      tech_support_No_internet_service  tech_support_Yes  \\\n",
       "5609                                 0                 0   \n",
       "2209                                 0                 0   \n",
       "6919                                 0                 0   \n",
       "2284                                 0                 0   \n",
       "845                                  0                 0   \n",
       "\n",
       "      streaming_tv_No_internet_service  streaming_tv_Yes  \\\n",
       "5609                                 0                 0   \n",
       "2209                                 0                 1   \n",
       "6919                                 0                 0   \n",
       "2284                                 0                 1   \n",
       "845                                  0                 0   \n",
       "\n",
       "      streaming_movies_No_internet_service  streaming_movies_Yes  \\\n",
       "5609                                     0                     0   \n",
       "2209                                     0                     1   \n",
       "6919                                     0                     0   \n",
       "2284                                     0                     1   \n",
       "845                                      0                     0   \n",
       "\n",
       "      paperless_billing_Yes  \n",
       "5609                      0  \n",
       "2209                      1  \n",
       "6919                      1  \n",
       "2284                      1  \n",
       "845                       1  \n",
       "\n",
       "[5 rows x 30 columns]"
      ]
     },
     "execution_count": 50,
     "metadata": {},
     "output_type": "execute_result"
    }
   ],
   "source": [
    "# Convert boolean columns to numeric\n",
    "bool_columns = ['gender_Male', 'contract_type_One_year', 'contract_type_Two_year', 'internet_service_type_Fiber_optic',\n",
    "                'payment_type_Credit_card_(automatic)', 'payment_type_Electronic_check',\n",
    "                'device_protection_No_internet_service', 'device_protection_Yes',\n",
    "                'tech_support_No_internet_service', 'tech_support_Yes',\n",
    "                'streaming_tv_No_internet_service', 'streaming_tv_Yes',\n",
    "                'streaming_movies_No_internet_service', 'streaming_movies_Yes',\n",
    "                'paperless_billing_Yes']\n",
    "\n",
    "train[bool_columns] = train[bool_columns].astype(int)\n",
    "\n",
    "# Now you can proceed with creating and fitting the model\n",
    "train.head()"
   ]
  },
  {
   "cell_type": "code",
   "execution_count": 51,
   "id": "96bb78d6-609b-404a-82e2-a28bee4e6950",
   "metadata": {},
   "outputs": [
    {
     "data": {
      "text/html": [
       "<div>\n",
       "<style scoped>\n",
       "    .dataframe tbody tr th:only-of-type {\n",
       "        vertical-align: middle;\n",
       "    }\n",
       "\n",
       "    .dataframe tbody tr th {\n",
       "        vertical-align: top;\n",
       "    }\n",
       "\n",
       "    .dataframe thead th {\n",
       "        text-align: right;\n",
       "    }\n",
       "</style>\n",
       "<table border=\"1\" class=\"dataframe\">\n",
       "  <thead>\n",
       "    <tr style=\"text-align: right;\">\n",
       "      <th></th>\n",
       "      <th>senior_citizen</th>\n",
       "      <th>tenure</th>\n",
       "      <th>monthly_charges</th>\n",
       "      <th>total_charges</th>\n",
       "      <th>gender_Male</th>\n",
       "      <th>contract_type_One_year</th>\n",
       "      <th>contract_type_Two_year</th>\n",
       "      <th>internet_service_type_Fiber_optic</th>\n",
       "      <th>payment_type_Credit_card_(automatic)</th>\n",
       "      <th>payment_type_Electronic_check</th>\n",
       "      <th>...</th>\n",
       "      <th>device_protection_No_internet_service</th>\n",
       "      <th>device_protection_Yes</th>\n",
       "      <th>churn</th>\n",
       "      <th>tech_support_No_internet_service</th>\n",
       "      <th>tech_support_Yes</th>\n",
       "      <th>streaming_tv_No_internet_service</th>\n",
       "      <th>streaming_tv_Yes</th>\n",
       "      <th>streaming_movies_No_internet_service</th>\n",
       "      <th>streaming_movies_Yes</th>\n",
       "      <th>paperless_billing_Yes</th>\n",
       "    </tr>\n",
       "  </thead>\n",
       "  <tbody>\n",
       "    <tr>\n",
       "      <th>6910</th>\n",
       "      <td>0</td>\n",
       "      <td>46</td>\n",
       "      <td>20.20</td>\n",
       "      <td>845.6</td>\n",
       "      <td>1</td>\n",
       "      <td>1</td>\n",
       "      <td>0</td>\n",
       "      <td>0</td>\n",
       "      <td>0</td>\n",
       "      <td>0</td>\n",
       "      <td>...</td>\n",
       "      <td>1</td>\n",
       "      <td>0</td>\n",
       "      <td>False</td>\n",
       "      <td>1</td>\n",
       "      <td>0</td>\n",
       "      <td>1</td>\n",
       "      <td>0</td>\n",
       "      <td>1</td>\n",
       "      <td>0</td>\n",
       "      <td>1</td>\n",
       "    </tr>\n",
       "    <tr>\n",
       "      <th>6044</th>\n",
       "      <td>0</td>\n",
       "      <td>40</td>\n",
       "      <td>106.00</td>\n",
       "      <td>4178.65</td>\n",
       "      <td>1</td>\n",
       "      <td>1</td>\n",
       "      <td>0</td>\n",
       "      <td>1</td>\n",
       "      <td>0</td>\n",
       "      <td>0</td>\n",
       "      <td>...</td>\n",
       "      <td>0</td>\n",
       "      <td>1</td>\n",
       "      <td>False</td>\n",
       "      <td>0</td>\n",
       "      <td>0</td>\n",
       "      <td>0</td>\n",
       "      <td>1</td>\n",
       "      <td>0</td>\n",
       "      <td>1</td>\n",
       "      <td>1</td>\n",
       "    </tr>\n",
       "    <tr>\n",
       "      <th>2153</th>\n",
       "      <td>0</td>\n",
       "      <td>53</td>\n",
       "      <td>25.55</td>\n",
       "      <td>1336.1</td>\n",
       "      <td>1</td>\n",
       "      <td>0</td>\n",
       "      <td>1</td>\n",
       "      <td>0</td>\n",
       "      <td>1</td>\n",
       "      <td>0</td>\n",
       "      <td>...</td>\n",
       "      <td>1</td>\n",
       "      <td>0</td>\n",
       "      <td>False</td>\n",
       "      <td>1</td>\n",
       "      <td>0</td>\n",
       "      <td>1</td>\n",
       "      <td>0</td>\n",
       "      <td>1</td>\n",
       "      <td>0</td>\n",
       "      <td>0</td>\n",
       "    </tr>\n",
       "    <tr>\n",
       "      <th>2089</th>\n",
       "      <td>0</td>\n",
       "      <td>70</td>\n",
       "      <td>40.05</td>\n",
       "      <td>2799.75</td>\n",
       "      <td>1</td>\n",
       "      <td>0</td>\n",
       "      <td>1</td>\n",
       "      <td>0</td>\n",
       "      <td>0</td>\n",
       "      <td>0</td>\n",
       "      <td>...</td>\n",
       "      <td>0</td>\n",
       "      <td>0</td>\n",
       "      <td>False</td>\n",
       "      <td>0</td>\n",
       "      <td>1</td>\n",
       "      <td>0</td>\n",
       "      <td>0</td>\n",
       "      <td>0</td>\n",
       "      <td>1</td>\n",
       "      <td>1</td>\n",
       "    </tr>\n",
       "    <tr>\n",
       "      <th>6393</th>\n",
       "      <td>0</td>\n",
       "      <td>3</td>\n",
       "      <td>96.60</td>\n",
       "      <td>291.9</td>\n",
       "      <td>0</td>\n",
       "      <td>0</td>\n",
       "      <td>0</td>\n",
       "      <td>1</td>\n",
       "      <td>0</td>\n",
       "      <td>1</td>\n",
       "      <td>...</td>\n",
       "      <td>0</td>\n",
       "      <td>0</td>\n",
       "      <td>True</td>\n",
       "      <td>0</td>\n",
       "      <td>0</td>\n",
       "      <td>0</td>\n",
       "      <td>1</td>\n",
       "      <td>0</td>\n",
       "      <td>1</td>\n",
       "      <td>1</td>\n",
       "    </tr>\n",
       "  </tbody>\n",
       "</table>\n",
       "<p>5 rows × 30 columns</p>\n",
       "</div>"
      ],
      "text/plain": [
       "      senior_citizen  tenure  monthly_charges total_charges  gender_Male  \\\n",
       "6910               0      46            20.20         845.6            1   \n",
       "6044               0      40           106.00       4178.65            1   \n",
       "2153               0      53            25.55        1336.1            1   \n",
       "2089               0      70            40.05       2799.75            1   \n",
       "6393               0       3            96.60         291.9            0   \n",
       "\n",
       "      contract_type_One_year  contract_type_Two_year  \\\n",
       "6910                       1                       0   \n",
       "6044                       1                       0   \n",
       "2153                       0                       1   \n",
       "2089                       0                       1   \n",
       "6393                       0                       0   \n",
       "\n",
       "      internet_service_type_Fiber_optic  payment_type_Credit_card_(automatic)  \\\n",
       "6910                                  0                                     0   \n",
       "6044                                  1                                     0   \n",
       "2153                                  0                                     1   \n",
       "2089                                  0                                     0   \n",
       "6393                                  1                                     0   \n",
       "\n",
       "      payment_type_Electronic_check  ...  \\\n",
       "6910                              0  ...   \n",
       "6044                              0  ...   \n",
       "2153                              0  ...   \n",
       "2089                              0  ...   \n",
       "6393                              1  ...   \n",
       "\n",
       "      device_protection_No_internet_service  device_protection_Yes  churn  \\\n",
       "6910                                      1                      0  False   \n",
       "6044                                      0                      1  False   \n",
       "2153                                      1                      0  False   \n",
       "2089                                      0                      0  False   \n",
       "6393                                      0                      0   True   \n",
       "\n",
       "      tech_support_No_internet_service  tech_support_Yes  \\\n",
       "6910                                 1                 0   \n",
       "6044                                 0                 0   \n",
       "2153                                 1                 0   \n",
       "2089                                 0                 1   \n",
       "6393                                 0                 0   \n",
       "\n",
       "      streaming_tv_No_internet_service  streaming_tv_Yes  \\\n",
       "6910                                 1                 0   \n",
       "6044                                 0                 1   \n",
       "2153                                 1                 0   \n",
       "2089                                 0                 0   \n",
       "6393                                 0                 1   \n",
       "\n",
       "      streaming_movies_No_internet_service  streaming_movies_Yes  \\\n",
       "6910                                     1                     0   \n",
       "6044                                     0                     1   \n",
       "2153                                     1                     0   \n",
       "2089                                     0                     1   \n",
       "6393                                     0                     1   \n",
       "\n",
       "      paperless_billing_Yes  \n",
       "6910                      1  \n",
       "6044                      1  \n",
       "2153                      0  \n",
       "2089                      1  \n",
       "6393                      1  \n",
       "\n",
       "[5 rows x 30 columns]"
      ]
     },
     "execution_count": 51,
     "metadata": {},
     "output_type": "execute_result"
    }
   ],
   "source": [
    "# Convert boolean columns to numeric\n",
    "bool_columns = ['gender_Male', 'contract_type_One_year', 'contract_type_Two_year', 'internet_service_type_Fiber_optic',\n",
    "                'payment_type_Credit_card_(automatic)', 'payment_type_Electronic_check',\n",
    "                'device_protection_No_internet_service', 'device_protection_Yes',\n",
    "                'tech_support_No_internet_service', 'tech_support_Yes',\n",
    "                'streaming_tv_No_internet_service', 'streaming_tv_Yes',\n",
    "                'streaming_movies_No_internet_service', 'streaming_movies_Yes',\n",
    "                'paperless_billing_Yes']\n",
    "\n",
    "val[bool_columns] = val[bool_columns].astype(int)\n",
    "\n",
    "# Now you can proceed with creating and fitting the model\n",
    "val.head()"
   ]
  },
  {
   "cell_type": "code",
   "execution_count": 52,
   "id": "92eb97b4-d0e7-4957-9798-51d67b2e9eba",
   "metadata": {},
   "outputs": [],
   "source": [
    "train['total_charges'] = np.where(train['total_charges'].str.strip() == '', 0, train['total_charges'])"
   ]
  },
  {
   "cell_type": "code",
   "execution_count": 53,
   "id": "e431427d-0615-4317-9823-b53df8ab70b3",
   "metadata": {},
   "outputs": [],
   "source": [
    "val['total_charges'] = np.where(val['total_charges'].str.strip() == '', 0, val['total_charges'])"
   ]
  },
  {
   "cell_type": "code",
   "execution_count": 54,
   "id": "8298b823-c4a0-45e3-b81d-c9ca100d4d43",
   "metadata": {},
   "outputs": [
    {
     "data": {
      "text/plain": [
       "((4930, 30), (1056, 30))"
      ]
     },
     "execution_count": 54,
     "metadata": {},
     "output_type": "execute_result"
    }
   ],
   "source": [
    "#making sure train and val all have the same number of columns\n",
    "\n",
    "train.shape, val.shape "
   ]
  },
  {
   "cell_type": "code",
   "execution_count": 55,
   "id": "5505dcd1-4f13-48e7-bef1-837095357141",
   "metadata": {},
   "outputs": [],
   "source": [
    "# creating an X & y version of train and val, where y is a series with just the target variable and X are all the features.\n",
    "\n",
    "X_train = train.drop(columns = ['churn'])\n",
    "y_train = train.churn\n",
    "\n",
    "X_val = val.drop(columns = ['churn'])\n",
    "y_val = val.churn"
   ]
  },
  {
   "cell_type": "code",
   "execution_count": 56,
   "id": "b8ce9a51-e3b2-437b-9f69-33084c4ed9a7",
   "metadata": {},
   "outputs": [
    {
     "data": {
      "text/plain": [
       "0    False\n",
       "Name: churn, dtype: bool"
      ]
     },
     "execution_count": 56,
     "metadata": {},
     "output_type": "execute_result"
    }
   ],
   "source": [
    "# creating a baseline of the most occuring number in the survived column\n",
    "\n",
    "y_train.mode()"
   ]
  },
  {
   "cell_type": "code",
   "execution_count": 57,
   "id": "56245af2-2712-4c57-a1ba-d6e0b3e61186",
   "metadata": {},
   "outputs": [
    {
     "data": {
      "text/plain": [
       "0.734685598377282"
      ]
     },
     "execution_count": 57,
     "metadata": {},
     "output_type": "execute_result"
    }
   ],
   "source": [
    "base_acc = (y_train == 0).mean()\n",
    "base_acc"
   ]
  },
  {
   "cell_type": "markdown",
   "id": "0cb46c2d-60f4-4601-9f6f-22fa803ed7e3",
   "metadata": {},
   "source": [
    "baseline accuracy is 73%."
   ]
  },
  {
   "cell_type": "markdown",
   "id": "394caeab-a1c9-49dd-b481-a5fd6b49c178",
   "metadata": {},
   "source": [
    "2) Fit the decision tree classifier to your training sample and transform (i.e. make predictions on the training sample)"
   ]
  },
  {
   "cell_type": "code",
   "execution_count": 58,
   "id": "17f95fee-e659-4339-87f3-6d2209921718",
   "metadata": {},
   "outputs": [
    {
     "data": {
      "text/plain": [
       "((4930, 29), (4930,))"
      ]
     },
     "execution_count": 58,
     "metadata": {},
     "output_type": "execute_result"
    }
   ],
   "source": [
    "#verifying that x and y train have the same amount of rows\n",
    "\n",
    "X_train.shape, y_train.shape"
   ]
  },
  {
   "cell_type": "code",
   "execution_count": 59,
   "id": "80bd844e-72df-4f58-8654-b9257d7d0de2",
   "metadata": {},
   "outputs": [
    {
     "data": {
      "text/html": [
       "<style>#sk-container-id-2 {color: black;}#sk-container-id-2 pre{padding: 0;}#sk-container-id-2 div.sk-toggleable {background-color: white;}#sk-container-id-2 label.sk-toggleable__label {cursor: pointer;display: block;width: 100%;margin-bottom: 0;padding: 0.3em;box-sizing: border-box;text-align: center;}#sk-container-id-2 label.sk-toggleable__label-arrow:before {content: \"▸\";float: left;margin-right: 0.25em;color: #696969;}#sk-container-id-2 label.sk-toggleable__label-arrow:hover:before {color: black;}#sk-container-id-2 div.sk-estimator:hover label.sk-toggleable__label-arrow:before {color: black;}#sk-container-id-2 div.sk-toggleable__content {max-height: 0;max-width: 0;overflow: hidden;text-align: left;background-color: #f0f8ff;}#sk-container-id-2 div.sk-toggleable__content pre {margin: 0.2em;color: black;border-radius: 0.25em;background-color: #f0f8ff;}#sk-container-id-2 input.sk-toggleable__control:checked~div.sk-toggleable__content {max-height: 200px;max-width: 100%;overflow: auto;}#sk-container-id-2 input.sk-toggleable__control:checked~label.sk-toggleable__label-arrow:before {content: \"▾\";}#sk-container-id-2 div.sk-estimator input.sk-toggleable__control:checked~label.sk-toggleable__label {background-color: #d4ebff;}#sk-container-id-2 div.sk-label input.sk-toggleable__control:checked~label.sk-toggleable__label {background-color: #d4ebff;}#sk-container-id-2 input.sk-hidden--visually {border: 0;clip: rect(1px 1px 1px 1px);clip: rect(1px, 1px, 1px, 1px);height: 1px;margin: -1px;overflow: hidden;padding: 0;position: absolute;width: 1px;}#sk-container-id-2 div.sk-estimator {font-family: monospace;background-color: #f0f8ff;border: 1px dotted black;border-radius: 0.25em;box-sizing: border-box;margin-bottom: 0.5em;}#sk-container-id-2 div.sk-estimator:hover {background-color: #d4ebff;}#sk-container-id-2 div.sk-parallel-item::after {content: \"\";width: 100%;border-bottom: 1px solid gray;flex-grow: 1;}#sk-container-id-2 div.sk-label:hover label.sk-toggleable__label {background-color: #d4ebff;}#sk-container-id-2 div.sk-serial::before {content: \"\";position: absolute;border-left: 1px solid gray;box-sizing: border-box;top: 0;bottom: 0;left: 50%;z-index: 0;}#sk-container-id-2 div.sk-serial {display: flex;flex-direction: column;align-items: center;background-color: white;padding-right: 0.2em;padding-left: 0.2em;position: relative;}#sk-container-id-2 div.sk-item {position: relative;z-index: 1;}#sk-container-id-2 div.sk-parallel {display: flex;align-items: stretch;justify-content: center;background-color: white;position: relative;}#sk-container-id-2 div.sk-item::before, #sk-container-id-2 div.sk-parallel-item::before {content: \"\";position: absolute;border-left: 1px solid gray;box-sizing: border-box;top: 0;bottom: 0;left: 50%;z-index: -1;}#sk-container-id-2 div.sk-parallel-item {display: flex;flex-direction: column;z-index: 1;position: relative;background-color: white;}#sk-container-id-2 div.sk-parallel-item:first-child::after {align-self: flex-end;width: 50%;}#sk-container-id-2 div.sk-parallel-item:last-child::after {align-self: flex-start;width: 50%;}#sk-container-id-2 div.sk-parallel-item:only-child::after {width: 0;}#sk-container-id-2 div.sk-dashed-wrapped {border: 1px dashed gray;margin: 0 0.4em 0.5em 0.4em;box-sizing: border-box;padding-bottom: 0.4em;background-color: white;}#sk-container-id-2 div.sk-label label {font-family: monospace;font-weight: bold;display: inline-block;line-height: 1.2em;}#sk-container-id-2 div.sk-label-container {text-align: center;}#sk-container-id-2 div.sk-container {/* jupyter's `normalize.less` sets `[hidden] { display: none; }` but bootstrap.min.css set `[hidden] { display: none !important; }` so we also need the `!important` here to be able to override the default hidden behavior on the sphinx rendered scikit-learn.org. See: https://github.com/scikit-learn/scikit-learn/issues/21755 */display: inline-block !important;position: relative;}#sk-container-id-2 div.sk-text-repr-fallback {display: none;}</style><div id=\"sk-container-id-2\" class=\"sk-top-container\"><div class=\"sk-text-repr-fallback\"><pre>DecisionTreeClassifier(max_depth=4, random_state=42)</pre><b>In a Jupyter environment, please rerun this cell to show the HTML representation or trust the notebook. <br />On GitHub, the HTML representation is unable to render, please try loading this page with nbviewer.org.</b></div><div class=\"sk-container\" hidden><div class=\"sk-item\"><div class=\"sk-estimator sk-toggleable\"><input class=\"sk-toggleable__control sk-hidden--visually\" id=\"sk-estimator-id-2\" type=\"checkbox\" checked><label for=\"sk-estimator-id-2\" class=\"sk-toggleable__label sk-toggleable__label-arrow\">DecisionTreeClassifier</label><div class=\"sk-toggleable__content\"><pre>DecisionTreeClassifier(max_depth=4, random_state=42)</pre></div></div></div></div></div>"
      ],
      "text/plain": [
       "DecisionTreeClassifier(max_depth=4, random_state=42)"
      ]
     },
     "execution_count": 59,
     "metadata": {},
     "output_type": "execute_result"
    }
   ],
   "source": [
    "clf = DecisionTreeClassifier(max_depth  = 4, random_state = 42)\n",
    "clf.fit(X_train, y_train)"
   ]
  },
  {
   "cell_type": "code",
   "execution_count": 60,
   "id": "22264511-9c48-45e8-9c90-ca0e59be0983",
   "metadata": {},
   "outputs": [
    {
     "data": {
      "text/plain": [
       "array([0.0056141 , 0.4988502 , 0.01293116, 0.02996284, 0.        ,\n",
       "       0.02930254, 0.00877762, 0.35879748, 0.        , 0.01212779,\n",
       "       0.        , 0.        , 0.        , 0.        , 0.        ,\n",
       "       0.        , 0.        , 0.        , 0.        , 0.        ,\n",
       "       0.        , 0.        , 0.        , 0.00639083, 0.        ,\n",
       "       0.        , 0.03724543, 0.        , 0.        ])"
      ]
     },
     "execution_count": 60,
     "metadata": {},
     "output_type": "execute_result"
    }
   ],
   "source": [
    "clf.feature_importances_"
   ]
  },
  {
   "cell_type": "code",
   "execution_count": 61,
   "id": "8c59702f-75eb-4ec0-b54f-73ee56ec91f3",
   "metadata": {},
   "outputs": [
    {
     "data": {
      "text/plain": [
       "array([ True,  True, False, False,  True, False, False, False, False,\n",
       "       False])"
      ]
     },
     "execution_count": 61,
     "metadata": {},
     "output_type": "execute_result"
    }
   ],
   "source": [
    "#making predictions on X_train with the .predict() method.\n",
    "\n",
    "t_pred = clf.predict(X_train)\n",
    "t_pred[:10]"
   ]
  },
  {
   "cell_type": "code",
   "execution_count": 62,
   "id": "bf5cf51c-362c-4227-bb55-d8506857e4e5",
   "metadata": {},
   "outputs": [
    {
     "data": {
      "text/plain": [
       "array([[0.46616541, 0.53383459],\n",
       "       [0.48275862, 0.51724138],\n",
       "       [0.57404326, 0.42595674],\n",
       "       [0.92857143, 0.07142857],\n",
       "       [0.48275862, 0.51724138],\n",
       "       [0.81724846, 0.18275154],\n",
       "       [0.57404326, 0.42595674],\n",
       "       [0.87403599, 0.12596401],\n",
       "       [0.98803191, 0.01196809],\n",
       "       [0.98803191, 0.01196809]])"
      ]
     },
     "execution_count": 62,
     "metadata": {},
     "output_type": "execute_result"
    }
   ],
   "source": [
    "#making a probability estimation on X_train with the .predict_proba() method\n",
    "\n",
    "t_prob = clf.predict_proba(X_train)\n",
    "t_prob[:10]"
   ]
  },
  {
   "cell_type": "code",
   "execution_count": 63,
   "id": "a6e3f485-69f4-4388-928d-6ee31ceb9e4b",
   "metadata": {
    "scrolled": true
   },
   "outputs": [
    {
     "data": {
      "text/plain": [
       "0.7939148073022312"
      ]
     },
     "execution_count": 63,
     "metadata": {},
     "output_type": "execute_result"
    }
   ],
   "source": [
    "#evaluating the accuracy of the train model\n",
    "\n",
    "clf.score(X_train, y_train)"
   ]
  },
  {
   "cell_type": "code",
   "execution_count": 64,
   "id": "39560512-f861-44dd-8483-33b208ee61dd",
   "metadata": {},
   "outputs": [
    {
     "data": {
      "text/plain": [
       "0.8001893939393939"
      ]
     },
     "execution_count": 64,
     "metadata": {},
     "output_type": "execute_result"
    }
   ],
   "source": [
    "clf.score(X_val, y_val)"
   ]
  },
  {
   "cell_type": "markdown",
   "id": "89f76f8b-d60e-4f6d-9155-9c724ef04957",
   "metadata": {},
   "source": [
    "3) Evaluate your in-sample results using the model score, confusion matrix, and classification report."
   ]
  },
  {
   "cell_type": "code",
   "execution_count": 65,
   "id": "515bc27c-8b17-4602-bd2b-2b585dcf9f2c",
   "metadata": {},
   "outputs": [
    {
     "data": {
      "text/html": [
       "<div>\n",
       "<style scoped>\n",
       "    .dataframe tbody tr th:only-of-type {\n",
       "        vertical-align: middle;\n",
       "    }\n",
       "\n",
       "    .dataframe tbody tr th {\n",
       "        vertical-align: top;\n",
       "    }\n",
       "\n",
       "    .dataframe thead th {\n",
       "        text-align: right;\n",
       "    }\n",
       "</style>\n",
       "<table border=\"1\" class=\"dataframe\">\n",
       "  <thead>\n",
       "    <tr style=\"text-align: right;\">\n",
       "      <th>col_0</th>\n",
       "      <th>False</th>\n",
       "      <th>True</th>\n",
       "    </tr>\n",
       "    <tr>\n",
       "      <th>churn</th>\n",
       "      <th></th>\n",
       "      <th></th>\n",
       "    </tr>\n",
       "  </thead>\n",
       "  <tbody>\n",
       "    <tr>\n",
       "      <th>False</th>\n",
       "      <td>687</td>\n",
       "      <td>89</td>\n",
       "    </tr>\n",
       "    <tr>\n",
       "      <th>True</th>\n",
       "      <td>122</td>\n",
       "      <td>158</td>\n",
       "    </tr>\n",
       "  </tbody>\n",
       "</table>\n",
       "</div>"
      ],
      "text/plain": [
       "col_0  False  True \n",
       "churn              \n",
       "False    687     89\n",
       "True     122    158"
      ]
     },
     "execution_count": 65,
     "metadata": {},
     "output_type": "execute_result"
    }
   ],
   "source": [
    "#creating a crosstab for the val confusion matrix\n",
    "\n",
    "v_pred = clf.predict(X_val)\n",
    "val_ct = pd.crosstab(y_val, v_pred)\n",
    "val_ct"
   ]
  },
  {
   "cell_type": "code",
   "execution_count": 66,
   "id": "3930601c-171c-465c-bef1-f6bf1870890a",
   "metadata": {},
   "outputs": [
    {
     "data": {
      "text/html": [
       "<div>\n",
       "<style scoped>\n",
       "    .dataframe tbody tr th:only-of-type {\n",
       "        vertical-align: middle;\n",
       "    }\n",
       "\n",
       "    .dataframe tbody tr th {\n",
       "        vertical-align: top;\n",
       "    }\n",
       "\n",
       "    .dataframe thead th {\n",
       "        text-align: right;\n",
       "    }\n",
       "</style>\n",
       "<table border=\"1\" class=\"dataframe\">\n",
       "  <thead>\n",
       "    <tr style=\"text-align: right;\">\n",
       "      <th>col_0</th>\n",
       "      <th>False</th>\n",
       "      <th>True</th>\n",
       "    </tr>\n",
       "    <tr>\n",
       "      <th>churn</th>\n",
       "      <th></th>\n",
       "      <th></th>\n",
       "    </tr>\n",
       "  </thead>\n",
       "  <tbody>\n",
       "    <tr>\n",
       "      <th>False</th>\n",
       "      <td>3218</td>\n",
       "      <td>404</td>\n",
       "    </tr>\n",
       "    <tr>\n",
       "      <th>True</th>\n",
       "      <td>612</td>\n",
       "      <td>696</td>\n",
       "    </tr>\n",
       "  </tbody>\n",
       "</table>\n",
       "</div>"
      ],
      "text/plain": [
       "col_0  False  True \n",
       "churn              \n",
       "False   3218    404\n",
       "True     612    696"
      ]
     },
     "execution_count": 66,
     "metadata": {},
     "output_type": "execute_result"
    }
   ],
   "source": [
    "#creating a crosstab for the train confusion matrix\n",
    "\n",
    "train_ct = pd.crosstab(y_train, t_pred)\n",
    "train_ct"
   ]
  },
  {
   "cell_type": "markdown",
   "id": "66f3186b-7bd1-4dd0-92de-5417265f8085",
   "metadata": {},
   "source": [
    "#confusion matrix\n",
    "\n",
    "accuracy = (3621 + 1298) / (3621 + 1298 + 10 + 1)  \n",
    "ans=> 99.8%\n",
    "\n",
    "precision = 3621 / (3621 + 10)  \n",
    "ans=> 99.7%\n",
    "\n",
    "recall = 3621 / (3621 + 1)  \n",
    "ans=> 99.9%"
   ]
  },
  {
   "cell_type": "code",
   "execution_count": 67,
   "id": "b771445f-1fb5-42e7-8e95-e48a22c35ba8",
   "metadata": {},
   "outputs": [
    {
     "data": {
      "text/plain": [
       "0.999723909442297"
      ]
     },
     "execution_count": 67,
     "metadata": {},
     "output_type": "execute_result"
    }
   ],
   "source": [
    "3621 / (3621 + 1)"
   ]
  },
  {
   "cell_type": "code",
   "execution_count": 68,
   "id": "c3707ca8-ba33-4c40-a852-fb86e1e0f622",
   "metadata": {},
   "outputs": [
    {
     "name": "stdout",
     "output_type": "stream",
     "text": [
      "              precision    recall  f1-score   support\n",
      "\n",
      "       False       0.84      0.89      0.86      3622\n",
      "        True       0.63      0.53      0.58      1308\n",
      "\n",
      "    accuracy                           0.79      4930\n",
      "   macro avg       0.74      0.71      0.72      4930\n",
      "weighted avg       0.79      0.79      0.79      4930\n",
      "\n"
     ]
    }
   ],
   "source": [
    "#classification report\n",
    "\n",
    "print(classification_report(y_train, t_pred))"
   ]
  },
  {
   "cell_type": "code",
   "execution_count": null,
   "id": "5406ffdb-163e-430a-82cb-c0964dd9b3b0",
   "metadata": {},
   "outputs": [],
   "source": []
  },
  {
   "cell_type": "markdown",
   "id": "15bee031-f492-4755-b3ac-1f727c88b508",
   "metadata": {},
   "source": [
    "5) Run through steps 2-4 using a different max_depth value."
   ]
  },
  {
   "cell_type": "code",
   "execution_count": 69,
   "id": "7b9d9d06-380d-4ca9-97ac-b1656615a374",
   "metadata": {},
   "outputs": [],
   "source": [
    "seed = 42\n",
    "train_acc = []\n",
    "val_acc = []\n",
    "depth = []\n",
    "\n",
    "for i in range(2, 8):\n",
    "\n",
    "    clf = DecisionTreeClassifier(max_depth = i, random_state = seed)\n",
    "\n",
    "    clf.fit(X_train, y_train)\n",
    "\n",
    "    train_acc.append(clf.score(X_train, y_train))\n",
    "\n",
    "    val_acc.append(clf.score(X_val, y_val))\n",
    "\n",
    "    depth.append(i)"
   ]
  },
  {
   "cell_type": "code",
   "execution_count": 70,
   "id": "98a72f4c-484d-4b94-b42e-2ecef4e4a549",
   "metadata": {},
   "outputs": [
    {
     "data": {
      "text/html": [
       "<div>\n",
       "<style scoped>\n",
       "    .dataframe tbody tr th:only-of-type {\n",
       "        vertical-align: middle;\n",
       "    }\n",
       "\n",
       "    .dataframe tbody tr th {\n",
       "        vertical-align: top;\n",
       "    }\n",
       "\n",
       "    .dataframe thead th {\n",
       "        text-align: right;\n",
       "    }\n",
       "</style>\n",
       "<table border=\"1\" class=\"dataframe\">\n",
       "  <thead>\n",
       "    <tr style=\"text-align: right;\">\n",
       "      <th></th>\n",
       "      <th>max_depth</th>\n",
       "      <th>train_acc</th>\n",
       "      <th>val_acc</th>\n",
       "    </tr>\n",
       "  </thead>\n",
       "  <tbody>\n",
       "    <tr>\n",
       "      <th>0</th>\n",
       "      <td>2</td>\n",
       "      <td>0.791278</td>\n",
       "      <td>0.797348</td>\n",
       "    </tr>\n",
       "    <tr>\n",
       "      <th>1</th>\n",
       "      <td>3</td>\n",
       "      <td>0.791278</td>\n",
       "      <td>0.797348</td>\n",
       "    </tr>\n",
       "    <tr>\n",
       "      <th>2</th>\n",
       "      <td>4</td>\n",
       "      <td>0.793915</td>\n",
       "      <td>0.800189</td>\n",
       "    </tr>\n",
       "    <tr>\n",
       "      <th>3</th>\n",
       "      <td>5</td>\n",
       "      <td>0.801014</td>\n",
       "      <td>0.803977</td>\n",
       "    </tr>\n",
       "    <tr>\n",
       "      <th>4</th>\n",
       "      <td>6</td>\n",
       "      <td>0.815416</td>\n",
       "      <td>0.801136</td>\n",
       "    </tr>\n",
       "    <tr>\n",
       "      <th>5</th>\n",
       "      <td>7</td>\n",
       "      <td>0.829412</td>\n",
       "      <td>0.786932</td>\n",
       "    </tr>\n",
       "  </tbody>\n",
       "</table>\n",
       "</div>"
      ],
      "text/plain": [
       "   max_depth  train_acc   val_acc\n",
       "0          2   0.791278  0.797348\n",
       "1          3   0.791278  0.797348\n",
       "2          4   0.793915  0.800189\n",
       "3          5   0.801014  0.803977\n",
       "4          6   0.815416  0.801136\n",
       "5          7   0.829412  0.786932"
      ]
     },
     "execution_count": 70,
     "metadata": {},
     "output_type": "execute_result"
    }
   ],
   "source": [
    "pd.DataFrame({'max_depth' : depth, 'train_acc' : train_acc, 'val_acc' : val_acc})"
   ]
  },
  {
   "cell_type": "code",
   "execution_count": 71,
   "id": "91201f8c-6f0b-4304-bdc0-a86caf4481b7",
   "metadata": {},
   "outputs": [],
   "source": [
    "seed = 42\n",
    "train_acc = []\n",
    "val_acc = []\n",
    "depth = []\n",
    "\n",
    "for i in range(2, 15):\n",
    "\n",
    "    clf = DecisionTreeClassifier(max_depth = i, random_state = seed)\n",
    "\n",
    "    clf.fit(X_train, y_train)\n",
    "\n",
    "    train_acc.append(clf.score(X_train, y_train))\n",
    "\n",
    "    val_acc.append(clf.score(X_val, y_val))\n",
    "\n",
    "    depth.append(i)"
   ]
  },
  {
   "cell_type": "code",
   "execution_count": 72,
   "id": "c6180be4-b855-4ebd-b504-d88ef6f7b223",
   "metadata": {},
   "outputs": [
    {
     "data": {
      "text/html": [
       "<div>\n",
       "<style scoped>\n",
       "    .dataframe tbody tr th:only-of-type {\n",
       "        vertical-align: middle;\n",
       "    }\n",
       "\n",
       "    .dataframe tbody tr th {\n",
       "        vertical-align: top;\n",
       "    }\n",
       "\n",
       "    .dataframe thead th {\n",
       "        text-align: right;\n",
       "    }\n",
       "</style>\n",
       "<table border=\"1\" class=\"dataframe\">\n",
       "  <thead>\n",
       "    <tr style=\"text-align: right;\">\n",
       "      <th></th>\n",
       "      <th>max_depth</th>\n",
       "      <th>train_acc</th>\n",
       "      <th>val_acc</th>\n",
       "    </tr>\n",
       "  </thead>\n",
       "  <tbody>\n",
       "    <tr>\n",
       "      <th>0</th>\n",
       "      <td>2</td>\n",
       "      <td>0.791278</td>\n",
       "      <td>0.797348</td>\n",
       "    </tr>\n",
       "    <tr>\n",
       "      <th>1</th>\n",
       "      <td>3</td>\n",
       "      <td>0.791278</td>\n",
       "      <td>0.797348</td>\n",
       "    </tr>\n",
       "    <tr>\n",
       "      <th>2</th>\n",
       "      <td>4</td>\n",
       "      <td>0.793915</td>\n",
       "      <td>0.800189</td>\n",
       "    </tr>\n",
       "    <tr>\n",
       "      <th>3</th>\n",
       "      <td>5</td>\n",
       "      <td>0.801014</td>\n",
       "      <td>0.803977</td>\n",
       "    </tr>\n",
       "    <tr>\n",
       "      <th>4</th>\n",
       "      <td>6</td>\n",
       "      <td>0.815416</td>\n",
       "      <td>0.801136</td>\n",
       "    </tr>\n",
       "    <tr>\n",
       "      <th>5</th>\n",
       "      <td>7</td>\n",
       "      <td>0.829412</td>\n",
       "      <td>0.786932</td>\n",
       "    </tr>\n",
       "    <tr>\n",
       "      <th>6</th>\n",
       "      <td>8</td>\n",
       "      <td>0.839757</td>\n",
       "      <td>0.784091</td>\n",
       "    </tr>\n",
       "    <tr>\n",
       "      <th>7</th>\n",
       "      <td>9</td>\n",
       "      <td>0.859432</td>\n",
       "      <td>0.772727</td>\n",
       "    </tr>\n",
       "    <tr>\n",
       "      <th>8</th>\n",
       "      <td>10</td>\n",
       "      <td>0.882759</td>\n",
       "      <td>0.761364</td>\n",
       "    </tr>\n",
       "    <tr>\n",
       "      <th>9</th>\n",
       "      <td>11</td>\n",
       "      <td>0.902434</td>\n",
       "      <td>0.760417</td>\n",
       "    </tr>\n",
       "    <tr>\n",
       "      <th>10</th>\n",
       "      <td>12</td>\n",
       "      <td>0.919067</td>\n",
       "      <td>0.748106</td>\n",
       "    </tr>\n",
       "    <tr>\n",
       "      <th>11</th>\n",
       "      <td>13</td>\n",
       "      <td>0.935700</td>\n",
       "      <td>0.754735</td>\n",
       "    </tr>\n",
       "    <tr>\n",
       "      <th>12</th>\n",
       "      <td>14</td>\n",
       "      <td>0.948479</td>\n",
       "      <td>0.755682</td>\n",
       "    </tr>\n",
       "  </tbody>\n",
       "</table>\n",
       "</div>"
      ],
      "text/plain": [
       "    max_depth  train_acc   val_acc\n",
       "0           2   0.791278  0.797348\n",
       "1           3   0.791278  0.797348\n",
       "2           4   0.793915  0.800189\n",
       "3           5   0.801014  0.803977\n",
       "4           6   0.815416  0.801136\n",
       "5           7   0.829412  0.786932\n",
       "6           8   0.839757  0.784091\n",
       "7           9   0.859432  0.772727\n",
       "8          10   0.882759  0.761364\n",
       "9          11   0.902434  0.760417\n",
       "10         12   0.919067  0.748106\n",
       "11         13   0.935700  0.754735\n",
       "12         14   0.948479  0.755682"
      ]
     },
     "execution_count": 72,
     "metadata": {},
     "output_type": "execute_result"
    }
   ],
   "source": [
    "pd.DataFrame({'max_depth' : depth, 'train_acc' : train_acc, 'val_acc' : val_acc})"
   ]
  }
 ],
 "metadata": {
  "kernelspec": {
   "display_name": "Python 3 (ipykernel)",
   "language": "python",
   "name": "python3"
  },
  "language_info": {
   "codemirror_mode": {
    "name": "ipython",
    "version": 3
   },
   "file_extension": ".py",
   "mimetype": "text/x-python",
   "name": "python",
   "nbconvert_exporter": "python",
   "pygments_lexer": "ipython3",
   "version": "3.10.12"
  }
 },
 "nbformat": 4,
 "nbformat_minor": 5
}
