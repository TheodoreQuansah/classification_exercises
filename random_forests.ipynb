{
 "cells": [
  {
   "cell_type": "markdown",
   "id": "9963a15c-d50c-4781-83db-9bf2f3cecc56",
   "metadata": {},
   "source": [
    "# Random Forest"
   ]
  },
  {
   "cell_type": "code",
   "execution_count": 37,
   "id": "fcbd4fb3-532a-4ec3-a9c6-32fa57556571",
   "metadata": {},
   "outputs": [],
   "source": [
    "import pandas as pd\n",
    "import numpy as np\n",
    "import matplotlib.pyplot as plt\n",
    "\n",
    "from sklearn.ensemble import RandomForestClassifier\n",
    "from sklearn.metrics import classification_report\n",
    "from prepare import train_val_test, prep_titanic, metrics, rubric"
   ]
  },
  {
   "cell_type": "markdown",
   "id": "f2349d85-fd02-41e6-9527-13591ed31001",
   "metadata": {},
   "source": [
    "1) Fit the Random Forest classifier to your training sample and transform (i.e. make predictions on the training sample) setting the random_state accordingly and setting min_samples_leaf = 1 and max_depth = 10."
   ]
  },
  {
   "cell_type": "code",
   "execution_count": 38,
   "id": "2f5f9906-f2fd-41c6-ac56-c62b4fa11eef",
   "metadata": {},
   "outputs": [],
   "source": [
    "#assigning prep_titanic to df\n",
    "\n",
    "df = prep_titanic()"
   ]
  },
  {
   "cell_type": "code",
   "execution_count": 39,
   "id": "2124d847-5357-4a26-b22d-51d1cd5a05e3",
   "metadata": {},
   "outputs": [],
   "source": [
    "# splitting the titanic dataframe into training, validation, and test sets.\n",
    "\n",
    "train, val, test = train_val_test(df, strat = 'survived')"
   ]
  },
  {
   "cell_type": "code",
   "execution_count": 40,
   "id": "975d156c-f6b0-4b74-a88f-9791fbfbf805",
   "metadata": {},
   "outputs": [
    {
     "data": {
      "text/html": [
       "<div>\n",
       "<style scoped>\n",
       "    .dataframe tbody tr th:only-of-type {\n",
       "        vertical-align: middle;\n",
       "    }\n",
       "\n",
       "    .dataframe tbody tr th {\n",
       "        vertical-align: top;\n",
       "    }\n",
       "\n",
       "    .dataframe thead th {\n",
       "        text-align: right;\n",
       "    }\n",
       "</style>\n",
       "<table border=\"1\" class=\"dataframe\">\n",
       "  <thead>\n",
       "    <tr style=\"text-align: right;\">\n",
       "      <th></th>\n",
       "      <th>survived</th>\n",
       "      <th>age</th>\n",
       "      <th>sibsp</th>\n",
       "      <th>parch</th>\n",
       "      <th>fare</th>\n",
       "      <th>alone</th>\n",
       "      <th>sex_male</th>\n",
       "      <th>class_First</th>\n",
       "      <th>class_Second</th>\n",
       "      <th>class_Third</th>\n",
       "      <th>embark_town_Cherbourg</th>\n",
       "      <th>embark_town_Queenstown</th>\n",
       "      <th>embark_town_Southampton</th>\n",
       "    </tr>\n",
       "  </thead>\n",
       "  <tbody>\n",
       "    <tr>\n",
       "      <th>748</th>\n",
       "      <td>0</td>\n",
       "      <td>19.0</td>\n",
       "      <td>1</td>\n",
       "      <td>0</td>\n",
       "      <td>53.1000</td>\n",
       "      <td>0</td>\n",
       "      <td>True</td>\n",
       "      <td>True</td>\n",
       "      <td>False</td>\n",
       "      <td>False</td>\n",
       "      <td>False</td>\n",
       "      <td>False</td>\n",
       "      <td>True</td>\n",
       "    </tr>\n",
       "    <tr>\n",
       "      <th>45</th>\n",
       "      <td>0</td>\n",
       "      <td>28.0</td>\n",
       "      <td>0</td>\n",
       "      <td>0</td>\n",
       "      <td>8.0500</td>\n",
       "      <td>1</td>\n",
       "      <td>True</td>\n",
       "      <td>False</td>\n",
       "      <td>False</td>\n",
       "      <td>True</td>\n",
       "      <td>False</td>\n",
       "      <td>False</td>\n",
       "      <td>True</td>\n",
       "    </tr>\n",
       "    <tr>\n",
       "      <th>28</th>\n",
       "      <td>1</td>\n",
       "      <td>28.0</td>\n",
       "      <td>0</td>\n",
       "      <td>0</td>\n",
       "      <td>7.8792</td>\n",
       "      <td>1</td>\n",
       "      <td>False</td>\n",
       "      <td>False</td>\n",
       "      <td>False</td>\n",
       "      <td>True</td>\n",
       "      <td>False</td>\n",
       "      <td>True</td>\n",
       "      <td>False</td>\n",
       "    </tr>\n",
       "    <tr>\n",
       "      <th>633</th>\n",
       "      <td>0</td>\n",
       "      <td>28.0</td>\n",
       "      <td>0</td>\n",
       "      <td>0</td>\n",
       "      <td>0.0000</td>\n",
       "      <td>1</td>\n",
       "      <td>True</td>\n",
       "      <td>True</td>\n",
       "      <td>False</td>\n",
       "      <td>False</td>\n",
       "      <td>False</td>\n",
       "      <td>False</td>\n",
       "      <td>True</td>\n",
       "    </tr>\n",
       "    <tr>\n",
       "      <th>403</th>\n",
       "      <td>0</td>\n",
       "      <td>28.0</td>\n",
       "      <td>1</td>\n",
       "      <td>0</td>\n",
       "      <td>15.8500</td>\n",
       "      <td>0</td>\n",
       "      <td>True</td>\n",
       "      <td>False</td>\n",
       "      <td>False</td>\n",
       "      <td>True</td>\n",
       "      <td>False</td>\n",
       "      <td>False</td>\n",
       "      <td>True</td>\n",
       "    </tr>\n",
       "  </tbody>\n",
       "</table>\n",
       "</div>"
      ],
      "text/plain": [
       "     survived   age  sibsp  parch     fare  alone  sex_male  class_First  \\\n",
       "748         0  19.0      1      0  53.1000      0      True         True   \n",
       "45          0  28.0      0      0   8.0500      1      True        False   \n",
       "28          1  28.0      0      0   7.8792      1     False        False   \n",
       "633         0  28.0      0      0   0.0000      1      True         True   \n",
       "403         0  28.0      1      0  15.8500      0      True        False   \n",
       "\n",
       "     class_Second  class_Third  embark_town_Cherbourg  embark_town_Queenstown  \\\n",
       "748         False        False                  False                   False   \n",
       "45          False         True                  False                   False   \n",
       "28          False         True                  False                    True   \n",
       "633         False        False                  False                   False   \n",
       "403         False         True                  False                   False   \n",
       "\n",
       "     embark_town_Southampton  \n",
       "748                     True  \n",
       "45                      True  \n",
       "28                     False  \n",
       "633                     True  \n",
       "403                     True  "
      ]
     },
     "execution_count": 40,
     "metadata": {},
     "output_type": "execute_result"
    }
   ],
   "source": [
    "#encoding the sex, class and embark town categorical columns in the train set and dropping the female_sex col.\n",
    "\n",
    "train = pd.get_dummies(train, columns = ['sex'], drop_first = True)\n",
    "train = pd.get_dummies(train, columns = ['class', 'embark_town'])\n",
    "train.head()"
   ]
  },
  {
   "cell_type": "code",
   "execution_count": 41,
   "id": "43f88602-e62a-4242-b574-87115eff3000",
   "metadata": {},
   "outputs": [
    {
     "data": {
      "text/html": [
       "<div>\n",
       "<style scoped>\n",
       "    .dataframe tbody tr th:only-of-type {\n",
       "        vertical-align: middle;\n",
       "    }\n",
       "\n",
       "    .dataframe tbody tr th {\n",
       "        vertical-align: top;\n",
       "    }\n",
       "\n",
       "    .dataframe thead th {\n",
       "        text-align: right;\n",
       "    }\n",
       "</style>\n",
       "<table border=\"1\" class=\"dataframe\">\n",
       "  <thead>\n",
       "    <tr style=\"text-align: right;\">\n",
       "      <th></th>\n",
       "      <th>survived</th>\n",
       "      <th>age</th>\n",
       "      <th>sibsp</th>\n",
       "      <th>parch</th>\n",
       "      <th>fare</th>\n",
       "      <th>alone</th>\n",
       "      <th>sex_male</th>\n",
       "      <th>class_First</th>\n",
       "      <th>class_Second</th>\n",
       "      <th>class_Third</th>\n",
       "      <th>embark_town_Cherbourg</th>\n",
       "      <th>embark_town_Queenstown</th>\n",
       "      <th>embark_town_Southampton</th>\n",
       "    </tr>\n",
       "  </thead>\n",
       "  <tbody>\n",
       "    <tr>\n",
       "      <th>377</th>\n",
       "      <td>0</td>\n",
       "      <td>27.0</td>\n",
       "      <td>0</td>\n",
       "      <td>2</td>\n",
       "      <td>211.500</td>\n",
       "      <td>0</td>\n",
       "      <td>True</td>\n",
       "      <td>True</td>\n",
       "      <td>False</td>\n",
       "      <td>False</td>\n",
       "      <td>True</td>\n",
       "      <td>False</td>\n",
       "      <td>False</td>\n",
       "    </tr>\n",
       "    <tr>\n",
       "      <th>244</th>\n",
       "      <td>0</td>\n",
       "      <td>30.0</td>\n",
       "      <td>0</td>\n",
       "      <td>0</td>\n",
       "      <td>7.225</td>\n",
       "      <td>1</td>\n",
       "      <td>True</td>\n",
       "      <td>False</td>\n",
       "      <td>False</td>\n",
       "      <td>True</td>\n",
       "      <td>True</td>\n",
       "      <td>False</td>\n",
       "      <td>False</td>\n",
       "    </tr>\n",
       "    <tr>\n",
       "      <th>72</th>\n",
       "      <td>0</td>\n",
       "      <td>21.0</td>\n",
       "      <td>0</td>\n",
       "      <td>0</td>\n",
       "      <td>73.500</td>\n",
       "      <td>1</td>\n",
       "      <td>True</td>\n",
       "      <td>False</td>\n",
       "      <td>True</td>\n",
       "      <td>False</td>\n",
       "      <td>False</td>\n",
       "      <td>False</td>\n",
       "      <td>True</td>\n",
       "    </tr>\n",
       "    <tr>\n",
       "      <th>815</th>\n",
       "      <td>0</td>\n",
       "      <td>28.0</td>\n",
       "      <td>0</td>\n",
       "      <td>0</td>\n",
       "      <td>0.000</td>\n",
       "      <td>1</td>\n",
       "      <td>True</td>\n",
       "      <td>True</td>\n",
       "      <td>False</td>\n",
       "      <td>False</td>\n",
       "      <td>False</td>\n",
       "      <td>False</td>\n",
       "      <td>True</td>\n",
       "    </tr>\n",
       "    <tr>\n",
       "      <th>841</th>\n",
       "      <td>0</td>\n",
       "      <td>16.0</td>\n",
       "      <td>0</td>\n",
       "      <td>0</td>\n",
       "      <td>10.500</td>\n",
       "      <td>1</td>\n",
       "      <td>True</td>\n",
       "      <td>False</td>\n",
       "      <td>True</td>\n",
       "      <td>False</td>\n",
       "      <td>False</td>\n",
       "      <td>False</td>\n",
       "      <td>True</td>\n",
       "    </tr>\n",
       "  </tbody>\n",
       "</table>\n",
       "</div>"
      ],
      "text/plain": [
       "     survived   age  sibsp  parch     fare  alone  sex_male  class_First  \\\n",
       "377         0  27.0      0      2  211.500      0      True         True   \n",
       "244         0  30.0      0      0    7.225      1      True        False   \n",
       "72          0  21.0      0      0   73.500      1      True        False   \n",
       "815         0  28.0      0      0    0.000      1      True         True   \n",
       "841         0  16.0      0      0   10.500      1      True        False   \n",
       "\n",
       "     class_Second  class_Third  embark_town_Cherbourg  embark_town_Queenstown  \\\n",
       "377         False        False                   True                   False   \n",
       "244         False         True                   True                   False   \n",
       "72           True        False                  False                   False   \n",
       "815         False        False                  False                   False   \n",
       "841          True        False                  False                   False   \n",
       "\n",
       "     embark_town_Southampton  \n",
       "377                    False  \n",
       "244                    False  \n",
       "72                      True  \n",
       "815                     True  \n",
       "841                     True  "
      ]
     },
     "execution_count": 41,
     "metadata": {},
     "output_type": "execute_result"
    }
   ],
   "source": [
    "#encoding the sex, class and embark town categorical columns in the val set and dropping the female_sex col.\n",
    "\n",
    "val = pd.get_dummies(val, columns = ['sex'], drop_first = True)\n",
    "val = pd.get_dummies(val, columns = ['class', 'embark_town'])\n",
    "val.head()"
   ]
  },
  {
   "cell_type": "code",
   "execution_count": 42,
   "id": "db044f55-26f6-4922-a1db-adb3100d03fc",
   "metadata": {},
   "outputs": [
    {
     "data": {
      "text/plain": [
       "((623, 13), (134, 13))"
      ]
     },
     "execution_count": 42,
     "metadata": {},
     "output_type": "execute_result"
    }
   ],
   "source": [
    "#making sure train and val have the same # of columns\n",
    "\n",
    "train.shape, val.shape"
   ]
  },
  {
   "cell_type": "code",
   "execution_count": 43,
   "id": "41d23fc5-209a-4f4c-8eef-7f572490c6e0",
   "metadata": {},
   "outputs": [],
   "source": [
    "# creating an X & y version of train and val, where y is a series with just the target variable and X are all the features.\n",
    "\n",
    "X_train = train.drop(columns = 'survived')\n",
    "y_train = train.survived\n",
    "\n",
    "X_val = val.drop(columns = 'survived')\n",
    "y_val = val.survived"
   ]
  },
  {
   "cell_type": "code",
   "execution_count": 44,
   "id": "4d35d70b-a98e-46aa-b2c6-c1d72aecffe9",
   "metadata": {},
   "outputs": [
    {
     "data": {
      "text/plain": [
       "0.6163723916532905"
      ]
     },
     "execution_count": 44,
     "metadata": {},
     "output_type": "execute_result"
    }
   ],
   "source": [
    "# creating a baseline of the most occuring number in the survived column\n",
    "\n",
    "(y_train == 0).mean()"
   ]
  },
  {
   "cell_type": "markdown",
   "id": "cda6b6b4-67a7-4ede-8bb3-b0307db3ab5b",
   "metadata": {},
   "source": [
    "baseline accuracy is 62%"
   ]
  },
  {
   "cell_type": "code",
   "execution_count": 45,
   "id": "a1376d77-66d5-4860-a9c5-655a9fbaa970",
   "metadata": {},
   "outputs": [
    {
     "data": {
      "text/plain": [
       "((623,), (623,))"
      ]
     },
     "execution_count": 45,
     "metadata": {},
     "output_type": "execute_result"
    }
   ],
   "source": [
    "#verifying that x and y train have the same amount of rows\n",
    "\n",
    "X_train.shape[:1], y_train.shape[:1]"
   ]
  },
  {
   "cell_type": "code",
   "execution_count": 46,
   "id": "5e6cb6f9-7071-47e5-bb57-1fa88c82e4eb",
   "metadata": {},
   "outputs": [
    {
     "data": {
      "text/html": [
       "<style>#sk-container-id-3 {color: black;}#sk-container-id-3 pre{padding: 0;}#sk-container-id-3 div.sk-toggleable {background-color: white;}#sk-container-id-3 label.sk-toggleable__label {cursor: pointer;display: block;width: 100%;margin-bottom: 0;padding: 0.3em;box-sizing: border-box;text-align: center;}#sk-container-id-3 label.sk-toggleable__label-arrow:before {content: \"▸\";float: left;margin-right: 0.25em;color: #696969;}#sk-container-id-3 label.sk-toggleable__label-arrow:hover:before {color: black;}#sk-container-id-3 div.sk-estimator:hover label.sk-toggleable__label-arrow:before {color: black;}#sk-container-id-3 div.sk-toggleable__content {max-height: 0;max-width: 0;overflow: hidden;text-align: left;background-color: #f0f8ff;}#sk-container-id-3 div.sk-toggleable__content pre {margin: 0.2em;color: black;border-radius: 0.25em;background-color: #f0f8ff;}#sk-container-id-3 input.sk-toggleable__control:checked~div.sk-toggleable__content {max-height: 200px;max-width: 100%;overflow: auto;}#sk-container-id-3 input.sk-toggleable__control:checked~label.sk-toggleable__label-arrow:before {content: \"▾\";}#sk-container-id-3 div.sk-estimator input.sk-toggleable__control:checked~label.sk-toggleable__label {background-color: #d4ebff;}#sk-container-id-3 div.sk-label input.sk-toggleable__control:checked~label.sk-toggleable__label {background-color: #d4ebff;}#sk-container-id-3 input.sk-hidden--visually {border: 0;clip: rect(1px 1px 1px 1px);clip: rect(1px, 1px, 1px, 1px);height: 1px;margin: -1px;overflow: hidden;padding: 0;position: absolute;width: 1px;}#sk-container-id-3 div.sk-estimator {font-family: monospace;background-color: #f0f8ff;border: 1px dotted black;border-radius: 0.25em;box-sizing: border-box;margin-bottom: 0.5em;}#sk-container-id-3 div.sk-estimator:hover {background-color: #d4ebff;}#sk-container-id-3 div.sk-parallel-item::after {content: \"\";width: 100%;border-bottom: 1px solid gray;flex-grow: 1;}#sk-container-id-3 div.sk-label:hover label.sk-toggleable__label {background-color: #d4ebff;}#sk-container-id-3 div.sk-serial::before {content: \"\";position: absolute;border-left: 1px solid gray;box-sizing: border-box;top: 0;bottom: 0;left: 50%;z-index: 0;}#sk-container-id-3 div.sk-serial {display: flex;flex-direction: column;align-items: center;background-color: white;padding-right: 0.2em;padding-left: 0.2em;position: relative;}#sk-container-id-3 div.sk-item {position: relative;z-index: 1;}#sk-container-id-3 div.sk-parallel {display: flex;align-items: stretch;justify-content: center;background-color: white;position: relative;}#sk-container-id-3 div.sk-item::before, #sk-container-id-3 div.sk-parallel-item::before {content: \"\";position: absolute;border-left: 1px solid gray;box-sizing: border-box;top: 0;bottom: 0;left: 50%;z-index: -1;}#sk-container-id-3 div.sk-parallel-item {display: flex;flex-direction: column;z-index: 1;position: relative;background-color: white;}#sk-container-id-3 div.sk-parallel-item:first-child::after {align-self: flex-end;width: 50%;}#sk-container-id-3 div.sk-parallel-item:last-child::after {align-self: flex-start;width: 50%;}#sk-container-id-3 div.sk-parallel-item:only-child::after {width: 0;}#sk-container-id-3 div.sk-dashed-wrapped {border: 1px dashed gray;margin: 0 0.4em 0.5em 0.4em;box-sizing: border-box;padding-bottom: 0.4em;background-color: white;}#sk-container-id-3 div.sk-label label {font-family: monospace;font-weight: bold;display: inline-block;line-height: 1.2em;}#sk-container-id-3 div.sk-label-container {text-align: center;}#sk-container-id-3 div.sk-container {/* jupyter's `normalize.less` sets `[hidden] { display: none; }` but bootstrap.min.css set `[hidden] { display: none !important; }` so we also need the `!important` here to be able to override the default hidden behavior on the sphinx rendered scikit-learn.org. See: https://github.com/scikit-learn/scikit-learn/issues/21755 */display: inline-block !important;position: relative;}#sk-container-id-3 div.sk-text-repr-fallback {display: none;}</style><div id=\"sk-container-id-3\" class=\"sk-top-container\"><div class=\"sk-text-repr-fallback\"><pre>RandomForestClassifier(max_depth=10, random_state=42)</pre><b>In a Jupyter environment, please rerun this cell to show the HTML representation or trust the notebook. <br />On GitHub, the HTML representation is unable to render, please try loading this page with nbviewer.org.</b></div><div class=\"sk-container\" hidden><div class=\"sk-item\"><div class=\"sk-estimator sk-toggleable\"><input class=\"sk-toggleable__control sk-hidden--visually\" id=\"sk-estimator-id-3\" type=\"checkbox\" checked><label for=\"sk-estimator-id-3\" class=\"sk-toggleable__label sk-toggleable__label-arrow\">RandomForestClassifier</label><div class=\"sk-toggleable__content\"><pre>RandomForestClassifier(max_depth=10, random_state=42)</pre></div></div></div></div></div>"
      ],
      "text/plain": [
       "RandomForestClassifier(max_depth=10, random_state=42)"
      ]
     },
     "execution_count": 46,
     "metadata": {},
     "output_type": "execute_result"
    }
   ],
   "source": [
    "#creating a model and fitting it to our train set\n",
    "\n",
    "seed = 42\n",
    "\n",
    "rf = RandomForestClassifier(max_depth = 10, min_samples_leaf = 1, random_state = seed)\n",
    "\n",
    "rf.fit(X_train, y_train)"
   ]
  },
  {
   "cell_type": "code",
   "execution_count": 47,
   "id": "bf3c1258-2831-440d-83e0-7d80266d6a9e",
   "metadata": {},
   "outputs": [
    {
     "data": {
      "text/plain": [
       "0.956661316211878"
      ]
     },
     "execution_count": 47,
     "metadata": {},
     "output_type": "execute_result"
    }
   ],
   "source": [
    "train_acc = rf.score(X_train, y_train)\n",
    "train_acc"
   ]
  },
  {
   "cell_type": "code",
   "execution_count": 48,
   "id": "5ada27c6-a06d-4294-a771-6fe4686e4544",
   "metadata": {},
   "outputs": [
    {
     "data": {
      "text/plain": [
       "0.835820895522388"
      ]
     },
     "execution_count": 48,
     "metadata": {},
     "output_type": "execute_result"
    }
   ],
   "source": [
    "val_acc = rf.score(X_val, y_val)\n",
    "val_acc"
   ]
  },
  {
   "cell_type": "code",
   "execution_count": 49,
   "id": "d3bd231c-afcd-4921-989f-c5f13729792c",
   "metadata": {},
   "outputs": [
    {
     "data": {
      "text/plain": [
       "array([0.21785056, 0.04086637, 0.0439032 , 0.22506522, 0.02060527,\n",
       "       0.29997892, 0.03316814, 0.01503671, 0.06026992, 0.01566116,\n",
       "       0.0086779 , 0.01891662])"
      ]
     },
     "execution_count": 49,
     "metadata": {},
     "output_type": "execute_result"
    }
   ],
   "source": [
    "rf.feature_importances_"
   ]
  },
  {
   "cell_type": "code",
   "execution_count": 50,
   "id": "b9bb3b50-f2e7-458f-a191-507457635a3c",
   "metadata": {},
   "outputs": [
    {
     "data": {
      "text/plain": [
       "0.9999999900000001"
      ]
     },
     "execution_count": 50,
     "metadata": {},
     "output_type": "execute_result"
    }
   ],
   "source": [
    "np.array([0.21785056, 0.04086637, 0.0439032 , 0.22506522, 0.02060527,\n",
    "       0.29997892, 0.03316814, 0.01503671, 0.06026992, 0.01566116,\n",
    "       0.0086779 , 0.01891662]).sum()"
   ]
  },
  {
   "cell_type": "code",
   "execution_count": 51,
   "id": "06f1c8a0-45b2-4979-849f-c8743998b855",
   "metadata": {},
   "outputs": [
    {
     "data": {
      "text/html": [
       "<div>\n",
       "<style scoped>\n",
       "    .dataframe tbody tr th:only-of-type {\n",
       "        vertical-align: middle;\n",
       "    }\n",
       "\n",
       "    .dataframe tbody tr th {\n",
       "        vertical-align: top;\n",
       "    }\n",
       "\n",
       "    .dataframe thead th {\n",
       "        text-align: right;\n",
       "    }\n",
       "</style>\n",
       "<table border=\"1\" class=\"dataframe\">\n",
       "  <thead>\n",
       "    <tr style=\"text-align: right;\">\n",
       "      <th></th>\n",
       "      <th>feature</th>\n",
       "      <th>importance</th>\n",
       "    </tr>\n",
       "  </thead>\n",
       "  <tbody>\n",
       "    <tr>\n",
       "      <th>5</th>\n",
       "      <td>sex_male</td>\n",
       "      <td>0.299979</td>\n",
       "    </tr>\n",
       "    <tr>\n",
       "      <th>3</th>\n",
       "      <td>fare</td>\n",
       "      <td>0.225065</td>\n",
       "    </tr>\n",
       "    <tr>\n",
       "      <th>0</th>\n",
       "      <td>age</td>\n",
       "      <td>0.217851</td>\n",
       "    </tr>\n",
       "    <tr>\n",
       "      <th>8</th>\n",
       "      <td>class_Third</td>\n",
       "      <td>0.060270</td>\n",
       "    </tr>\n",
       "    <tr>\n",
       "      <th>2</th>\n",
       "      <td>parch</td>\n",
       "      <td>0.043903</td>\n",
       "    </tr>\n",
       "    <tr>\n",
       "      <th>1</th>\n",
       "      <td>sibsp</td>\n",
       "      <td>0.040866</td>\n",
       "    </tr>\n",
       "    <tr>\n",
       "      <th>6</th>\n",
       "      <td>class_First</td>\n",
       "      <td>0.033168</td>\n",
       "    </tr>\n",
       "    <tr>\n",
       "      <th>4</th>\n",
       "      <td>alone</td>\n",
       "      <td>0.020605</td>\n",
       "    </tr>\n",
       "    <tr>\n",
       "      <th>11</th>\n",
       "      <td>embark_town_Southampton</td>\n",
       "      <td>0.018917</td>\n",
       "    </tr>\n",
       "    <tr>\n",
       "      <th>9</th>\n",
       "      <td>embark_town_Cherbourg</td>\n",
       "      <td>0.015661</td>\n",
       "    </tr>\n",
       "    <tr>\n",
       "      <th>7</th>\n",
       "      <td>class_Second</td>\n",
       "      <td>0.015037</td>\n",
       "    </tr>\n",
       "    <tr>\n",
       "      <th>10</th>\n",
       "      <td>embark_town_Queenstown</td>\n",
       "      <td>0.008678</td>\n",
       "    </tr>\n",
       "  </tbody>\n",
       "</table>\n",
       "</div>"
      ],
      "text/plain": [
       "                    feature  importance\n",
       "5                  sex_male    0.299979\n",
       "3                      fare    0.225065\n",
       "0                       age    0.217851\n",
       "8               class_Third    0.060270\n",
       "2                     parch    0.043903\n",
       "1                     sibsp    0.040866\n",
       "6               class_First    0.033168\n",
       "4                     alone    0.020605\n",
       "11  embark_town_Southampton    0.018917\n",
       "9     embark_town_Cherbourg    0.015661\n",
       "7              class_Second    0.015037\n",
       "10   embark_town_Queenstown    0.008678"
      ]
     },
     "execution_count": 51,
     "metadata": {},
     "output_type": "execute_result"
    }
   ],
   "source": [
    "fi = pd.DataFrame({'feature' : X_train.columns,\n",
    "              'importance' : rf.feature_importances_})\n",
    "\n",
    "fi.sort_values(by = 'importance', ascending = False)"
   ]
  },
  {
   "cell_type": "markdown",
   "id": "794b9aaa-2e05-4bdf-95fa-6b5dabd5a2e0",
   "metadata": {},
   "source": [
    "creating a visualization to show the train and validate accuracy as depth increases."
   ]
  },
  {
   "cell_type": "code",
   "execution_count": 52,
   "id": "d691df40-d9a3-478e-8976-f72b694c0333",
   "metadata": {},
   "outputs": [],
   "source": [
    "seed = 42\n",
    "train_acc = []\n",
    "val_acc = []\n",
    "depth = []\n",
    "\n",
    "for i in range(2, 13):\n",
    "\n",
    "        rf = RandomForestClassifier(max_depth = i, min_samples_leaf = 1, random_state = seed)\n",
    "    \n",
    "        rf.fit(X_train, y_train)\n",
    "    \n",
    "        train_acc.append(rf.score(X_train, y_train))\n",
    "    \n",
    "        val_acc.append(rf.score(X_val, y_val))\n",
    "    \n",
    "        depth.append(i)"
   ]
  },
  {
   "cell_type": "code",
   "execution_count": 53,
   "id": "0433b626-3ed1-4468-afb6-ae1bd775b5f0",
   "metadata": {},
   "outputs": [
    {
     "data": {
      "text/html": [
       "<div>\n",
       "<style scoped>\n",
       "    .dataframe tbody tr th:only-of-type {\n",
       "        vertical-align: middle;\n",
       "    }\n",
       "\n",
       "    .dataframe tbody tr th {\n",
       "        vertical-align: top;\n",
       "    }\n",
       "\n",
       "    .dataframe thead th {\n",
       "        text-align: right;\n",
       "    }\n",
       "</style>\n",
       "<table border=\"1\" class=\"dataframe\">\n",
       "  <thead>\n",
       "    <tr style=\"text-align: right;\">\n",
       "      <th></th>\n",
       "      <th>max_depth</th>\n",
       "      <th>train_acc</th>\n",
       "      <th>val_acc</th>\n",
       "    </tr>\n",
       "  </thead>\n",
       "  <tbody>\n",
       "    <tr>\n",
       "      <th>0</th>\n",
       "      <td>2</td>\n",
       "      <td>0.810594</td>\n",
       "      <td>0.820896</td>\n",
       "    </tr>\n",
       "    <tr>\n",
       "      <th>1</th>\n",
       "      <td>3</td>\n",
       "      <td>0.829856</td>\n",
       "      <td>0.835821</td>\n",
       "    </tr>\n",
       "    <tr>\n",
       "      <th>2</th>\n",
       "      <td>4</td>\n",
       "      <td>0.849117</td>\n",
       "      <td>0.828358</td>\n",
       "    </tr>\n",
       "    <tr>\n",
       "      <th>3</th>\n",
       "      <td>5</td>\n",
       "      <td>0.860353</td>\n",
       "      <td>0.828358</td>\n",
       "    </tr>\n",
       "    <tr>\n",
       "      <th>4</th>\n",
       "      <td>6</td>\n",
       "      <td>0.878010</td>\n",
       "      <td>0.835821</td>\n",
       "    </tr>\n",
       "    <tr>\n",
       "      <th>5</th>\n",
       "      <td>7</td>\n",
       "      <td>0.903692</td>\n",
       "      <td>0.835821</td>\n",
       "    </tr>\n",
       "    <tr>\n",
       "      <th>6</th>\n",
       "      <td>8</td>\n",
       "      <td>0.934189</td>\n",
       "      <td>0.843284</td>\n",
       "    </tr>\n",
       "    <tr>\n",
       "      <th>7</th>\n",
       "      <td>9</td>\n",
       "      <td>0.942215</td>\n",
       "      <td>0.843284</td>\n",
       "    </tr>\n",
       "    <tr>\n",
       "      <th>8</th>\n",
       "      <td>10</td>\n",
       "      <td>0.956661</td>\n",
       "      <td>0.835821</td>\n",
       "    </tr>\n",
       "    <tr>\n",
       "      <th>9</th>\n",
       "      <td>11</td>\n",
       "      <td>0.961477</td>\n",
       "      <td>0.843284</td>\n",
       "    </tr>\n",
       "    <tr>\n",
       "      <th>10</th>\n",
       "      <td>12</td>\n",
       "      <td>0.967897</td>\n",
       "      <td>0.843284</td>\n",
       "    </tr>\n",
       "  </tbody>\n",
       "</table>\n",
       "</div>"
      ],
      "text/plain": [
       "    max_depth  train_acc   val_acc\n",
       "0           2   0.810594  0.820896\n",
       "1           3   0.829856  0.835821\n",
       "2           4   0.849117  0.828358\n",
       "3           5   0.860353  0.828358\n",
       "4           6   0.878010  0.835821\n",
       "5           7   0.903692  0.835821\n",
       "6           8   0.934189  0.843284\n",
       "7           9   0.942215  0.843284\n",
       "8          10   0.956661  0.835821\n",
       "9          11   0.961477  0.843284\n",
       "10         12   0.967897  0.843284"
      ]
     },
     "execution_count": 53,
     "metadata": {},
     "output_type": "execute_result"
    }
   ],
   "source": [
    "trees = pd.DataFrame({'max_depth' : depth, 'train_acc' : train_acc, 'val_acc' : val_acc})\n",
    "trees"
   ]
  },
  {
   "cell_type": "code",
   "execution_count": 54,
   "id": "92b43cb4-e142-4ed2-b661-5d1f2d9178b9",
   "metadata": {},
   "outputs": [
    {
     "data": {
      "image/png": "[encoded data removed]",
      "text/plain": [
       "<Figure size 640x480 with 1 Axes>"
      ]
     },
     "metadata": {},
     "output_type": "display_data"
    }
   ],
   "source": [
    "plt.plot(trees.max_depth, trees.train_acc, label = 'Train')\n",
    "plt.plot(trees.max_depth, trees.val_acc, label = 'Validate')\n",
    "plt.ylabel('Accuracy')\n",
    "plt.xlabel('Max depth')\n",
    "plt.title('Accuracy as max depth increases')\n",
    "plt.legend()\n",
    "plt.show()"
   ]
  },
  {
   "cell_type": "markdown",
   "id": "b7972a84-0cc5-466a-aba5-ceb0ef3c5c89",
   "metadata": {},
   "source": [
    "2) Evaluate your results using the model score, confusion matrix, and classification report."
   ]
  },
  {
   "cell_type": "markdown",
   "id": "47feb06b-a7bd-4888-8aae-d5e97d9654b1",
   "metadata": {},
   "source": [
    "### model score"
   ]
  },
  {
   "cell_type": "code",
   "execution_count": 55,
   "id": "5bda4e42-8d3b-4cbd-9eb4-87249a7392a0",
   "metadata": {},
   "outputs": [
    {
     "data": {
      "text/plain": [
       "0.9678972712680578"
      ]
     },
     "execution_count": 55,
     "metadata": {},
     "output_type": "execute_result"
    }
   ],
   "source": [
    "rf.score(X_train, y_train)"
   ]
  },
  {
   "cell_type": "markdown",
   "id": "9d8d3451-d7b8-4122-bcfc-30fda8896901",
   "metadata": {},
   "source": [
    "### confusion matrix"
   ]
  },
  {
   "cell_type": "code",
   "execution_count": 56,
   "id": "ca58177a-7ab1-46ad-9489-dc7f81c5b255",
   "metadata": {},
   "outputs": [
    {
     "data": {
      "text/plain": [
       "array([0, 0, 1, 0, 0])"
      ]
     },
     "execution_count": 56,
     "metadata": {},
     "output_type": "execute_result"
    }
   ],
   "source": [
    "t_pred = rf.predict(X_train)\n",
    "t_pred[:5]"
   ]
  },
  {
   "cell_type": "code",
   "execution_count": 57,
   "id": "9b3d9a5e-41d5-44f9-a94a-7edcda7c29de",
   "metadata": {},
   "outputs": [
    {
     "data": {
      "text/plain": [
       "array([0, 0, 0, 0, 0])"
      ]
     },
     "execution_count": 57,
     "metadata": {},
     "output_type": "execute_result"
    }
   ],
   "source": [
    "v_pred = rf.predict(X_val)\n",
    "v_pred[:5]"
   ]
  },
  {
   "cell_type": "code",
   "execution_count": 58,
   "id": "53a78230-f3cc-41cc-b77b-a2f4396bb350",
   "metadata": {},
   "outputs": [
    {
     "data": {
      "text/html": [
       "<div>\n",
       "<style scoped>\n",
       "    .dataframe tbody tr th:only-of-type {\n",
       "        vertical-align: middle;\n",
       "    }\n",
       "\n",
       "    .dataframe tbody tr th {\n",
       "        vertical-align: top;\n",
       "    }\n",
       "\n",
       "    .dataframe thead th {\n",
       "        text-align: right;\n",
       "    }\n",
       "</style>\n",
       "<table border=\"1\" class=\"dataframe\">\n",
       "  <thead>\n",
       "    <tr style=\"text-align: right;\">\n",
       "      <th>col_0</th>\n",
       "      <th>0</th>\n",
       "      <th>1</th>\n",
       "    </tr>\n",
       "    <tr>\n",
       "      <th>survived</th>\n",
       "      <th></th>\n",
       "      <th></th>\n",
       "    </tr>\n",
       "  </thead>\n",
       "  <tbody>\n",
       "    <tr>\n",
       "      <th>0</th>\n",
       "      <td>75</td>\n",
       "      <td>7</td>\n",
       "    </tr>\n",
       "    <tr>\n",
       "      <th>1</th>\n",
       "      <td>14</td>\n",
       "      <td>38</td>\n",
       "    </tr>\n",
       "  </tbody>\n",
       "</table>\n",
       "</div>"
      ],
      "text/plain": [
       "col_0      0   1\n",
       "survived        \n",
       "0         75   7\n",
       "1         14  38"
      ]
     },
     "execution_count": 58,
     "metadata": {},
     "output_type": "execute_result"
    }
   ],
   "source": [
    "#creating a crosstab for the val confising matrix\n",
    "\n",
    "pd.crosstab(y_val, v_pred)"
   ]
  },
  {
   "cell_type": "code",
   "execution_count": 59,
   "id": "dea25f10-6824-4c36-8071-dd9fd55289ae",
   "metadata": {},
   "outputs": [
    {
     "data": {
      "text/html": [
       "<div>\n",
       "<style scoped>\n",
       "    .dataframe tbody tr th:only-of-type {\n",
       "        vertical-align: middle;\n",
       "    }\n",
       "\n",
       "    .dataframe tbody tr th {\n",
       "        vertical-align: top;\n",
       "    }\n",
       "\n",
       "    .dataframe thead th {\n",
       "        text-align: right;\n",
       "    }\n",
       "</style>\n",
       "<table border=\"1\" class=\"dataframe\">\n",
       "  <thead>\n",
       "    <tr style=\"text-align: right;\">\n",
       "      <th>col_0</th>\n",
       "      <th>0</th>\n",
       "      <th>1</th>\n",
       "    </tr>\n",
       "    <tr>\n",
       "      <th>survived</th>\n",
       "      <th></th>\n",
       "      <th></th>\n",
       "    </tr>\n",
       "  </thead>\n",
       "  <tbody>\n",
       "    <tr>\n",
       "      <th>0</th>\n",
       "      <td>382</td>\n",
       "      <td>2</td>\n",
       "    </tr>\n",
       "    <tr>\n",
       "      <th>1</th>\n",
       "      <td>18</td>\n",
       "      <td>221</td>\n",
       "    </tr>\n",
       "  </tbody>\n",
       "</table>\n",
       "</div>"
      ],
      "text/plain": [
       "col_0       0    1\n",
       "survived          \n",
       "0         382    2\n",
       "1          18  221"
      ]
     },
     "execution_count": 59,
     "metadata": {},
     "output_type": "execute_result"
    }
   ],
   "source": [
    "#creating a crosstab for the train confising matrix\n",
    "\n",
    "ct = pd.crosstab(y_train, t_pred)\n",
    "ct"
   ]
  },
  {
   "cell_type": "markdown",
   "id": "35e8e632-7985-481c-8554-2a21ef3c2abb",
   "metadata": {},
   "source": [
    "### classification report"
   ]
  },
  {
   "cell_type": "code",
   "execution_count": 60,
   "id": "e1ed04b1-a15b-48b9-b9f7-749a2b1c9bb1",
   "metadata": {},
   "outputs": [
    {
     "name": "stdout",
     "output_type": "stream",
     "text": [
      "              precision    recall  f1-score   support\n",
      "\n",
      "           0       0.95      0.99      0.97       384\n",
      "           1       0.99      0.92      0.96       239\n",
      "\n",
      "    accuracy                           0.97       623\n",
      "   macro avg       0.97      0.96      0.97       623\n",
      "weighted avg       0.97      0.97      0.97       623\n",
      "\n"
     ]
    }
   ],
   "source": [
    "print(classification_report(y_train, t_pred))"
   ]
  },
  {
   "cell_type": "markdown",
   "id": "3cdd3833-d3d2-4e16-9892-9bb52e09855e",
   "metadata": {},
   "source": [
    "3) Print and clearly label the following: Accuracy, true positive rate, false positive rate, true negative rate, false negative rate, precision, recall, f1-score, and support."
   ]
  },
  {
   "cell_type": "code",
   "execution_count": 61,
   "id": "e748b07e-0b7e-4cc2-b99e-c3ce1fc7dc27",
   "metadata": {},
   "outputs": [
    {
     "data": {
      "text/html": [
       "<div>\n",
       "<style scoped>\n",
       "    .dataframe tbody tr th:only-of-type {\n",
       "        vertical-align: middle;\n",
       "    }\n",
       "\n",
       "    .dataframe tbody tr th {\n",
       "        vertical-align: top;\n",
       "    }\n",
       "\n",
       "    .dataframe thead th {\n",
       "        text-align: right;\n",
       "    }\n",
       "</style>\n",
       "<table border=\"1\" class=\"dataframe\">\n",
       "  <thead>\n",
       "    <tr style=\"text-align: right;\">\n",
       "      <th>col_0</th>\n",
       "      <th>0</th>\n",
       "      <th>1</th>\n",
       "    </tr>\n",
       "    <tr>\n",
       "      <th>survived</th>\n",
       "      <th></th>\n",
       "      <th></th>\n",
       "    </tr>\n",
       "  </thead>\n",
       "  <tbody>\n",
       "    <tr>\n",
       "      <th>0</th>\n",
       "      <td>382</td>\n",
       "      <td>2</td>\n",
       "    </tr>\n",
       "    <tr>\n",
       "      <th>1</th>\n",
       "      <td>18</td>\n",
       "      <td>221</td>\n",
       "    </tr>\n",
       "  </tbody>\n",
       "</table>\n",
       "</div>"
      ],
      "text/plain": [
       "col_0       0    1\n",
       "survived          \n",
       "0         382    2\n",
       "1          18  221"
      ]
     },
     "execution_count": 61,
     "metadata": {},
     "output_type": "execute_result"
    }
   ],
   "source": [
    "ct"
   ]
  },
  {
   "cell_type": "markdown",
   "id": "4fea1338-a6fd-4281-97e3-2065c955f789",
   "metadata": {},
   "source": [
    "#### accuracy"
   ]
  },
  {
   "cell_type": "code",
   "execution_count": 62,
   "id": "3d2150fc-7b77-41fa-897d-ba968475a032",
   "metadata": {},
   "outputs": [
    {
     "data": {
      "text/plain": [
       "0.9678972712680578"
      ]
     },
     "execution_count": 62,
     "metadata": {},
     "output_type": "execute_result"
    }
   ],
   "source": [
    "acc = (382 + 221) / (382 + 221 + 18 + 2)\n",
    "acc"
   ]
  },
  {
   "cell_type": "markdown",
   "id": "487c2559-6346-4b10-9812-204a1afe8205",
   "metadata": {},
   "source": [
    "#### true positive rate"
   ]
  },
  {
   "cell_type": "code",
   "execution_count": 63,
   "id": "faf2b634-4a35-4ee1-b3d1-d08bafe5c6fd",
   "metadata": {},
   "outputs": [
    {
     "data": {
      "text/plain": [
       "0.9947916666666666"
      ]
     },
     "execution_count": 63,
     "metadata": {},
     "output_type": "execute_result"
    }
   ],
   "source": [
    "tpr = 382 / (382 + 2)\n",
    "tpr"
   ]
  },
  {
   "cell_type": "markdown",
   "id": "034b2ce8-dab2-47fe-8f50-87b3bfe74af5",
   "metadata": {},
   "source": [
    "#### false positive rate"
   ]
  },
  {
   "cell_type": "code",
   "execution_count": 64,
   "id": "92840342-aa6d-4c48-b08e-2ee76392d340",
   "metadata": {},
   "outputs": [
    {
     "data": {
      "text/plain": [
       "0.07531380753138076"
      ]
     },
     "execution_count": 64,
     "metadata": {},
     "output_type": "execute_result"
    }
   ],
   "source": [
    "fpr = 18 / (18 + 221)\n",
    "fpr"
   ]
  },
  {
   "cell_type": "markdown",
   "id": "c194258c-9e52-4d38-a157-0b3f1a92f00d",
   "metadata": {},
   "source": [
    "#### true negative rate"
   ]
  },
  {
   "cell_type": "code",
   "execution_count": 65,
   "id": "3eb3486d-52f5-4995-8b8d-b3e37d0bcdc4",
   "metadata": {},
   "outputs": [
    {
     "data": {
      "text/plain": [
       "0.9246861924686193"
      ]
     },
     "execution_count": 65,
     "metadata": {},
     "output_type": "execute_result"
    }
   ],
   "source": [
    "tnr = 221 / (221 + 18)\n",
    "tnr"
   ]
  },
  {
   "cell_type": "markdown",
   "id": "fd5ba3a6-ed2c-49a7-baad-46f934420296",
   "metadata": {},
   "source": [
    "#### false negative rate"
   ]
  },
  {
   "cell_type": "code",
   "execution_count": 66,
   "id": "0f36fdd1-9311-4fec-b17a-5fdf09cb87ee",
   "metadata": {},
   "outputs": [
    {
     "data": {
      "text/plain": [
       "0.005208333333333333"
      ]
     },
     "execution_count": 66,
     "metadata": {},
     "output_type": "execute_result"
    }
   ],
   "source": [
    "fnr = 2 / (2 + 382)\n",
    "fnr"
   ]
  },
  {
   "cell_type": "markdown",
   "id": "2cb1a55a-594a-4211-9264-57b47b65d083",
   "metadata": {},
   "source": [
    "#### precision"
   ]
  },
  {
   "cell_type": "code",
   "execution_count": 67,
   "id": "2cce1c72-ba84-409b-92e3-2c7ee3c39aff",
   "metadata": {},
   "outputs": [
    {
     "data": {
      "text/plain": [
       "0.955"
      ]
     },
     "execution_count": 67,
     "metadata": {},
     "output_type": "execute_result"
    }
   ],
   "source": [
    "pre = 382 / (382 + 18)\n",
    "pre"
   ]
  },
  {
   "cell_type": "markdown",
   "id": "94642eac-9548-4970-bb06-b2588550c1df",
   "metadata": {},
   "source": [
    "#### recall"
   ]
  },
  {
   "cell_type": "code",
   "execution_count": 68,
   "id": "79077949-67af-43e4-80be-5538bbe7f8d4",
   "metadata": {},
   "outputs": [
    {
     "data": {
      "text/plain": [
       "0.9947916666666666"
      ]
     },
     "execution_count": 68,
     "metadata": {},
     "output_type": "execute_result"
    }
   ],
   "source": [
    "rec = 382 / (382 + 2)\n",
    "rec"
   ]
  },
  {
   "cell_type": "markdown",
   "id": "1ac70bc7-fee5-4372-856c-6365b10300ce",
   "metadata": {},
   "source": [
    "#### f1-score"
   ]
  },
  {
   "cell_type": "code",
   "execution_count": 69,
   "id": "f18d6979-e640-408a-ac5f-714569c42243",
   "metadata": {},
   "outputs": [
    {
     "data": {
      "text/plain": [
       "0.9744897959183673"
      ]
     },
     "execution_count": 69,
     "metadata": {},
     "output_type": "execute_result"
    }
   ],
   "source": [
    "f1 = 2 * (pre * rec) / (pre + rec)\n",
    "f1"
   ]
  },
  {
   "cell_type": "markdown",
   "id": "677a0856-47c2-4593-babf-1dfcb90bcb49",
   "metadata": {},
   "source": [
    "#### support"
   ]
  },
  {
   "cell_type": "code",
   "execution_count": 70,
   "id": "d679403c-e792-4489-a463-b42d3c6e1aa1",
   "metadata": {},
   "outputs": [
    {
     "data": {
      "text/plain": [
       "384"
      ]
     },
     "execution_count": 70,
     "metadata": {},
     "output_type": "execute_result"
    }
   ],
   "source": [
    "sup = 382 + 2\n",
    "sup"
   ]
  },
  {
   "cell_type": "markdown",
   "id": "5a3c19b4-acf9-4c55-8019-eac735cddbe6",
   "metadata": {},
   "source": [
    "### validate accuracy score"
   ]
  },
  {
   "cell_type": "code",
   "execution_count": 71,
   "id": "cb9ac0d1-9521-4b0c-8b65-99baa0363a52",
   "metadata": {},
   "outputs": [
    {
     "data": {
      "text/plain": [
       "0.8432835820895522"
      ]
     },
     "execution_count": 71,
     "metadata": {},
     "output_type": "execute_result"
    }
   ],
   "source": [
    "rf.score(X_val, y_val)"
   ]
  },
  {
   "cell_type": "markdown",
   "id": "6e926388-a661-4b57-b81a-d83d8af3e6fa",
   "metadata": {},
   "source": [
    "4) Run through steps increasing your min_samples_leaf and decreasing your max_depth."
   ]
  },
  {
   "cell_type": "code",
   "execution_count": 77,
   "id": "aba5a0de-52e9-4512-8783-1f5350ae8a33",
   "metadata": {},
   "outputs": [],
   "source": [
    "seed = 42\n",
    "train_acc = []\n",
    "val_acc = []\n",
    "depth = []\n",
    "min_samples_leaf = []\n",
    "\n",
    "for i in (reversed(range(2, 5))):\n",
    "\n",
    "    for n in range(2, 5):\n",
    "\n",
    "        rf = RandomForestClassifier(max_depth = i, min_samples_leaf = n, random_state = seed)\n",
    "    \n",
    "        rf.fit(X_train, y_train)\n",
    "    \n",
    "        train_acc.append(rf.score(X_train, y_train))\n",
    "    \n",
    "        val_acc.append(rf.score(X_val, y_val))\n",
    "    \n",
    "        depth.append(i)\n",
    "\n",
    "        min_samples_leaf.append(n)"
   ]
  },
  {
   "cell_type": "code",
   "execution_count": 80,
   "id": "6c324a85-2031-45d5-a451-f8332c04a7b0",
   "metadata": {},
   "outputs": [
    {
     "data": {
      "text/html": [
       "<div>\n",
       "<style scoped>\n",
       "    .dataframe tbody tr th:only-of-type {\n",
       "        vertical-align: middle;\n",
       "    }\n",
       "\n",
       "    .dataframe tbody tr th {\n",
       "        vertical-align: top;\n",
       "    }\n",
       "\n",
       "    .dataframe thead th {\n",
       "        text-align: right;\n",
       "    }\n",
       "</style>\n",
       "<table border=\"1\" class=\"dataframe\">\n",
       "  <thead>\n",
       "    <tr style=\"text-align: right;\">\n",
       "      <th></th>\n",
       "      <th>max_depth</th>\n",
       "      <th>min_sample_leaf</th>\n",
       "      <th>train_acc</th>\n",
       "      <th>val_acc</th>\n",
       "    </tr>\n",
       "  </thead>\n",
       "  <tbody>\n",
       "    <tr>\n",
       "      <th>0</th>\n",
       "      <td>4</td>\n",
       "      <td>2</td>\n",
       "      <td>0.845907</td>\n",
       "      <td>0.828358</td>\n",
       "    </tr>\n",
       "    <tr>\n",
       "      <th>1</th>\n",
       "      <td>4</td>\n",
       "      <td>3</td>\n",
       "      <td>0.842697</td>\n",
       "      <td>0.820896</td>\n",
       "    </tr>\n",
       "    <tr>\n",
       "      <th>2</th>\n",
       "      <td>4</td>\n",
       "      <td>4</td>\n",
       "      <td>0.845907</td>\n",
       "      <td>0.843284</td>\n",
       "    </tr>\n",
       "    <tr>\n",
       "      <th>3</th>\n",
       "      <td>3</td>\n",
       "      <td>2</td>\n",
       "      <td>0.833066</td>\n",
       "      <td>0.835821</td>\n",
       "    </tr>\n",
       "    <tr>\n",
       "      <th>4</th>\n",
       "      <td>3</td>\n",
       "      <td>3</td>\n",
       "      <td>0.833066</td>\n",
       "      <td>0.835821</td>\n",
       "    </tr>\n",
       "    <tr>\n",
       "      <th>5</th>\n",
       "      <td>3</td>\n",
       "      <td>4</td>\n",
       "      <td>0.831461</td>\n",
       "      <td>0.835821</td>\n",
       "    </tr>\n",
       "    <tr>\n",
       "      <th>6</th>\n",
       "      <td>2</td>\n",
       "      <td>2</td>\n",
       "      <td>0.810594</td>\n",
       "      <td>0.820896</td>\n",
       "    </tr>\n",
       "    <tr>\n",
       "      <th>7</th>\n",
       "      <td>2</td>\n",
       "      <td>3</td>\n",
       "      <td>0.810594</td>\n",
       "      <td>0.820896</td>\n",
       "    </tr>\n",
       "    <tr>\n",
       "      <th>8</th>\n",
       "      <td>2</td>\n",
       "      <td>4</td>\n",
       "      <td>0.808989</td>\n",
       "      <td>0.820896</td>\n",
       "    </tr>\n",
       "  </tbody>\n",
       "</table>\n",
       "</div>"
      ],
      "text/plain": [
       "   max_depth  min_sample_leaf  train_acc   val_acc\n",
       "0          4                2   0.845907  0.828358\n",
       "1          4                3   0.842697  0.820896\n",
       "2          4                4   0.845907  0.843284\n",
       "3          3                2   0.833066  0.835821\n",
       "4          3                3   0.833066  0.835821\n",
       "5          3                4   0.831461  0.835821\n",
       "6          2                2   0.810594  0.820896\n",
       "7          2                3   0.810594  0.820896\n",
       "8          2                4   0.808989  0.820896"
      ]
     },
     "execution_count": 80,
     "metadata": {},
     "output_type": "execute_result"
    }
   ],
   "source": [
    "trees = pd.DataFrame({'max_depth' : depth,  'min_sample_leaf' : min_samples_leaf, 'train_acc' : train_acc, 'val_acc' : val_acc})\n",
    "trees"
   ]
  },
  {
   "cell_type": "code",
   "execution_count": 79,
   "id": "f125f024-b704-47bb-a607-9fd2326f12aa",
   "metadata": {},
   "outputs": [
    {
     "data": {
      "image/png": "[encoded data removed]",
      "text/plain": [
       "<Figure size 640x480 with 1 Axes>"
      ]
     },
     "metadata": {},
     "output_type": "display_data"
    }
   ],
   "source": [
    "plt.plot(trees.max_depth, trees.train_acc, label = 'Train')\n",
    "plt.plot(trees.max_depth, trees.val_acc, label = 'Validate')\n",
    "plt.ylabel('Accuracy')\n",
    "plt.xlabel('Max depth')\n",
    "plt.title('Accuracy as max depth increases')\n",
    "plt.legend()\n",
    "plt.show()"
   ]
  },
  {
   "cell_type": "raw",
   "id": "54506817-a74e-43d0-9851-e251b08aa5bb",
   "metadata": {},
   "source": [
    "  "
   ]
  },
  {
   "cell_type": "markdown",
   "id": "2d33f701-1ab6-4e64-bec8-2ae12343590c",
   "metadata": {},
   "source": [
    "### max_depth = 8 and min_samples_leaf = 2"
   ]
  },
  {
   "cell_type": "code",
   "execution_count": null,
   "id": "58c3402e-9adf-4187-b1e9-6a075e8e25ff",
   "metadata": {},
   "outputs": [],
   "source": [
    "#increasing min_samples_leaf to 2 and max depth to 8\n",
    "\n",
    "seed = 42\n",
    "\n",
    "rf = RandomForestClassifier(max_depth = 8, min_samples_leaf = 2, random_state = seed)\n",
    "\n",
    "rf.fit(X_train, y_train)"
   ]
  },
  {
   "cell_type": "code",
   "execution_count": null,
   "id": "56a7d048-43bd-4903-9ef8-56e037145f06",
   "metadata": {
    "scrolled": true
   },
   "outputs": [],
   "source": [
    "t_acc = rf.score(X_train, y_train)\n",
    "t_acc"
   ]
  },
  {
   "cell_type": "code",
   "execution_count": null,
   "id": "2826d8a4-f961-4ebf-8c9d-e8b8870d09ab",
   "metadata": {},
   "outputs": [],
   "source": [
    "v_acc = rf.score(X_val, y_val)\n",
    "v_acc"
   ]
  },
  {
   "cell_type": "code",
   "execution_count": null,
   "id": "0b7b127b-dcc6-4082-a404-906a6cbebfb6",
   "metadata": {},
   "outputs": [],
   "source": [
    "rf.feature_importances_"
   ]
  },
  {
   "cell_type": "code",
   "execution_count": null,
   "id": "1460ddfb-8b85-449d-8443-79e65da4da46",
   "metadata": {},
   "outputs": [],
   "source": [
    "np.array([0.15787344, 0.04309999, 0.04410571, 0.17592057, 0.0229972 ,\n",
    "       0.37413902, 0.04206108, 0.01594644, 0.07999934, 0.01521036,\n",
    "       0.00862079, 0.02002604]).sum()"
   ]
  },
  {
   "cell_type": "code",
   "execution_count": null,
   "id": "bbc5cac7-31da-4073-a081-d9d68de9a0fd",
   "metadata": {},
   "outputs": [],
   "source": [
    "fi = pd.DataFrame({'feature' : X_train.columns,\n",
    "              'importance' : rf.feature_importances_})\n",
    "\n",
    "fi.sort_values(by = 'importance', ascending = False)"
   ]
  },
  {
   "cell_type": "code",
   "execution_count": null,
   "id": "f4ba6d48-db5b-4114-9e1c-2530e23182c4",
   "metadata": {},
   "outputs": [],
   "source": [
    "seed = 42\n",
    "t_acc = []\n",
    "v_acc = []\n",
    "depth = []\n",
    "\n",
    "for i in range(2, 11):\n",
    "\n",
    "    rf = RandomForestClassifier(max_depth = i, min_samples_leaf = 2, random_state = seed)\n",
    "\n",
    "    rf.fit(X_train, y_train)\n",
    "\n",
    "    t_acc.append(rf.score(X_train, y_train))\n",
    "\n",
    "    v_acc.append(rf.score(X_val, y_val))\n",
    "\n",
    "    depth.append(i)"
   ]
  },
  {
   "cell_type": "code",
   "execution_count": null,
   "id": "35536267-b530-4e8d-963c-4a3cccb755ed",
   "metadata": {},
   "outputs": [],
   "source": [
    "trees = pd.DataFrame({'max_depth' : depth, 'train_acc' : t_acc, 'val_acc' : v_acc})\n",
    "trees"
   ]
  },
  {
   "cell_type": "code",
   "execution_count": null,
   "id": "c2cd53da-69a3-4dff-8411-3b3d9a0d24b3",
   "metadata": {},
   "outputs": [],
   "source": [
    "plt.plot(trees.max_depth, trees.train_acc, label = 'Train')\n",
    "plt.plot(trees.max_depth, trees.val_acc, label = 'Validate')\n",
    "plt.ylabel('Accuracy')\n",
    "plt.xlabel('Max depth')\n",
    "plt.title('Accuracy as max depth increases')\n",
    "plt.legend()\n",
    "plt.show()"
   ]
  },
  {
   "cell_type": "markdown",
   "id": "83126bd0-66ac-4217-bc08-5343c76dd51d",
   "metadata": {},
   "source": [
    "### model score"
   ]
  },
  {
   "cell_type": "code",
   "execution_count": null,
   "id": "73313715-0c80-4739-a448-b448047706f0",
   "metadata": {},
   "outputs": [],
   "source": [
    "#train model score\n",
    "\n",
    "rf.score(X_train, y_train)"
   ]
  },
  {
   "cell_type": "markdown",
   "id": "c4500f47-453b-4b2c-b04c-b314387acc23",
   "metadata": {},
   "source": [
    "### confusion matrix"
   ]
  },
  {
   "cell_type": "code",
   "execution_count": null,
   "id": "f18c23f4-725c-4d9d-adda-ef18efdea88b",
   "metadata": {},
   "outputs": [],
   "source": [
    "t_pred = rf.predict(X_train)\n",
    "t_pred[:5]"
   ]
  },
  {
   "cell_type": "code",
   "execution_count": null,
   "id": "ca1760c1-c817-4432-a4ee-46653720f413",
   "metadata": {},
   "outputs": [],
   "source": [
    "v_pred = rf.predict(X_val)\n",
    "v_pred[:5]"
   ]
  },
  {
   "cell_type": "code",
   "execution_count": null,
   "id": "15f597a3-f591-4878-95a5-4143a095f59d",
   "metadata": {},
   "outputs": [],
   "source": [
    "pd.crosstab(y_train, t_pred)"
   ]
  },
  {
   "cell_type": "code",
   "execution_count": null,
   "id": "072b79af-07d0-45a0-aaa2-55885cee8b85",
   "metadata": {},
   "outputs": [],
   "source": [
    "pd.crosstab(y_val, v_pred)"
   ]
  },
  {
   "cell_type": "markdown",
   "id": "ec54c976-57a3-4315-ba51-4dc983fad16e",
   "metadata": {},
   "source": [
    "### classification report"
   ]
  },
  {
   "cell_type": "code",
   "execution_count": null,
   "id": "98f0d3df-5c1c-42b5-9f38-e169d78417b8",
   "metadata": {},
   "outputs": [],
   "source": [
    "#train classification report\n",
    "\n",
    "print(classification_report(y_train, t_pred))"
   ]
  },
  {
   "cell_type": "code",
   "execution_count": null,
   "id": "794b5200-9e43-4fa6-9c0e-b95d5335d119",
   "metadata": {},
   "outputs": [],
   "source": [
    "#val classification report\n",
    "\n",
    "print(classification_report(y_val, v_pred))"
   ]
  },
  {
   "cell_type": "code",
   "execution_count": null,
   "id": "72a50851-e611-4c66-a3c7-5bfea8307d7f",
   "metadata": {},
   "outputs": [],
   "source": [
    "pd.crosstab(y_train, t_pred)"
   ]
  },
  {
   "cell_type": "markdown",
   "id": "a7311265-0727-4960-8207-8dd96e274777",
   "metadata": {},
   "source": [
    "#### accuracy"
   ]
  },
  {
   "cell_type": "code",
   "execution_count": null,
   "id": "8946230f-58e4-4c62-ba47-a7034046d720",
   "metadata": {},
   "outputs": [],
   "source": [
    "acc2 = (369 + 201) / (369 + 201 + 38 + 15)\n",
    "acc2"
   ]
  },
  {
   "cell_type": "markdown",
   "id": "6029932b-dcea-4b16-8cff-2c9568525804",
   "metadata": {},
   "source": [
    "#### true positive rate"
   ]
  },
  {
   "cell_type": "code",
   "execution_count": null,
   "id": "0d7685e7-dd8c-4316-8412-34a3b1dcf524",
   "metadata": {},
   "outputs": [],
   "source": [
    "tpr2 = 369 / (369 + 15)\n",
    "tpr2"
   ]
  },
  {
   "cell_type": "markdown",
   "id": "de5e198c-6b15-4fb6-9284-720b279f5a43",
   "metadata": {},
   "source": [
    "#### false positive rate"
   ]
  },
  {
   "cell_type": "code",
   "execution_count": null,
   "id": "d786b11f-40cc-4d80-ad13-1d09b233fc49",
   "metadata": {},
   "outputs": [],
   "source": [
    "fpr2 = 38 / (38 + 201)\n",
    "fpr2"
   ]
  },
  {
   "cell_type": "markdown",
   "id": "2358c4ac-094a-4f92-8540-bbce24b1dbaa",
   "metadata": {},
   "source": [
    "#### true negative rate"
   ]
  },
  {
   "cell_type": "code",
   "execution_count": null,
   "id": "649e406f-0d57-467d-8d3c-b6a23de6bf84",
   "metadata": {},
   "outputs": [],
   "source": [
    "tnr2 = 201 / (201 + 38)\n",
    "tnr2"
   ]
  },
  {
   "cell_type": "markdown",
   "id": "b0c31adb-48af-4c47-9d5b-0b03c806fd8a",
   "metadata": {},
   "source": [
    "#### false negative rate"
   ]
  },
  {
   "cell_type": "code",
   "execution_count": null,
   "id": "fe62162f-ad80-47b4-8ffb-0438e982557d",
   "metadata": {},
   "outputs": [],
   "source": [
    "fnr2 = 15 / (15 + 369)\n",
    "fnr2"
   ]
  },
  {
   "cell_type": "markdown",
   "id": "962c499d-9744-4e4e-9d40-ce731168c229",
   "metadata": {},
   "source": [
    "#### precision"
   ]
  },
  {
   "cell_type": "code",
   "execution_count": null,
   "id": "53f15147-e563-446d-906c-ee9b6b3e9355",
   "metadata": {},
   "outputs": [],
   "source": [
    "pre2 = 369 / (369 + 38)\n",
    "pre2"
   ]
  },
  {
   "cell_type": "markdown",
   "id": "f7a7a744-112b-412e-8001-bd3f79b7d6a0",
   "metadata": {},
   "source": [
    "#### recall"
   ]
  },
  {
   "cell_type": "code",
   "execution_count": null,
   "id": "d9b5d25a-6531-48a2-91f9-b3d88071dd92",
   "metadata": {},
   "outputs": [],
   "source": [
    "rec2 = 369 / (369 + 15)\n",
    "rec2"
   ]
  },
  {
   "cell_type": "code",
   "execution_count": null,
   "id": "2c761f7e-06ba-46c9-94f3-f8fd3462b027",
   "metadata": {},
   "outputs": [],
   "source": [
    "f1_2 = 2 * (pre * rec) / (pre + rec)\n",
    "f1_2"
   ]
  },
  {
   "cell_type": "markdown",
   "id": "70e20533-c541-4dfc-b8dd-f6d2669dc2c8",
   "metadata": {},
   "source": [
    "#### support"
   ]
  },
  {
   "cell_type": "code",
   "execution_count": null,
   "id": "06ffadfd-16d0-41cd-8415-7a8289d274a8",
   "metadata": {},
   "outputs": [],
   "source": [
    "sup2 = 369 + 15\n",
    "sup2"
   ]
  },
  {
   "cell_type": "markdown",
   "id": "492d11c7-70c2-4814-ac8e-d83ea4d09b15",
   "metadata": {},
   "source": [
    "### validate accuracy"
   ]
  },
  {
   "cell_type": "code",
   "execution_count": null,
   "id": "fbf08d75-1157-49a9-81f2-59118057a91a",
   "metadata": {},
   "outputs": [],
   "source": [
    "#val model score\n",
    "\n",
    "rf.score(X_val, y_val)"
   ]
  },
  {
   "cell_type": "markdown",
   "id": "11d1f51d-a78b-4a9e-8f75-b7ee05bb49aa",
   "metadata": {},
   "source": [
    "5) What are the differences in the evaluation metrics? Which performs better on your in-sample data? Why?"
   ]
  },
  {
   "cell_type": "code",
   "execution_count": null,
   "id": "4fa25a51-aa0a-4d27-b2da-397095d86669",
   "metadata": {},
   "outputs": [],
   "source": [
    "data = {\n",
    "    '': ['accuracy', 'tpr', 'fpr', 'tnr', 'fnr', 'pre', 'rec', 'f1'] ,\n",
    "    '1st_model': [acc, tpr, fpr, tnr, fnr, pre, rec, f1],\n",
    "    '2nd_model': [acc2, tpr2, fpr2, tnr2, fnr2, pre2, rec2, f1_2], \n",
    "}\n",
    "\n",
    "model = round(pd.DataFrame(data),2)\n",
    "model.set_index('', inplace=True)\n",
    "model['Difference'] = model['1st_model'] - model['2nd_model']"
   ]
  },
  {
   "cell_type": "code",
   "execution_count": null,
   "id": "cf2f75e1-2b74-48d7-9fb7-548755ea9470",
   "metadata": {
    "scrolled": true
   },
   "outputs": [],
   "source": [
    "model"
   ]
  },
  {
   "cell_type": "code",
   "execution_count": null,
   "id": "07f76e82-c519-4546-b25d-26081ed8bf79",
   "metadata": {},
   "outputs": [],
   "source": []
  },
  {
   "cell_type": "code",
   "execution_count": null,
   "id": "b1231c7a-7f36-417e-857f-ffc7acdd6d09",
   "metadata": {},
   "outputs": [],
   "source": []
  },
  {
   "cell_type": "code",
   "execution_count": null,
   "id": "7ea7f658-2364-4f9c-9bd7-b9c103880866",
   "metadata": {},
   "outputs": [],
   "source": []
  },
  {
   "cell_type": "code",
   "execution_count": null,
   "id": "43b694d1-e7bd-45af-992a-f6282c90ac6f",
   "metadata": {},
   "outputs": [],
   "source": []
  },
  {
   "cell_type": "code",
   "execution_count": null,
   "id": "158894be-444a-4042-ba4f-8e4500fe6658",
   "metadata": {},
   "outputs": [],
   "source": []
  },
  {
   "cell_type": "code",
   "execution_count": null,
   "id": "cab4bf97-e5e8-4e1a-9a24-d185827ac4f4",
   "metadata": {},
   "outputs": [],
   "source": []
  }
 ],
 "metadata": {
  "kernelspec": {
   "display_name": "Python 3 (ipykernel)",
   "language": "python",
   "name": "python3"
  },
  "language_info": {
   "codemirror_mode": {
    "name": "ipython",
    "version": 3
   },
   "file_extension": ".py",
   "mimetype": "text/x-python",
   "name": "python",
   "nbconvert_exporter": "python",
   "pygments_lexer": "ipython3",
   "version": "3.10.12"
  }
 },
 "nbformat": 4,
 "nbformat_minor": 5
}
